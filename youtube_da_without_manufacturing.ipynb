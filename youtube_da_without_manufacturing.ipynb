{
 "cells": [
  {
   "cell_type": "markdown",
   "metadata": {
    "id": "1sG971tPeUHL"
   },
   "source": [
    "# 데이터 불러오기"
   ]
  },
  {
   "cell_type": "code",
   "execution_count": 1,
   "metadata": {
    "colab": {
     "base_uri": "https://localhost:8080/"
    },
    "executionInfo": {
     "elapsed": 20780,
     "status": "ok",
     "timestamp": 1718856043522,
     "user": {
      "displayName": "(빅데이터트랙)조성현",
      "userId": "18113896222475999779"
     },
     "user_tz": -540
    },
    "id": "PcVkwvi8elQW",
    "outputId": "e2d60ba0-8aa9-4554-e124-6dcd2b61c242"
   },
   "outputs": [],
   "source": [
    "# from google.colab import drive\n",
    "# drive.mount('/content/drive')"
   ]
  },
  {
   "cell_type": "code",
   "execution_count": 2,
   "metadata": {
    "colab": {
     "base_uri": "https://localhost:8080/",
     "height": 300
    },
    "executionInfo": {
     "elapsed": 7133,
     "status": "ok",
     "timestamp": 1718804022451,
     "user": {
      "displayName": "(빅데이터트랙)조성현",
      "userId": "18113896222475999779"
     },
     "user_tz": -540
    },
    "id": "8Fu3nys6eUHM",
    "outputId": "80d1cd6c-b415-41c9-eeb8-b4f4017b9f55"
   },
   "outputs": [
    {
     "data": {
      "text/html": [
       "<div>\n",
       "<style scoped>\n",
       "    .dataframe tbody tr th:only-of-type {\n",
       "        vertical-align: middle;\n",
       "    }\n",
       "\n",
       "    .dataframe tbody tr th {\n",
       "        vertical-align: top;\n",
       "    }\n",
       "\n",
       "    .dataframe thead th {\n",
       "        text-align: right;\n",
       "    }\n",
       "</style>\n",
       "<table border=\"1\" class=\"dataframe\">\n",
       "  <thead>\n",
       "    <tr style=\"text-align: right;\">\n",
       "      <th></th>\n",
       "      <th>video_id</th>\n",
       "      <th>title</th>\n",
       "      <th>publishedAt</th>\n",
       "      <th>channelId</th>\n",
       "      <th>channelTitle</th>\n",
       "      <th>categoryId</th>\n",
       "      <th>trending_date</th>\n",
       "      <th>tags</th>\n",
       "      <th>view_count</th>\n",
       "      <th>likes</th>\n",
       "      <th>dislikes</th>\n",
       "      <th>comment_count</th>\n",
       "      <th>thumbnail_link</th>\n",
       "      <th>comments_disabled</th>\n",
       "      <th>ratings_disabled</th>\n",
       "      <th>description</th>\n",
       "    </tr>\n",
       "  </thead>\n",
       "  <tbody>\n",
       "    <tr>\n",
       "      <th>0</th>\n",
       "      <td>uq5LClQN3cE</td>\n",
       "      <td>안녕하세요 보겸입니다</td>\n",
       "      <td>2020-08-09T09:32:48Z</td>\n",
       "      <td>UCu9BCtGIEr73LXZsKmoujKw</td>\n",
       "      <td>보겸 BK</td>\n",
       "      <td>24</td>\n",
       "      <td>2020-08-12T00:00:00Z</td>\n",
       "      <td>보겸|bokyem</td>\n",
       "      <td>5947503</td>\n",
       "      <td>53326</td>\n",
       "      <td>105756</td>\n",
       "      <td>139946</td>\n",
       "      <td>https://i.ytimg.com/vi/uq5LClQN3cE/default.jpg</td>\n",
       "      <td>False</td>\n",
       "      <td>False</td>\n",
       "      <td>NaN</td>\n",
       "    </tr>\n",
       "    <tr>\n",
       "      <th>1</th>\n",
       "      <td>I-ZbZCHsHD0</td>\n",
       "      <td>부락토스의 계획 [총몇명 프리퀄]</td>\n",
       "      <td>2020-08-12T09:00:08Z</td>\n",
       "      <td>UCRuSxVu4iqTK5kCh90ntAgA</td>\n",
       "      <td>총몇명</td>\n",
       "      <td>1</td>\n",
       "      <td>2020-08-12T00:00:00Z</td>\n",
       "      <td>총몇명|재밌는 만화|부락토스|루시퍼|총몇명 프리퀄|총몇명 스토리</td>\n",
       "      <td>963384</td>\n",
       "      <td>28244</td>\n",
       "      <td>494</td>\n",
       "      <td>3339</td>\n",
       "      <td>https://i.ytimg.com/vi/I-ZbZCHsHD0/default.jpg</td>\n",
       "      <td>False</td>\n",
       "      <td>False</td>\n",
       "      <td>오늘도 정말 감사드립니다!!총몇명 스튜디오 - 총몇명, 십제곱, 5G민, MOVE혁...</td>\n",
       "    </tr>\n",
       "    <tr>\n",
       "      <th>2</th>\n",
       "      <td>9d7jNUjBoss</td>\n",
       "      <td>평생 반성하면서 살겠습니다.</td>\n",
       "      <td>2020-08-10T09:54:13Z</td>\n",
       "      <td>UCMVC92EOs9yDJG5JS-CMesQ</td>\n",
       "      <td>양팡 YangPang</td>\n",
       "      <td>22</td>\n",
       "      <td>2020-08-12T00:00:00Z</td>\n",
       "      <td>양팡|양팡유튜브|팡튜브|가족시트콤|양팡가족|양팡가족시트콤|양팡언니|현실남매|현실자매...</td>\n",
       "      <td>2950885</td>\n",
       "      <td>17974</td>\n",
       "      <td>68898</td>\n",
       "      <td>50688</td>\n",
       "      <td>https://i.ytimg.com/vi/9d7jNUjBoss/default.jpg</td>\n",
       "      <td>False</td>\n",
       "      <td>False</td>\n",
       "      <td>NaN</td>\n",
       "    </tr>\n",
       "  </tbody>\n",
       "</table>\n",
       "</div>"
      ],
      "text/plain": [
       "      video_id               title           publishedAt  \\\n",
       "0  uq5LClQN3cE         안녕하세요 보겸입니다  2020-08-09T09:32:48Z   \n",
       "1  I-ZbZCHsHD0  부락토스의 계획 [총몇명 프리퀄]  2020-08-12T09:00:08Z   \n",
       "2  9d7jNUjBoss     평생 반성하면서 살겠습니다.  2020-08-10T09:54:13Z   \n",
       "\n",
       "                  channelId channelTitle  categoryId         trending_date  \\\n",
       "0  UCu9BCtGIEr73LXZsKmoujKw        보겸 BK          24  2020-08-12T00:00:00Z   \n",
       "1  UCRuSxVu4iqTK5kCh90ntAgA          총몇명           1  2020-08-12T00:00:00Z   \n",
       "2  UCMVC92EOs9yDJG5JS-CMesQ  양팡 YangPang          22  2020-08-12T00:00:00Z   \n",
       "\n",
       "                                                tags  view_count  likes  \\\n",
       "0                                          보겸|bokyem     5947503  53326   \n",
       "1                총몇명|재밌는 만화|부락토스|루시퍼|총몇명 프리퀄|총몇명 스토리      963384  28244   \n",
       "2  양팡|양팡유튜브|팡튜브|가족시트콤|양팡가족|양팡가족시트콤|양팡언니|현실남매|현실자매...     2950885  17974   \n",
       "\n",
       "   dislikes  comment_count                                  thumbnail_link  \\\n",
       "0    105756         139946  https://i.ytimg.com/vi/uq5LClQN3cE/default.jpg   \n",
       "1       494           3339  https://i.ytimg.com/vi/I-ZbZCHsHD0/default.jpg   \n",
       "2     68898          50688  https://i.ytimg.com/vi/9d7jNUjBoss/default.jpg   \n",
       "\n",
       "   comments_disabled  ratings_disabled  \\\n",
       "0              False             False   \n",
       "1              False             False   \n",
       "2              False             False   \n",
       "\n",
       "                                         description  \n",
       "0                                                NaN  \n",
       "1  오늘도 정말 감사드립니다!!총몇명 스튜디오 - 총몇명, 십제곱, 5G민, MOVE혁...  \n",
       "2                                                NaN  "
      ]
     },
     "execution_count": 2,
     "metadata": {},
     "output_type": "execute_result"
    }
   ],
   "source": [
    "import pandas as pd       # pandas library 불러내기\n",
    "import numpy as np        # numpy library 불러내기\n",
    "\n",
    "#pd.set_option('display.max_columns', None)   # 결과물로 보여주는 열 갯수 최대화\n",
    "#pd.set_option('display.max_rows', None)      # 결과물로 보여주는 행 갯수 최대화\n",
    "\n",
    "#df = pd.read_csv('/content/drive/MyDrive/Colab Notebooks/Project/KR_youtube_trending_data.csv')\n",
    "df = pd.read_csv('./KR_youtube_trending_data.csv')\n",
    "                                             # 데이터파일을 불러와서 데이터프레임(df)에 저장\n",
    "df.head(3)                                   # 데이터프레임(df)를 3행까기 보여주기"
   ]
  },
  {
   "cell_type": "code",
   "execution_count": 3,
   "metadata": {
    "colab": {
     "base_uri": "https://localhost:8080/"
    },
    "executionInfo": {
     "elapsed": 7,
     "status": "ok",
     "timestamp": 1718804022451,
     "user": {
      "displayName": "(빅데이터트랙)조성현",
      "userId": "18113896222475999779"
     },
     "user_tz": -540
    },
    "id": "He5LEnyPeUHO",
    "outputId": "15d2832d-b638-40ee-afa6-9ce5b20a7d11"
   },
   "outputs": [
    {
     "data": {
      "text/plain": [
       "(261954, 16)"
      ]
     },
     "execution_count": 3,
     "metadata": {},
     "output_type": "execute_result"
    }
   ],
   "source": [
    "df.shape"
   ]
  },
  {
   "cell_type": "code",
   "execution_count": 4,
   "metadata": {
    "colab": {
     "base_uri": "https://localhost:8080/"
    },
    "executionInfo": {
     "elapsed": 6,
     "status": "ok",
     "timestamp": 1718804022451,
     "user": {
      "displayName": "(빅데이터트랙)조성현",
      "userId": "18113896222475999779"
     },
     "user_tz": -540
    },
    "id": "dWJSmuMReUHP",
    "outputId": "4c7a91d6-9726-44e5-bebc-6d4fee56bfbb"
   },
   "outputs": [
    {
     "name": "stdout",
     "output_type": "stream",
     "text": [
      "<class 'pandas.core.frame.DataFrame'>\n",
      "RangeIndex: 261954 entries, 0 to 261953\n",
      "Data columns (total 16 columns):\n",
      " #   Column             Non-Null Count   Dtype \n",
      "---  ------             --------------   ----- \n",
      " 0   video_id           261954 non-null  object\n",
      " 1   title              261954 non-null  object\n",
      " 2   publishedAt        261954 non-null  object\n",
      " 3   channelId          261954 non-null  object\n",
      " 4   channelTitle       261954 non-null  object\n",
      " 5   categoryId         261954 non-null  int64 \n",
      " 6   trending_date      261954 non-null  object\n",
      " 7   tags               261954 non-null  object\n",
      " 8   view_count         261954 non-null  int64 \n",
      " 9   likes              261954 non-null  int64 \n",
      " 10  dislikes           261954 non-null  int64 \n",
      " 11  comment_count      261954 non-null  int64 \n",
      " 12  thumbnail_link     261954 non-null  object\n",
      " 13  comments_disabled  261954 non-null  bool  \n",
      " 14  ratings_disabled   261954 non-null  bool  \n",
      " 15  description        257197 non-null  object\n",
      "dtypes: bool(2), int64(5), object(9)\n",
      "memory usage: 28.5+ MB\n"
     ]
    }
   ],
   "source": [
    "df.info()"
   ]
  },
  {
   "cell_type": "markdown",
   "metadata": {
    "id": "qQfCW4ZmeUHP"
   },
   "source": [
    "# ID 변수 설정"
   ]
  },
  {
   "cell_type": "code",
   "execution_count": 5,
   "metadata": {
    "colab": {
     "base_uri": "https://localhost:8080/"
    },
    "executionInfo": {
     "elapsed": 5,
     "status": "ok",
     "timestamp": 1718804022451,
     "user": {
      "displayName": "(빅데이터트랙)조성현",
      "userId": "18113896222475999779"
     },
     "user_tz": -540
    },
    "id": "WepQpo08CTcK",
    "outputId": "7800bd15-8663-4b02-da6c-cd0ff7c5e5f2"
   },
   "outputs": [
    {
     "data": {
      "text/plain": [
       "233996"
      ]
     },
     "execution_count": 5,
     "metadata": {},
     "output_type": "execute_result"
    }
   ],
   "source": [
    "# ID 변수: video_id\n",
    "df['video_id'].duplicated().sum()"
   ]
  },
  {
   "cell_type": "code",
   "execution_count": 6,
   "metadata": {
    "id": "75UzSXVNnSGc"
   },
   "outputs": [],
   "source": [
    "df.drop_duplicates(subset=['video_id'], keep='first', inplace=True)"
   ]
  },
  {
   "cell_type": "code",
   "execution_count": 7,
   "metadata": {
    "colab": {
     "base_uri": "https://localhost:8080/"
    },
    "executionInfo": {
     "elapsed": 3,
     "status": "ok",
     "timestamp": 1718804022451,
     "user": {
      "displayName": "(빅데이터트랙)조성현",
      "userId": "18113896222475999779"
     },
     "user_tz": -540
    },
    "id": "jhefHUOasaTt",
    "outputId": "fbe0657d-4fd2-401d-9fc4-90da9922eeb8"
   },
   "outputs": [
    {
     "data": {
      "text/plain": [
       "0"
      ]
     },
     "execution_count": 7,
     "metadata": {},
     "output_type": "execute_result"
    }
   ],
   "source": [
    "df['video_id'].duplicated().sum()"
   ]
  },
  {
   "cell_type": "code",
   "execution_count": 8,
   "metadata": {
    "colab": {
     "base_uri": "https://localhost:8080/"
    },
    "executionInfo": {
     "elapsed": 3,
     "status": "ok",
     "timestamp": 1718804022451,
     "user": {
      "displayName": "(빅데이터트랙)조성현",
      "userId": "18113896222475999779"
     },
     "user_tz": -540
    },
    "id": "4s6QQjkmeUHR",
    "outputId": "81836842-916b-40e5-f44c-ea3c27e5523f"
   },
   "outputs": [
    {
     "data": {
      "text/plain": [
       "(27958, 16)"
      ]
     },
     "execution_count": 8,
     "metadata": {},
     "output_type": "execute_result"
    }
   ],
   "source": [
    "df.shape"
   ]
  },
  {
   "cell_type": "markdown",
   "metadata": {
    "id": "6NRHYvIFeUHS"
   },
   "source": [
    "# 타겟변수 생성"
   ]
  },
  {
   "cell_type": "code",
   "execution_count": 9,
   "metadata": {
    "colab": {
     "base_uri": "https://localhost:8080/"
    },
    "executionInfo": {
     "elapsed": 9,
     "status": "ok",
     "timestamp": 1718804023341,
     "user": {
      "displayName": "(빅데이터트랙)조성현",
      "userId": "18113896222475999779"
     },
     "user_tz": -540
    },
    "id": "aBPPMXVZeUHT",
    "outputId": "ffa16518-14d9-425b-c174-88e828a3235e"
   },
   "outputs": [
    {
     "data": {
      "text/plain": [
       "dtype('int64')"
      ]
     },
     "execution_count": 9,
     "metadata": {},
     "output_type": "execute_result"
    }
   ],
   "source": [
    "# 타깃 변수: view_count\n",
    "df['view_count'].dtype"
   ]
  },
  {
   "cell_type": "code",
   "execution_count": 10,
   "metadata": {
    "colab": {
     "base_uri": "https://localhost:8080/"
    },
    "executionInfo": {
     "elapsed": 8,
     "status": "ok",
     "timestamp": 1718804023341,
     "user": {
      "displayName": "(빅데이터트랙)조성현",
      "userId": "18113896222475999779"
     },
     "user_tz": -540
    },
    "id": "LvahG3s0eUHT",
    "outputId": "f97c0a3f-1612-41a9-f0a4-fe95218203bc",
    "scrolled": true
   },
   "outputs": [
    {
     "data": {
      "text/plain": [
       "0"
      ]
     },
     "execution_count": 10,
     "metadata": {},
     "output_type": "execute_result"
    }
   ],
   "source": [
    "df['view_count'].isnull().sum()"
   ]
  },
  {
   "cell_type": "code",
   "execution_count": 11,
   "metadata": {
    "colab": {
     "base_uri": "https://localhost:8080/"
    },
    "executionInfo": {
     "elapsed": 306,
     "status": "ok",
     "timestamp": 1718804041003,
     "user": {
      "displayName": "(빅데이터트랙)조성현",
      "userId": "18113896222475999779"
     },
     "user_tz": -540
    },
    "id": "aM_ciMm3siRX",
    "outputId": "33738253-b621-45a8-929a-ad58366ae06d"
   },
   "outputs": [
    {
     "name": "stdout",
     "output_type": "stream",
     "text": [
      "358972.5\n",
      "\n",
      "view_count_B\n",
      "1.0    13979\n",
      "0.0    13979\n",
      "Name: count, dtype: int64\n",
      "\n",
      "view_count_B\n",
      "1.0    0.5\n",
      "0.0    0.5\n",
      "Name: proportion, dtype: float64\n"
     ]
    }
   ],
   "source": [
    "print(df['view_count'].median())\n",
    "\n",
    "view_count_median = df['view_count'].median()\n",
    "\n",
    "df.loc[df['view_count'] >= view_count_median, \"view_count_B\"] = 1\n",
    "df.loc[df['view_count'] <  view_count_median, \"view_count_B\"] = 0\n",
    "\n",
    "print()\n",
    "print(df['view_count_B'].value_counts(dropna=False))\n",
    "print()\n",
    "print(df['view_count_B'].value_counts(dropna=False, normalize=True))"
   ]
  },
  {
   "cell_type": "markdown",
   "metadata": {
    "id": "lkNS6ggMeUHU"
   },
   "source": [
    "# 기타 변수 데이터 처리"
   ]
  },
  {
   "cell_type": "code",
   "execution_count": 12,
   "metadata": {
    "colab": {
     "base_uri": "https://localhost:8080/"
    },
    "executionInfo": {
     "elapsed": 359,
     "status": "ok",
     "timestamp": 1718804157465,
     "user": {
      "displayName": "(빅데이터트랙)조성현",
      "userId": "18113896222475999779"
     },
     "user_tz": -540
    },
    "id": "PdGO9lxpzyFd",
    "outputId": "f62ee798-2e26-45f6-a1b3-0adae7c21efa"
   },
   "outputs": [
    {
     "name": "stdout",
     "output_type": "stream",
     "text": [
      "<class 'pandas.core.frame.DataFrame'>\n",
      "Index: 27958 entries, 0 to 261814\n",
      "Data columns (total 17 columns):\n",
      " #   Column             Non-Null Count  Dtype  \n",
      "---  ------             --------------  -----  \n",
      " 0   video_id           27958 non-null  object \n",
      " 1   title              27958 non-null  object \n",
      " 2   publishedAt        27958 non-null  object \n",
      " 3   channelId          27958 non-null  object \n",
      " 4   channelTitle       27958 non-null  object \n",
      " 5   categoryId         27958 non-null  int64  \n",
      " 6   trending_date      27958 non-null  object \n",
      " 7   tags               27958 non-null  object \n",
      " 8   view_count         27958 non-null  int64  \n",
      " 9   likes              27958 non-null  int64  \n",
      " 10  dislikes           27958 non-null  int64  \n",
      " 11  comment_count      27958 non-null  int64  \n",
      " 12  thumbnail_link     27958 non-null  object \n",
      " 13  comments_disabled  27958 non-null  bool   \n",
      " 14  ratings_disabled   27958 non-null  bool   \n",
      " 15  description        27389 non-null  object \n",
      " 16  view_count_B       27958 non-null  float64\n",
      "dtypes: bool(2), float64(1), int64(5), object(9)\n",
      "memory usage: 3.5+ MB\n"
     ]
    }
   ],
   "source": [
    "df.info()"
   ]
  },
  {
   "cell_type": "code",
   "execution_count": 13,
   "metadata": {
    "colab": {
     "base_uri": "https://localhost:8080/",
     "height": 747
    },
    "executionInfo": {
     "elapsed": 1119,
     "status": "ok",
     "timestamp": 1718804158925,
     "user": {
      "displayName": "(빅데이터트랙)조성현",
      "userId": "18113896222475999779"
     },
     "user_tz": -540
    },
    "id": "xaU12z0ORg-X",
    "outputId": "40904d28-2e9d-434a-9944-80d24acf6df1"
   },
   "outputs": [
    {
     "data": {
      "text/html": [
       "<div>\n",
       "<style scoped>\n",
       "    .dataframe tbody tr th:only-of-type {\n",
       "        vertical-align: middle;\n",
       "    }\n",
       "\n",
       "    .dataframe tbody tr th {\n",
       "        vertical-align: top;\n",
       "    }\n",
       "\n",
       "    .dataframe thead th {\n",
       "        text-align: right;\n",
       "    }\n",
       "</style>\n",
       "<table border=\"1\" class=\"dataframe\">\n",
       "  <thead>\n",
       "    <tr style=\"text-align: right;\">\n",
       "      <th></th>\n",
       "      <th>video_id</th>\n",
       "      <th>title</th>\n",
       "      <th>publishedAt</th>\n",
       "      <th>channelId</th>\n",
       "      <th>channelTitle</th>\n",
       "      <th>categoryId</th>\n",
       "      <th>trending_date</th>\n",
       "      <th>tags</th>\n",
       "      <th>view_count</th>\n",
       "      <th>likes</th>\n",
       "      <th>dislikes</th>\n",
       "      <th>comment_count</th>\n",
       "      <th>thumbnail_link</th>\n",
       "      <th>comments_disabled</th>\n",
       "      <th>ratings_disabled</th>\n",
       "      <th>description</th>\n",
       "      <th>view_count_B</th>\n",
       "      <th>description_B</th>\n",
       "    </tr>\n",
       "  </thead>\n",
       "  <tbody>\n",
       "    <tr>\n",
       "      <th>0</th>\n",
       "      <td>uq5LClQN3cE</td>\n",
       "      <td>안녕하세요 보겸입니다</td>\n",
       "      <td>2020-08-09T09:32:48Z</td>\n",
       "      <td>UCu9BCtGIEr73LXZsKmoujKw</td>\n",
       "      <td>보겸 BK</td>\n",
       "      <td>24</td>\n",
       "      <td>2020-08-12T00:00:00Z</td>\n",
       "      <td>보겸|bokyem</td>\n",
       "      <td>5947503</td>\n",
       "      <td>53326</td>\n",
       "      <td>105756</td>\n",
       "      <td>139946</td>\n",
       "      <td>https://i.ytimg.com/vi/uq5LClQN3cE/default.jpg</td>\n",
       "      <td>False</td>\n",
       "      <td>False</td>\n",
       "      <td>NaN</td>\n",
       "      <td>1.0</td>\n",
       "      <td>0.0</td>\n",
       "    </tr>\n",
       "    <tr>\n",
       "      <th>1</th>\n",
       "      <td>I-ZbZCHsHD0</td>\n",
       "      <td>부락토스의 계획 [총몇명 프리퀄]</td>\n",
       "      <td>2020-08-12T09:00:08Z</td>\n",
       "      <td>UCRuSxVu4iqTK5kCh90ntAgA</td>\n",
       "      <td>총몇명</td>\n",
       "      <td>1</td>\n",
       "      <td>2020-08-12T00:00:00Z</td>\n",
       "      <td>총몇명|재밌는 만화|부락토스|루시퍼|총몇명 프리퀄|총몇명 스토리</td>\n",
       "      <td>963384</td>\n",
       "      <td>28244</td>\n",
       "      <td>494</td>\n",
       "      <td>3339</td>\n",
       "      <td>https://i.ytimg.com/vi/I-ZbZCHsHD0/default.jpg</td>\n",
       "      <td>False</td>\n",
       "      <td>False</td>\n",
       "      <td>오늘도 정말 감사드립니다!!총몇명 스튜디오 - 총몇명, 십제곱, 5G민, MOVE혁...</td>\n",
       "      <td>1.0</td>\n",
       "      <td>1.0</td>\n",
       "    </tr>\n",
       "    <tr>\n",
       "      <th>2</th>\n",
       "      <td>9d7jNUjBoss</td>\n",
       "      <td>평생 반성하면서 살겠습니다.</td>\n",
       "      <td>2020-08-10T09:54:13Z</td>\n",
       "      <td>UCMVC92EOs9yDJG5JS-CMesQ</td>\n",
       "      <td>양팡 YangPang</td>\n",
       "      <td>22</td>\n",
       "      <td>2020-08-12T00:00:00Z</td>\n",
       "      <td>양팡|양팡유튜브|팡튜브|가족시트콤|양팡가족|양팡가족시트콤|양팡언니|현실남매|현실자매...</td>\n",
       "      <td>2950885</td>\n",
       "      <td>17974</td>\n",
       "      <td>68898</td>\n",
       "      <td>50688</td>\n",
       "      <td>https://i.ytimg.com/vi/9d7jNUjBoss/default.jpg</td>\n",
       "      <td>False</td>\n",
       "      <td>False</td>\n",
       "      <td>NaN</td>\n",
       "      <td>1.0</td>\n",
       "      <td>0.0</td>\n",
       "    </tr>\n",
       "    <tr>\n",
       "      <th>3</th>\n",
       "      <td>3pI_L3-sMVg</td>\n",
       "      <td>안녕하세요 꽈뚜룹입니다.</td>\n",
       "      <td>2020-08-11T15:00:58Z</td>\n",
       "      <td>UCkQCwnkQfgSuPTTnw_Y7v7w</td>\n",
       "      <td>꽈뚜룹 Quaddurup</td>\n",
       "      <td>24</td>\n",
       "      <td>2020-08-12T00:00:00Z</td>\n",
       "      <td>꽈뚜룹|한국여행기|quaddurup|뚜룹이|korea|southkorea|vlog|...</td>\n",
       "      <td>1743374</td>\n",
       "      <td>36893</td>\n",
       "      <td>1798</td>\n",
       "      <td>8751</td>\n",
       "      <td>https://i.ytimg.com/vi/3pI_L3-sMVg/default.jpg</td>\n",
       "      <td>False</td>\n",
       "      <td>False</td>\n",
       "      <td>앞으로 좀 더 깔끔한 영상제작 약속 드리겠습니다.늘 감사드립니다</td>\n",
       "      <td>1.0</td>\n",
       "      <td>1.0</td>\n",
       "    </tr>\n",
       "    <tr>\n",
       "      <th>4</th>\n",
       "      <td>zrsBjYukE8s</td>\n",
       "      <td>박진영 (J.Y. Park) When We Disco (Duet with 선미) M/V</td>\n",
       "      <td>2020-08-11T09:00:13Z</td>\n",
       "      <td>UCaO6TYtlC8U5ttz62hTrZgg</td>\n",
       "      <td>JYP Entertainment</td>\n",
       "      <td>10</td>\n",
       "      <td>2020-08-12T00:00:00Z</td>\n",
       "      <td>JYP Entertainment|JYP|J.Y.Park|JYPark|박진영|선미|S...</td>\n",
       "      <td>3433885</td>\n",
       "      <td>353337</td>\n",
       "      <td>9763</td>\n",
       "      <td>23405</td>\n",
       "      <td>https://i.ytimg.com/vi/zrsBjYukE8s/default.jpg</td>\n",
       "      <td>False</td>\n",
       "      <td>False</td>\n",
       "      <td>MelOn http://kko.to/TWyXd7zYjSpotify https://s...</td>\n",
       "      <td>1.0</td>\n",
       "      <td>1.0</td>\n",
       "    </tr>\n",
       "  </tbody>\n",
       "</table>\n",
       "</div>"
      ],
      "text/plain": [
       "      video_id                                             title  \\\n",
       "0  uq5LClQN3cE                                       안녕하세요 보겸입니다   \n",
       "1  I-ZbZCHsHD0                                부락토스의 계획 [총몇명 프리퀄]   \n",
       "2  9d7jNUjBoss                                   평생 반성하면서 살겠습니다.   \n",
       "3  3pI_L3-sMVg                              안녕하세요 꽈뚜룹입니다.   \n",
       "4  zrsBjYukE8s  박진영 (J.Y. Park) When We Disco (Duet with 선미) M/V   \n",
       "\n",
       "            publishedAt                 channelId       channelTitle  \\\n",
       "0  2020-08-09T09:32:48Z  UCu9BCtGIEr73LXZsKmoujKw              보겸 BK   \n",
       "1  2020-08-12T09:00:08Z  UCRuSxVu4iqTK5kCh90ntAgA                총몇명   \n",
       "2  2020-08-10T09:54:13Z  UCMVC92EOs9yDJG5JS-CMesQ        양팡 YangPang   \n",
       "3  2020-08-11T15:00:58Z  UCkQCwnkQfgSuPTTnw_Y7v7w      꽈뚜룹 Quaddurup   \n",
       "4  2020-08-11T09:00:13Z  UCaO6TYtlC8U5ttz62hTrZgg  JYP Entertainment   \n",
       "\n",
       "   categoryId         trending_date  \\\n",
       "0          24  2020-08-12T00:00:00Z   \n",
       "1           1  2020-08-12T00:00:00Z   \n",
       "2          22  2020-08-12T00:00:00Z   \n",
       "3          24  2020-08-12T00:00:00Z   \n",
       "4          10  2020-08-12T00:00:00Z   \n",
       "\n",
       "                                                tags  view_count   likes  \\\n",
       "0                                          보겸|bokyem     5947503   53326   \n",
       "1                총몇명|재밌는 만화|부락토스|루시퍼|총몇명 프리퀄|총몇명 스토리      963384   28244   \n",
       "2  양팡|양팡유튜브|팡튜브|가족시트콤|양팡가족|양팡가족시트콤|양팡언니|현실남매|현실자매...     2950885   17974   \n",
       "3  꽈뚜룹|한국여행기|quaddurup|뚜룹이|korea|southkorea|vlog|...     1743374   36893   \n",
       "4  JYP Entertainment|JYP|J.Y.Park|JYPark|박진영|선미|S...     3433885  353337   \n",
       "\n",
       "   dislikes  comment_count                                  thumbnail_link  \\\n",
       "0    105756         139946  https://i.ytimg.com/vi/uq5LClQN3cE/default.jpg   \n",
       "1       494           3339  https://i.ytimg.com/vi/I-ZbZCHsHD0/default.jpg   \n",
       "2     68898          50688  https://i.ytimg.com/vi/9d7jNUjBoss/default.jpg   \n",
       "3      1798           8751  https://i.ytimg.com/vi/3pI_L3-sMVg/default.jpg   \n",
       "4      9763          23405  https://i.ytimg.com/vi/zrsBjYukE8s/default.jpg   \n",
       "\n",
       "   comments_disabled  ratings_disabled  \\\n",
       "0              False             False   \n",
       "1              False             False   \n",
       "2              False             False   \n",
       "3              False             False   \n",
       "4              False             False   \n",
       "\n",
       "                                         description  view_count_B  \\\n",
       "0                                                NaN           1.0   \n",
       "1  오늘도 정말 감사드립니다!!총몇명 스튜디오 - 총몇명, 십제곱, 5G민, MOVE혁...           1.0   \n",
       "2                                                NaN           1.0   \n",
       "3                앞으로 좀 더 깔끔한 영상제작 약속 드리겠습니다.늘 감사드립니다           1.0   \n",
       "4  MelOn http://kko.to/TWyXd7zYjSpotify https://s...           1.0   \n",
       "\n",
       "   description_B  \n",
       "0            0.0  \n",
       "1            1.0  \n",
       "2            0.0  \n",
       "3            1.0  \n",
       "4            1.0  "
      ]
     },
     "execution_count": 13,
     "metadata": {},
     "output_type": "execute_result"
    }
   ],
   "source": [
    "df.loc[pd.notnull(df['description']), \"description_B\"] = 1\n",
    "df.loc[pd.isnull(df['description']), \"description_B\"] = 0\n",
    "df.head()"
   ]
  },
  {
   "cell_type": "code",
   "execution_count": 14,
   "metadata": {
    "id": "I0BJtbeMjwMF"
   },
   "outputs": [],
   "source": [
    "df['publishedAt_N'] = pd.to_datetime(df['publishedAt'], format=\"%Y-%m-%dT%H:%M:%SZ\").astype('int64') / 10**9"
   ]
  },
  {
   "cell_type": "code",
   "execution_count": 15,
   "metadata": {
    "colab": {
     "base_uri": "https://localhost:8080/"
    },
    "executionInfo": {
     "elapsed": 2,
     "status": "ok",
     "timestamp": 1718804160793,
     "user": {
      "displayName": "(빅데이터트랙)조성현",
      "userId": "18113896222475999779"
     },
     "user_tz": -540
    },
    "id": "7bMkGY8rj_l3",
    "outputId": "6c0d2f52-20df-4e2b-b759-52d4cfbf1a3f"
   },
   "outputs": [
    {
     "data": {
      "text/plain": [
       "0    1.596966e+09\n",
       "1    1.597223e+09\n",
       "2    1.597053e+09\n",
       "3    1.597158e+09\n",
       "4    1.597136e+09\n",
       "Name: publishedAt_N, dtype: float64"
      ]
     },
     "execution_count": 15,
     "metadata": {},
     "output_type": "execute_result"
    }
   ],
   "source": [
    "df['publishedAt_N'].head()"
   ]
  },
  {
   "cell_type": "code",
   "execution_count": 16,
   "metadata": {
    "colab": {
     "base_uri": "https://localhost:8080/"
    },
    "executionInfo": {
     "elapsed": 410,
     "status": "ok",
     "timestamp": 1718804161561,
     "user": {
      "displayName": "(빅데이터트랙)조성현",
      "userId": "18113896222475999779"
     },
     "user_tz": -540
    },
    "id": "uz8Hrr_5Sn9W",
    "outputId": "985e65ac-52ed-4624-ecbf-16e2ebdf4e3e"
   },
   "outputs": [
    {
     "name": "stdout",
     "output_type": "stream",
     "text": [
      "-구간 변수\n",
      "categoryId:\t0\n",
      "likes:\t\t0\n",
      "dislikes:\t0\n",
      "comment_count:\t0\n",
      "publishedAt_N:\t0\n",
      "\n",
      "-범주형 변수\n",
      "channelId:\t0\n",
      "tags:\t\t0\n",
      "description_B:\t0\n"
     ]
    }
   ],
   "source": [
    "# 영향을 주는 변수\n",
    "print(\"-구간 변수\")\n",
    "print(f\"categoryId:\\t{df['categoryId'].isnull().sum()}\")\n",
    "print(f\"likes:\\t\\t{df['likes'].isnull().sum()}\")\n",
    "print(f\"dislikes:\\t{df['dislikes'].isnull().sum()}\")\n",
    "print(f\"comment_count:\\t{df['comment_count'].isnull().sum()}\")\n",
    "print(f\"publishedAt_N:\\t{df['publishedAt_N'].isnull().sum()}\")\n",
    "print()\n",
    "print(\"-범주형 변수\")\n",
    "print(f\"channelId:\\t{df['channelId'].isnull().sum()}\")\n",
    "print(f\"tags:\\t\\t{df['tags'].isnull().sum()}\")\n",
    "print(f\"description_B:\\t{df['description_B'].isnull().sum()}\")"
   ]
  },
  {
   "cell_type": "markdown",
   "metadata": {
    "id": "iX9Q9CZbeUHY"
   },
   "source": [
    "# 결측값 50% 초과 변수 제거"
   ]
  },
  {
   "cell_type": "code",
   "execution_count": 17,
   "metadata": {
    "colab": {
     "base_uri": "https://localhost:8080/"
    },
    "executionInfo": {
     "elapsed": 2,
     "status": "ok",
     "timestamp": 1718804162191,
     "user": {
      "displayName": "(빅데이터트랙)조성현",
      "userId": "18113896222475999779"
     },
     "user_tz": -540
    },
    "id": "X1MWVuco9aNX",
    "outputId": "2ebbef91-6b7a-4e27-90d1-803d1f41af43"
   },
   "outputs": [
    {
     "data": {
      "text/plain": [
       "description    True\n",
       "dtype: bool"
      ]
     },
     "execution_count": 17,
     "metadata": {},
     "output_type": "execute_result"
    }
   ],
   "source": [
    "df.isna().any()[lambda x: x]"
   ]
  },
  {
   "cell_type": "code",
   "execution_count": 18,
   "metadata": {
    "colab": {
     "base_uri": "https://localhost:8080/"
    },
    "executionInfo": {
     "elapsed": 368,
     "status": "ok",
     "timestamp": 1718804201604,
     "user": {
      "displayName": "(빅데이터트랙)조성현",
      "userId": "18113896222475999779"
     },
     "user_tz": -540
    },
    "id": "4CF7IPuE9ekp",
    "outputId": "d86c4cf2-9502-46c0-8a37-2ace438f521b"
   },
   "outputs": [
    {
     "data": {
      "text/plain": [
       "video_id             False\n",
       "title                False\n",
       "publishedAt          False\n",
       "channelId            False\n",
       "channelTitle         False\n",
       "categoryId           False\n",
       "trending_date        False\n",
       "tags                 False\n",
       "view_count           False\n",
       "likes                False\n",
       "dislikes             False\n",
       "comment_count        False\n",
       "thumbnail_link       False\n",
       "comments_disabled    False\n",
       "ratings_disabled     False\n",
       "description           True\n",
       "view_count_B         False\n",
       "description_B        False\n",
       "publishedAt_N        False\n",
       "dtype: bool"
      ]
     },
     "execution_count": 18,
     "metadata": {},
     "output_type": "execute_result"
    }
   ],
   "source": [
    "df.isna().any()"
   ]
  },
  {
   "cell_type": "code",
   "execution_count": 19,
   "metadata": {
    "colab": {
     "base_uri": "https://localhost:8080/"
    },
    "executionInfo": {
     "elapsed": 1,
     "status": "ok",
     "timestamp": 1718804201604,
     "user": {
      "displayName": "(빅데이터트랙)조성현",
      "userId": "18113896222475999779"
     },
     "user_tz": -540
    },
    "id": "xlTF6yNl9iAs",
    "outputId": "37ab0745-6434-4bdb-aeef-cfc00fd583a4"
   },
   "outputs": [
    {
     "data": {
      "text/plain": [
       "0.020351956506187853"
      ]
     },
     "execution_count": 19,
     "metadata": {},
     "output_type": "execute_result"
    }
   ],
   "source": [
    "df['description'].isnull().mean()"
   ]
  },
  {
   "cell_type": "markdown",
   "metadata": {
    "id": "KPagPMGUeUHZ"
   },
   "source": [
    "# 요약통계 및 도수분포표 점검"
   ]
  },
  {
   "cell_type": "code",
   "execution_count": 20,
   "metadata": {
    "colab": {
     "base_uri": "https://localhost:8080/",
     "height": 300
    },
    "executionInfo": {
     "elapsed": 2,
     "status": "ok",
     "timestamp": 1718804201977,
     "user": {
      "displayName": "(빅데이터트랙)조성현",
      "userId": "18113896222475999779"
     },
     "user_tz": -540
    },
    "id": "e7becFxT9ns0",
    "outputId": "aba54b9c-bd49-4448-f3d7-3c253d1483b2"
   },
   "outputs": [
    {
     "data": {
      "text/html": [
       "<div>\n",
       "<style scoped>\n",
       "    .dataframe tbody tr th:only-of-type {\n",
       "        vertical-align: middle;\n",
       "    }\n",
       "\n",
       "    .dataframe tbody tr th {\n",
       "        vertical-align: top;\n",
       "    }\n",
       "\n",
       "    .dataframe thead th {\n",
       "        text-align: right;\n",
       "    }\n",
       "</style>\n",
       "<table border=\"1\" class=\"dataframe\">\n",
       "  <thead>\n",
       "    <tr style=\"text-align: right;\">\n",
       "      <th></th>\n",
       "      <th>categoryId</th>\n",
       "      <th>likes</th>\n",
       "      <th>dislikes</th>\n",
       "      <th>comment_count</th>\n",
       "      <th>publishedAt_N</th>\n",
       "    </tr>\n",
       "  </thead>\n",
       "  <tbody>\n",
       "    <tr>\n",
       "      <th>count</th>\n",
       "      <td>27958.000000</td>\n",
       "      <td>2.795800e+04</td>\n",
       "      <td>27958.000000</td>\n",
       "      <td>2.795800e+04</td>\n",
       "      <td>2.795800e+04</td>\n",
       "    </tr>\n",
       "    <tr>\n",
       "      <th>mean</th>\n",
       "      <td>20.379677</td>\n",
       "      <td>4.843043e+04</td>\n",
       "      <td>305.569032</td>\n",
       "      <td>4.557245e+03</td>\n",
       "      <td>1.648053e+09</td>\n",
       "    </tr>\n",
       "    <tr>\n",
       "      <th>std</th>\n",
       "      <td>6.057724</td>\n",
       "      <td>2.394041e+05</td>\n",
       "      <td>3998.919615</td>\n",
       "      <td>4.283992e+04</td>\n",
       "      <td>3.374195e+07</td>\n",
       "    </tr>\n",
       "    <tr>\n",
       "      <th>min</th>\n",
       "      <td>1.000000</td>\n",
       "      <td>0.000000e+00</td>\n",
       "      <td>0.000000</td>\n",
       "      <td>0.000000e+00</td>\n",
       "      <td>1.596593e+09</td>\n",
       "    </tr>\n",
       "    <tr>\n",
       "      <th>25%</th>\n",
       "      <td>17.000000</td>\n",
       "      <td>3.932250e+03</td>\n",
       "      <td>0.000000</td>\n",
       "      <td>3.770000e+02</td>\n",
       "      <td>1.617872e+09</td>\n",
       "    </tr>\n",
       "    <tr>\n",
       "      <th>50%</th>\n",
       "      <td>23.000000</td>\n",
       "      <td>7.893000e+03</td>\n",
       "      <td>0.000000</td>\n",
       "      <td>8.560000e+02</td>\n",
       "      <td>1.644795e+09</td>\n",
       "    </tr>\n",
       "    <tr>\n",
       "      <th>75%</th>\n",
       "      <td>24.000000</td>\n",
       "      <td>1.849975e+04</td>\n",
       "      <td>119.000000</td>\n",
       "      <td>2.031750e+03</td>\n",
       "      <td>1.677563e+09</td>\n",
       "    </tr>\n",
       "    <tr>\n",
       "      <th>max</th>\n",
       "      <td>29.000000</td>\n",
       "      <td>9.825911e+06</td>\n",
       "      <td>405428.000000</td>\n",
       "      <td>3.400571e+06</td>\n",
       "      <td>1.711496e+09</td>\n",
       "    </tr>\n",
       "  </tbody>\n",
       "</table>\n",
       "</div>"
      ],
      "text/plain": [
       "         categoryId         likes       dislikes  comment_count  publishedAt_N\n",
       "count  27958.000000  2.795800e+04   27958.000000   2.795800e+04   2.795800e+04\n",
       "mean      20.379677  4.843043e+04     305.569032   4.557245e+03   1.648053e+09\n",
       "std        6.057724  2.394041e+05    3998.919615   4.283992e+04   3.374195e+07\n",
       "min        1.000000  0.000000e+00       0.000000   0.000000e+00   1.596593e+09\n",
       "25%       17.000000  3.932250e+03       0.000000   3.770000e+02   1.617872e+09\n",
       "50%       23.000000  7.893000e+03       0.000000   8.560000e+02   1.644795e+09\n",
       "75%       24.000000  1.849975e+04     119.000000   2.031750e+03   1.677563e+09\n",
       "max       29.000000  9.825911e+06  405428.000000   3.400571e+06   1.711496e+09"
      ]
     },
     "execution_count": 20,
     "metadata": {},
     "output_type": "execute_result"
    }
   ],
   "source": [
    "# 구간 변수 저장\n",
    "cols = ['categoryId','likes','dislikes', 'comment_count', 'publishedAt_N']\n",
    "\n",
    "# 구간 변수의 요약통계 구하기\n",
    "df[cols].describe()"
   ]
  },
  {
   "cell_type": "code",
   "execution_count": 21,
   "metadata": {
    "colab": {
     "base_uri": "https://localhost:8080/"
    },
    "executionInfo": {
     "elapsed": 3,
     "status": "ok",
     "timestamp": 1718804202323,
     "user": {
      "displayName": "(빅데이터트랙)조성현",
      "userId": "18113896222475999779"
     },
     "user_tz": -540
    },
    "id": "0G-FdwTy-MKI",
    "outputId": "1ff1e6a2-8057-4bd0-841e-d4b78408f783"
   },
   "outputs": [
    {
     "data": {
      "text/plain": [
       "categoryId       -1.565422\n",
       "likes            14.040708\n",
       "dislikes         74.055995\n",
       "comment_count    42.974386\n",
       "publishedAt_N     0.212969\n",
       "dtype: float64"
      ]
     },
     "execution_count": 21,
     "metadata": {},
     "output_type": "execute_result"
    }
   ],
   "source": [
    "# +-3 체크\n",
    "# 클수록 좌측, 작을수록 우측으로 치우침\n",
    "df[cols].skew()"
   ]
  },
  {
   "cell_type": "code",
   "execution_count": 22,
   "metadata": {
    "colab": {
     "base_uri": "https://localhost:8080/"
    },
    "executionInfo": {
     "elapsed": 2,
     "status": "ok",
     "timestamp": 1718804202323,
     "user": {
      "displayName": "(빅데이터트랙)조성현",
      "userId": "18113896222475999779"
     },
     "user_tz": -540
    },
    "id": "WWPhL2Hb-UYK",
    "outputId": "cefe7473-9f2a-4e14-c5a3-cacf512e9a94"
   },
   "outputs": [
    {
     "data": {
      "text/plain": [
       "categoryId          1.815184\n",
       "likes             296.185485\n",
       "dislikes         6916.895574\n",
       "comment_count    2474.718909\n",
       "publishedAt_N      -1.205690\n",
       "dtype: float64"
      ]
     },
     "execution_count": 22,
     "metadata": {},
     "output_type": "execute_result"
    }
   ],
   "source": [
    "# +-10 체크\n",
    "# 클수록 피크가 높음\n",
    "df[cols].kurtosis()"
   ]
  },
  {
   "cell_type": "code",
   "execution_count": 23,
   "metadata": {
    "colab": {
     "base_uri": "https://localhost:8080/"
    },
    "executionInfo": {
     "elapsed": 2,
     "status": "ok",
     "timestamp": 1718804202740,
     "user": {
      "displayName": "(빅데이터트랙)조성현",
      "userId": "18113896222475999779"
     },
     "user_tz": -540
    },
    "id": "jWVbZYFpbDFZ",
    "outputId": "d71669d9-f482-499a-e379-ffc21ea13b86"
   },
   "outputs": [
    {
     "name": "stdout",
     "output_type": "stream",
     "text": [
      "categoryId: skewness=-1.5654220945222403, kurtosis=1.8151839310162594\n",
      "view_count: skewness=16.325205644700148, kurtosis=377.98937825664103\n",
      "likes: skewness=14.040707932473104, kurtosis=296.1854848845046\n",
      "dislikes: skewness=74.05599515470149, kurtosis=6916.8955738525465\n",
      "comment_count: skewness=42.97438561190994, kurtosis=2474.7189086169715\n",
      "view_count_B: skewness=0.0, kurtosis=-2.000143087104275\n",
      "description_B: skewness=-6.794192600548355, kurtosis=44.16421241382592\n",
      "publishedAt_N: skewness=0.21296885471243207, kurtosis=-1.2056897478284243\n",
      "\n",
      "\n",
      "\n",
      "\n",
      "Transforming likes (skewness=14.040707932473104, kurtosis=296.1854848845046)\n",
      "Transforming dislikes (skewness=74.05599515470149, kurtosis=6916.8955738525465)\n",
      "Transforming comment_count (skewness=42.97438561190994, kurtosis=2474.7189086169715)\n",
      "categoryId: skewness=-1.5654220945222403, kurtosis=1.8151839310162594\n",
      "view_count: skewness=16.325205644700148, kurtosis=377.98937825664103\n",
      "likes: skewness=14.040707932473104, kurtosis=296.1854848845046\n",
      "dislikes: skewness=74.05599515470149, kurtosis=6916.8955738525465\n",
      "comment_count: skewness=42.97438561190994, kurtosis=2474.7189086169715\n",
      "view_count_B: skewness=0.0, kurtosis=-2.000143087104275\n",
      "description_B: skewness=-6.794192600548355, kurtosis=44.16421241382592\n",
      "publishedAt_N: skewness=0.21296885471243207, kurtosis=-1.2056897478284243\n",
      "likes_log: skewness=-1.1096917771007555, kurtosis=7.432413310559198\n",
      "likes_sqrt: skewness=5.4171783009021, kurtosis=41.69946875241709\n",
      "likes_reciprocal: skewness=7.620041741782355, kurtosis=56.06956480915138\n",
      "dislikes_log: skewness=0.6427017225148147, kurtosis=-0.8777047218499678\n",
      "dislikes_sqrt: skewness=10.311662757890165, kurtosis=247.40499387887\n",
      "dislikes_reciprocal: skewness=-0.20699555398603967, kurtosis=-1.9558897502925794\n",
      "comment_count_log: skewness=-0.18434580180849613, kurtosis=2.922342991116128\n",
      "comment_count_sqrt: skewness=10.001769349960476, kurtosis=186.93725892665248\n",
      "comment_count_reciprocal: skewness=9.353110546355936, kurtosis=86.269122503029\n",
      "\n",
      "\n",
      "\n",
      "\n"
     ]
    }
   ],
   "source": [
    "# 왜도와 첨도 계산 함수\n",
    "def calculate_skew_kurtosis(df):\n",
    "    for column in df.select_dtypes(include=[np.number]).columns:\n",
    "        skewness = df[column].skew()\n",
    "        kurt = df[column].kurtosis()\n",
    "        print(f'{column}: skewness={skewness}, kurtosis={kurt}')\n",
    "    print('\\n\\n\\n')\n",
    "\n",
    "# 왜도와 첨도 값 출력\n",
    "calculate_skew_kurtosis(df)\n",
    "\n",
    "# 다양한 변환 적용 함수\n",
    "def transform_features(df):\n",
    "    for column in cols:\n",
    "        skewness = df[column].skew()\n",
    "        kurt = df[column].kurtosis()\n",
    "\n",
    "        # 절대 왜도와 첨도가 특정 임계값을 넘는 경우 변환 시도\n",
    "        if abs(skewness) > 3 or abs(kurt) > 10 or abs(skewness) < -3 or abs(kurt) < -10 :\n",
    "            print(f'Transforming {column} (skewness={skewness}, kurtosis={kurt})')\n",
    "\n",
    "            # 로그 변환\n",
    "            df.loc[:, column + '_log'] = np.log1p(df[column] - df[column].min() + 1)\n",
    "\n",
    "            # 제곱근 변환\n",
    "            df.loc[:, column + '_sqrt'] = np.sqrt(df[column] - df[column].min() + 1)\n",
    "\n",
    "            # 역수 변환\n",
    "            df.loc[:, column + '_reciprocal'] = 1 / (df[column] - df[column].min() + 1)\n",
    "\n",
    "    return df\n",
    "\n",
    "# 변환 적용\n",
    "df_transformed = transform_features(df)\n",
    "\n",
    "# 변환 후 왜도와 첨도 값 출력\n",
    "calculate_skew_kurtosis(df_transformed)"
   ]
  },
  {
   "cell_type": "code",
   "execution_count": 24,
   "metadata": {
    "id": "5Qq7xR48c1Aw"
   },
   "outputs": [],
   "source": [
    "df_transformed = df_transformed.drop(['likes_sqrt', 'likes_reciprocal', 'dislikes_sqrt', 'dislikes_reciprocal', 'comment_count_sqrt', 'comment_count_reciprocal'], axis=1)"
   ]
  },
  {
   "cell_type": "code",
   "execution_count": 25,
   "metadata": {
    "colab": {
     "base_uri": "https://localhost:8080/",
     "height": 747
    },
    "executionInfo": {
     "elapsed": 310,
     "status": "ok",
     "timestamp": 1718804204500,
     "user": {
      "displayName": "(빅데이터트랙)조성현",
      "userId": "18113896222475999779"
     },
     "user_tz": -540
    },
    "id": "mrEaRPs9giy6",
    "outputId": "26ceb974-ea4e-4508-e1df-bb7f0a35a2d0"
   },
   "outputs": [
    {
     "data": {
      "text/html": [
       "<div>\n",
       "<style scoped>\n",
       "    .dataframe tbody tr th:only-of-type {\n",
       "        vertical-align: middle;\n",
       "    }\n",
       "\n",
       "    .dataframe tbody tr th {\n",
       "        vertical-align: top;\n",
       "    }\n",
       "\n",
       "    .dataframe thead th {\n",
       "        text-align: right;\n",
       "    }\n",
       "</style>\n",
       "<table border=\"1\" class=\"dataframe\">\n",
       "  <thead>\n",
       "    <tr style=\"text-align: right;\">\n",
       "      <th></th>\n",
       "      <th>video_id</th>\n",
       "      <th>title</th>\n",
       "      <th>publishedAt</th>\n",
       "      <th>channelId</th>\n",
       "      <th>channelTitle</th>\n",
       "      <th>categoryId</th>\n",
       "      <th>trending_date</th>\n",
       "      <th>tags</th>\n",
       "      <th>view_count</th>\n",
       "      <th>likes</th>\n",
       "      <th>...</th>\n",
       "      <th>thumbnail_link</th>\n",
       "      <th>comments_disabled</th>\n",
       "      <th>ratings_disabled</th>\n",
       "      <th>description</th>\n",
       "      <th>view_count_B</th>\n",
       "      <th>description_B</th>\n",
       "      <th>publishedAt_N</th>\n",
       "      <th>likes_log</th>\n",
       "      <th>dislikes_log</th>\n",
       "      <th>comment_count_log</th>\n",
       "    </tr>\n",
       "  </thead>\n",
       "  <tbody>\n",
       "    <tr>\n",
       "      <th>0</th>\n",
       "      <td>uq5LClQN3cE</td>\n",
       "      <td>안녕하세요 보겸입니다</td>\n",
       "      <td>2020-08-09T09:32:48Z</td>\n",
       "      <td>UCu9BCtGIEr73LXZsKmoujKw</td>\n",
       "      <td>보겸 BK</td>\n",
       "      <td>24</td>\n",
       "      <td>2020-08-12T00:00:00Z</td>\n",
       "      <td>보겸|bokyem</td>\n",
       "      <td>5947503</td>\n",
       "      <td>53326</td>\n",
       "      <td>...</td>\n",
       "      <td>https://i.ytimg.com/vi/uq5LClQN3cE/default.jpg</td>\n",
       "      <td>False</td>\n",
       "      <td>False</td>\n",
       "      <td>NaN</td>\n",
       "      <td>1.0</td>\n",
       "      <td>0.0</td>\n",
       "      <td>1.596966e+09</td>\n",
       "      <td>10.884217</td>\n",
       "      <td>11.568909</td>\n",
       "      <td>11.849026</td>\n",
       "    </tr>\n",
       "    <tr>\n",
       "      <th>1</th>\n",
       "      <td>I-ZbZCHsHD0</td>\n",
       "      <td>부락토스의 계획 [총몇명 프리퀄]</td>\n",
       "      <td>2020-08-12T09:00:08Z</td>\n",
       "      <td>UCRuSxVu4iqTK5kCh90ntAgA</td>\n",
       "      <td>총몇명</td>\n",
       "      <td>1</td>\n",
       "      <td>2020-08-12T00:00:00Z</td>\n",
       "      <td>총몇명|재밌는 만화|부락토스|루시퍼|총몇명 프리퀄|총몇명 스토리</td>\n",
       "      <td>963384</td>\n",
       "      <td>28244</td>\n",
       "      <td>...</td>\n",
       "      <td>https://i.ytimg.com/vi/I-ZbZCHsHD0/default.jpg</td>\n",
       "      <td>False</td>\n",
       "      <td>False</td>\n",
       "      <td>오늘도 정말 감사드립니다!!총몇명 스튜디오 - 총몇명, 십제곱, 5G민, MOVE혁...</td>\n",
       "      <td>1.0</td>\n",
       "      <td>1.0</td>\n",
       "      <td>1.597223e+09</td>\n",
       "      <td>10.248707</td>\n",
       "      <td>6.206576</td>\n",
       "      <td>8.114025</td>\n",
       "    </tr>\n",
       "    <tr>\n",
       "      <th>2</th>\n",
       "      <td>9d7jNUjBoss</td>\n",
       "      <td>평생 반성하면서 살겠습니다.</td>\n",
       "      <td>2020-08-10T09:54:13Z</td>\n",
       "      <td>UCMVC92EOs9yDJG5JS-CMesQ</td>\n",
       "      <td>양팡 YangPang</td>\n",
       "      <td>22</td>\n",
       "      <td>2020-08-12T00:00:00Z</td>\n",
       "      <td>양팡|양팡유튜브|팡튜브|가족시트콤|양팡가족|양팡가족시트콤|양팡언니|현실남매|현실자매...</td>\n",
       "      <td>2950885</td>\n",
       "      <td>17974</td>\n",
       "      <td>...</td>\n",
       "      <td>https://i.ytimg.com/vi/9d7jNUjBoss/default.jpg</td>\n",
       "      <td>False</td>\n",
       "      <td>False</td>\n",
       "      <td>NaN</td>\n",
       "      <td>1.0</td>\n",
       "      <td>0.0</td>\n",
       "      <td>1.597053e+09</td>\n",
       "      <td>9.796793</td>\n",
       "      <td>11.140411</td>\n",
       "      <td>10.833484</td>\n",
       "    </tr>\n",
       "    <tr>\n",
       "      <th>3</th>\n",
       "      <td>3pI_L3-sMVg</td>\n",
       "      <td>안녕하세요 꽈뚜룹입니다.</td>\n",
       "      <td>2020-08-11T15:00:58Z</td>\n",
       "      <td>UCkQCwnkQfgSuPTTnw_Y7v7w</td>\n",
       "      <td>꽈뚜룹 Quaddurup</td>\n",
       "      <td>24</td>\n",
       "      <td>2020-08-12T00:00:00Z</td>\n",
       "      <td>꽈뚜룹|한국여행기|quaddurup|뚜룹이|korea|southkorea|vlog|...</td>\n",
       "      <td>1743374</td>\n",
       "      <td>36893</td>\n",
       "      <td>...</td>\n",
       "      <td>https://i.ytimg.com/vi/3pI_L3-sMVg/default.jpg</td>\n",
       "      <td>False</td>\n",
       "      <td>False</td>\n",
       "      <td>앞으로 좀 더 깔끔한 영상제작 약속 드리겠습니다.늘 감사드립니다</td>\n",
       "      <td>1.0</td>\n",
       "      <td>1.0</td>\n",
       "      <td>1.597158e+09</td>\n",
       "      <td>10.515831</td>\n",
       "      <td>7.495542</td>\n",
       "      <td>9.077152</td>\n",
       "    </tr>\n",
       "    <tr>\n",
       "      <th>4</th>\n",
       "      <td>zrsBjYukE8s</td>\n",
       "      <td>박진영 (J.Y. Park) When We Disco (Duet with 선미) M/V</td>\n",
       "      <td>2020-08-11T09:00:13Z</td>\n",
       "      <td>UCaO6TYtlC8U5ttz62hTrZgg</td>\n",
       "      <td>JYP Entertainment</td>\n",
       "      <td>10</td>\n",
       "      <td>2020-08-12T00:00:00Z</td>\n",
       "      <td>JYP Entertainment|JYP|J.Y.Park|JYPark|박진영|선미|S...</td>\n",
       "      <td>3433885</td>\n",
       "      <td>353337</td>\n",
       "      <td>...</td>\n",
       "      <td>https://i.ytimg.com/vi/zrsBjYukE8s/default.jpg</td>\n",
       "      <td>False</td>\n",
       "      <td>False</td>\n",
       "      <td>MelOn http://kko.to/TWyXd7zYjSpotify https://s...</td>\n",
       "      <td>1.0</td>\n",
       "      <td>1.0</td>\n",
       "      <td>1.597136e+09</td>\n",
       "      <td>12.775183</td>\n",
       "      <td>9.186560</td>\n",
       "      <td>10.060790</td>\n",
       "    </tr>\n",
       "  </tbody>\n",
       "</table>\n",
       "<p>5 rows × 22 columns</p>\n",
       "</div>"
      ],
      "text/plain": [
       "      video_id                                             title  \\\n",
       "0  uq5LClQN3cE                                       안녕하세요 보겸입니다   \n",
       "1  I-ZbZCHsHD0                                부락토스의 계획 [총몇명 프리퀄]   \n",
       "2  9d7jNUjBoss                                   평생 반성하면서 살겠습니다.   \n",
       "3  3pI_L3-sMVg                              안녕하세요 꽈뚜룹입니다.   \n",
       "4  zrsBjYukE8s  박진영 (J.Y. Park) When We Disco (Duet with 선미) M/V   \n",
       "\n",
       "            publishedAt                 channelId       channelTitle  \\\n",
       "0  2020-08-09T09:32:48Z  UCu9BCtGIEr73LXZsKmoujKw              보겸 BK   \n",
       "1  2020-08-12T09:00:08Z  UCRuSxVu4iqTK5kCh90ntAgA                총몇명   \n",
       "2  2020-08-10T09:54:13Z  UCMVC92EOs9yDJG5JS-CMesQ        양팡 YangPang   \n",
       "3  2020-08-11T15:00:58Z  UCkQCwnkQfgSuPTTnw_Y7v7w      꽈뚜룹 Quaddurup   \n",
       "4  2020-08-11T09:00:13Z  UCaO6TYtlC8U5ttz62hTrZgg  JYP Entertainment   \n",
       "\n",
       "   categoryId         trending_date  \\\n",
       "0          24  2020-08-12T00:00:00Z   \n",
       "1           1  2020-08-12T00:00:00Z   \n",
       "2          22  2020-08-12T00:00:00Z   \n",
       "3          24  2020-08-12T00:00:00Z   \n",
       "4          10  2020-08-12T00:00:00Z   \n",
       "\n",
       "                                                tags  view_count   likes  ...  \\\n",
       "0                                          보겸|bokyem     5947503   53326  ...   \n",
       "1                총몇명|재밌는 만화|부락토스|루시퍼|총몇명 프리퀄|총몇명 스토리      963384   28244  ...   \n",
       "2  양팡|양팡유튜브|팡튜브|가족시트콤|양팡가족|양팡가족시트콤|양팡언니|현실남매|현실자매...     2950885   17974  ...   \n",
       "3  꽈뚜룹|한국여행기|quaddurup|뚜룹이|korea|southkorea|vlog|...     1743374   36893  ...   \n",
       "4  JYP Entertainment|JYP|J.Y.Park|JYPark|박진영|선미|S...     3433885  353337  ...   \n",
       "\n",
       "                                   thumbnail_link  comments_disabled  \\\n",
       "0  https://i.ytimg.com/vi/uq5LClQN3cE/default.jpg              False   \n",
       "1  https://i.ytimg.com/vi/I-ZbZCHsHD0/default.jpg              False   \n",
       "2  https://i.ytimg.com/vi/9d7jNUjBoss/default.jpg              False   \n",
       "3  https://i.ytimg.com/vi/3pI_L3-sMVg/default.jpg              False   \n",
       "4  https://i.ytimg.com/vi/zrsBjYukE8s/default.jpg              False   \n",
       "\n",
       "  ratings_disabled                                        description  \\\n",
       "0            False                                                NaN   \n",
       "1            False  오늘도 정말 감사드립니다!!총몇명 스튜디오 - 총몇명, 십제곱, 5G민, MOVE혁...   \n",
       "2            False                                                NaN   \n",
       "3            False                앞으로 좀 더 깔끔한 영상제작 약속 드리겠습니다.늘 감사드립니다   \n",
       "4            False  MelOn http://kko.to/TWyXd7zYjSpotify https://s...   \n",
       "\n",
       "   view_count_B description_B  publishedAt_N  likes_log  dislikes_log  \\\n",
       "0           1.0           0.0   1.596966e+09  10.884217     11.568909   \n",
       "1           1.0           1.0   1.597223e+09  10.248707      6.206576   \n",
       "2           1.0           0.0   1.597053e+09   9.796793     11.140411   \n",
       "3           1.0           1.0   1.597158e+09  10.515831      7.495542   \n",
       "4           1.0           1.0   1.597136e+09  12.775183      9.186560   \n",
       "\n",
       "   comment_count_log  \n",
       "0          11.849026  \n",
       "1           8.114025  \n",
       "2          10.833484  \n",
       "3           9.077152  \n",
       "4          10.060790  \n",
       "\n",
       "[5 rows x 22 columns]"
      ]
     },
     "execution_count": 25,
     "metadata": {},
     "output_type": "execute_result"
    }
   ],
   "source": [
    "df_transformed.head()"
   ]
  },
  {
   "cell_type": "markdown",
   "metadata": {
    "id": "79ovG7Im_NgP"
   },
   "source": [
    "# 이상값 제거"
   ]
  },
  {
   "cell_type": "code",
   "execution_count": 26,
   "metadata": {
    "colab": {
     "base_uri": "https://localhost:8080/",
     "height": 390
    },
    "executionInfo": {
     "elapsed": 2811,
     "status": "ok",
     "timestamp": 1718804208585,
     "user": {
      "displayName": "(빅데이터트랙)조성현",
      "userId": "18113896222475999779"
     },
     "user_tz": -540
    },
    "id": "JEjm7wHMeUHb",
    "outputId": "bb9100d8-b37b-4706-d3e4-df2ef1b9edcc"
   },
   "outputs": [
    {
     "data": {
      "image/png": "[encoded data removed]",
      "text/plain": [
       "<Figure size 1500x400 with 5 Axes>"
      ]
     },
     "metadata": {},
     "output_type": "display_data"
    }
   ],
   "source": [
    "import matplotlib.pyplot as plt\n",
    "\n",
    "import seaborn as sns\n",
    "\n",
    "fig, axes = plt.subplots(1, 5, figsize=(15, 4))\n",
    "\n",
    "sns.histplot(ax=axes[0], data=df_transformed, x=\"categoryId\", kde=True, bins=20);\n",
    "sns.histplot(ax=axes[1], data=df_transformed, x=\"likes_log\", kde=True, bins=20);\n",
    "sns.histplot(ax=axes[2], data=df_transformed, x=\"dislikes_log\", kde=True, bins=20)\n",
    "sns.histplot(ax=axes[3], data=df_transformed, x=\"comment_count_log\", kde=True, bins=20)\n",
    "sns.histplot(ax=axes[4], data=df_transformed, x=\"publishedAt_N\", kde=True, bins=20)\n",
    "\n",
    "plt.show();"
   ]
  },
  {
   "cell_type": "code",
   "execution_count": 27,
   "metadata": {
    "colab": {
     "base_uri": "https://localhost:8080/",
     "height": 388
    },
    "executionInfo": {
     "elapsed": 1548,
     "status": "ok",
     "timestamp": 1718804210131,
     "user": {
      "displayName": "(빅데이터트랙)조성현",
      "userId": "18113896222475999779"
     },
     "user_tz": -540
    },
    "id": "Nrfj7R9Z_XE7",
    "outputId": "77f62598-3e4b-4a45-b863-df26f379f1d3"
   },
   "outputs": [
    {
     "data": {
      "image/png": "[encoded data removed]",
      "text/plain": [
       "<Figure size 1500x400 with 5 Axes>"
      ]
     },
     "metadata": {},
     "output_type": "display_data"
    }
   ],
   "source": [
    "sns.set_style('whitegrid')\n",
    "\n",
    "fig, axes = plt.subplots(1, 5, figsize=(15, 4))\n",
    "\n",
    "sns.boxplot(ax=axes[0], x = 'categoryId', data = df_transformed)\n",
    "sns.boxplot(ax=axes[1], x = 'likes_log', data = df_transformed)\n",
    "sns.boxplot(ax=axes[2], x = 'dislikes_log', data = df_transformed);\n",
    "sns.boxplot(ax=axes[3], x = 'comment_count_log', data = df_transformed);\n",
    "sns.boxplot(ax=axes[4], x = 'publishedAt_N', data = df_transformed);"
   ]
  },
  {
   "cell_type": "code",
   "execution_count": 28,
   "metadata": {
    "colab": {
     "base_uri": "https://localhost:8080/"
    },
    "executionInfo": {
     "elapsed": 2,
     "status": "ok",
     "timestamp": 1718804210856,
     "user": {
      "displayName": "(빅데이터트랙)조성현",
      "userId": "18113896222475999779"
     },
     "user_tz": -540
    },
    "id": "SaX97JiMAXCe",
    "outputId": "966a3583-e067-4665-98e2-177840ee3fd2"
   },
   "outputs": [
    {
     "name": "stdout",
     "output_type": "stream",
     "text": [
      "categoryId           7.000000e+00\n",
      "likes_log            1.548145e+00\n",
      "dislikes_log         4.102643e+00\n",
      "comment_count_log    1.680100e+00\n",
      "publishedAt_N        5.969044e+07\n",
      "dtype: float64\n"
     ]
    }
   ],
   "source": [
    "# 구간변수별 IQR 구하기\n",
    "cols = ['categoryId','likes_log','dislikes_log', 'comment_count_log', 'publishedAt_N']\n",
    "\n",
    "Q1 = df_transformed[cols].quantile(0.25)\n",
    "Q3 = df_transformed[cols].quantile(0.75)\n",
    "\n",
    "IQR = Q3 - Q1\n",
    "print(IQR)"
   ]
  },
  {
   "cell_type": "code",
   "execution_count": 29,
   "metadata": {
    "colab": {
     "base_uri": "https://localhost:8080/"
    },
    "executionInfo": {
     "elapsed": 1,
     "status": "ok",
     "timestamp": 1718804211431,
     "user": {
      "displayName": "(빅데이터트랙)조성현",
      "userId": "18113896222475999779"
     },
     "user_tz": -540
    },
    "id": "WjRowJeeAbsl",
    "outputId": "4705f804-c112-4319-e750-c4fbe82e7d9e"
   },
   "outputs": [
    {
     "name": "stdout",
     "output_type": "stream",
     "text": [
      "--상한--\n",
      "categoryId           4.500000e+01\n",
      "likes_log            1.447006e+01\n",
      "dislikes_log         1.710372e+01\n",
      "comment_count_log    1.265794e+01\n",
      "publishedAt_N        1.856634e+09\n",
      "dtype: float64\n",
      "\n",
      "--하한--\n",
      "categoryId          -4.000000e+00\n",
      "likes_log            3.633040e+00\n",
      "dislikes_log        -1.161478e+01\n",
      "comment_count_log    8.972349e-01\n",
      "publishedAt_N        1.438801e+09\n",
      "dtype: float64\n"
     ]
    }
   ],
   "source": [
    "# 하한 구하기\n",
    "Lower = Q1-3.0*IQR\n",
    "\n",
    "# 상한 구하기\n",
    "Upper = Q3+3.0*IQR\n",
    "\n",
    "print(\"--상한--\")\n",
    "print(Upper)\n",
    "print()\n",
    "print(\"--하한--\")\n",
    "print(Lower)"
   ]
  },
  {
   "cell_type": "code",
   "execution_count": 30,
   "metadata": {
    "colab": {
     "base_uri": "https://localhost:8080/"
    },
    "executionInfo": {
     "elapsed": 2,
     "status": "ok",
     "timestamp": 1718804212444,
     "user": {
      "displayName": "(빅데이터트랙)조성현",
      "userId": "18113896222475999779"
     },
     "user_tz": -540
    },
    "id": "vj-Fl5WGAuf8",
    "outputId": "21017961-f9a9-483b-cb52-cbbb6ada1ed0"
   },
   "outputs": [
    {
     "data": {
      "text/plain": [
       "categoryId           2.900000e+01\n",
       "likes_log            1.610053e+01\n",
       "dislikes_log         1.291270e+01\n",
       "comment_count_log    1.503945e+01\n",
       "publishedAt_N        1.711496e+09\n",
       "dtype: float64"
      ]
     },
     "execution_count": 30,
     "metadata": {},
     "output_type": "execute_result"
    }
   ],
   "source": [
    "df_transformed[cols].max()"
   ]
  },
  {
   "cell_type": "code",
   "execution_count": 31,
   "metadata": {
    "colab": {
     "base_uri": "https://localhost:8080/"
    },
    "executionInfo": {
     "elapsed": 1,
     "status": "ok",
     "timestamp": 1718804212778,
     "user": {
      "displayName": "(빅데이터트랙)조성현",
      "userId": "18113896222475999779"
     },
     "user_tz": -540
    },
    "id": "egenF1g9BAIp",
    "outputId": "80da99ad-d9e5-4d26-8d64-06bda9016362"
   },
   "outputs": [
    {
     "data": {
      "text/plain": [
       "categoryId           1.000000e+00\n",
       "likes_log            6.931472e-01\n",
       "dislikes_log         6.931472e-01\n",
       "comment_count_log    6.931472e-01\n",
       "publishedAt_N        1.596593e+09\n",
       "dtype: float64"
      ]
     },
     "execution_count": 31,
     "metadata": {},
     "output_type": "execute_result"
    }
   ],
   "source": [
    "df_transformed[cols].min()"
   ]
  },
  {
   "cell_type": "code",
   "execution_count": 32,
   "metadata": {
    "id": "VEH7K-GZBHMo"
   },
   "outputs": [],
   "source": [
    "def trim_outliers(df, columns, lower, upper):\n",
    "    df_copy = df.copy()\n",
    "    for column in columns:\n",
    "      df_copy = df_copy[(df_copy[column] >= lower[column]) & (df_copy[column] <= upper[column])]\n",
    "    return df_copy"
   ]
  },
  {
   "cell_type": "code",
   "execution_count": 33,
   "metadata": {
    "id": "pSliq_4OC1Lb"
   },
   "outputs": [],
   "source": [
    "trimmed_df = trim_outliers(df_transformed, cols, Lower, Upper)"
   ]
  },
  {
   "cell_type": "code",
   "execution_count": 34,
   "metadata": {
    "colab": {
     "base_uri": "https://localhost:8080/"
    },
    "executionInfo": {
     "elapsed": 1,
     "status": "ok",
     "timestamp": 1718804214295,
     "user": {
      "displayName": "(빅데이터트랙)조성현",
      "userId": "18113896222475999779"
     },
     "user_tz": -540
    },
    "id": "fePPTDXp2wpv",
    "outputId": "debc751c-b862-492d-8eea-dbbcf5dd582c"
   },
   "outputs": [
    {
     "data": {
      "text/plain": [
       "categoryId           2.900000e+01\n",
       "likes_log            1.446677e+01\n",
       "dislikes_log         1.156891e+01\n",
       "comment_count_log    1.263365e+01\n",
       "publishedAt_N        1.711496e+09\n",
       "dtype: float64"
      ]
     },
     "execution_count": 34,
     "metadata": {},
     "output_type": "execute_result"
    }
   ],
   "source": [
    "trimmed_df[cols].max()"
   ]
  },
  {
   "cell_type": "code",
   "execution_count": 35,
   "metadata": {
    "colab": {
     "base_uri": "https://localhost:8080/"
    },
    "executionInfo": {
     "elapsed": 2,
     "status": "ok",
     "timestamp": 1718804215103,
     "user": {
      "displayName": "(빅데이터트랙)조성현",
      "userId": "18113896222475999779"
     },
     "user_tz": -540
    },
    "id": "CBnYEpTf3mRg",
    "outputId": "383c0149-8828-4c27-9af8-54fdc550b964"
   },
   "outputs": [
    {
     "data": {
      "text/plain": [
       "categoryId           1.000000e+00\n",
       "likes_log            3.663562e+00\n",
       "dislikes_log         6.931472e-01\n",
       "comment_count_log    1.098612e+00\n",
       "publishedAt_N        1.596593e+09\n",
       "dtype: float64"
      ]
     },
     "execution_count": 35,
     "metadata": {},
     "output_type": "execute_result"
    }
   ],
   "source": [
    "trimmed_df[cols].min()"
   ]
  },
  {
   "cell_type": "markdown",
   "metadata": {
    "id": "J5Hmv3joeUHd"
   },
   "source": [
    "# 상관관계 검토"
   ]
  },
  {
   "cell_type": "code",
   "execution_count": 36,
   "metadata": {
    "colab": {
     "base_uri": "https://localhost:8080/",
     "height": 206
    },
    "executionInfo": {
     "elapsed": 2,
     "status": "ok",
     "timestamp": 1718804216078,
     "user": {
      "displayName": "(빅데이터트랙)조성현",
      "userId": "18113896222475999779"
     },
     "user_tz": -540
    },
    "id": "czMwPE9f4rHb",
    "outputId": "a0617eae-3298-4e50-f20c-97074a8f33dc"
   },
   "outputs": [
    {
     "data": {
      "text/html": [
       "<div>\n",
       "<style scoped>\n",
       "    .dataframe tbody tr th:only-of-type {\n",
       "        vertical-align: middle;\n",
       "    }\n",
       "\n",
       "    .dataframe tbody tr th {\n",
       "        vertical-align: top;\n",
       "    }\n",
       "\n",
       "    .dataframe thead th {\n",
       "        text-align: right;\n",
       "    }\n",
       "</style>\n",
       "<table border=\"1\" class=\"dataframe\">\n",
       "  <thead>\n",
       "    <tr style=\"text-align: right;\">\n",
       "      <th></th>\n",
       "      <th>categoryId</th>\n",
       "      <th>likes_log</th>\n",
       "      <th>dislikes_log</th>\n",
       "      <th>comment_count_log</th>\n",
       "      <th>publishedAt_N</th>\n",
       "    </tr>\n",
       "  </thead>\n",
       "  <tbody>\n",
       "    <tr>\n",
       "      <th>categoryId</th>\n",
       "      <td>1.00</td>\n",
       "      <td>-0.23</td>\n",
       "      <td>-0.02</td>\n",
       "      <td>-0.22</td>\n",
       "      <td>-0.01</td>\n",
       "    </tr>\n",
       "    <tr>\n",
       "      <th>likes_log</th>\n",
       "      <td>-0.23</td>\n",
       "      <td>1.00</td>\n",
       "      <td>0.12</td>\n",
       "      <td>0.80</td>\n",
       "      <td>0.04</td>\n",
       "    </tr>\n",
       "    <tr>\n",
       "      <th>dislikes_log</th>\n",
       "      <td>-0.02</td>\n",
       "      <td>0.12</td>\n",
       "      <td>1.00</td>\n",
       "      <td>0.24</td>\n",
       "      <td>-0.80</td>\n",
       "    </tr>\n",
       "    <tr>\n",
       "      <th>comment_count_log</th>\n",
       "      <td>-0.22</td>\n",
       "      <td>0.80</td>\n",
       "      <td>0.24</td>\n",
       "      <td>1.00</td>\n",
       "      <td>-0.08</td>\n",
       "    </tr>\n",
       "    <tr>\n",
       "      <th>publishedAt_N</th>\n",
       "      <td>-0.01</td>\n",
       "      <td>0.04</td>\n",
       "      <td>-0.80</td>\n",
       "      <td>-0.08</td>\n",
       "      <td>1.00</td>\n",
       "    </tr>\n",
       "  </tbody>\n",
       "</table>\n",
       "</div>"
      ],
      "text/plain": [
       "                   categoryId  likes_log  dislikes_log  comment_count_log  \\\n",
       "categoryId               1.00      -0.23         -0.02              -0.22   \n",
       "likes_log               -0.23       1.00          0.12               0.80   \n",
       "dislikes_log            -0.02       0.12          1.00               0.24   \n",
       "comment_count_log       -0.22       0.80          0.24               1.00   \n",
       "publishedAt_N           -0.01       0.04         -0.80              -0.08   \n",
       "\n",
       "                   publishedAt_N  \n",
       "categoryId                 -0.01  \n",
       "likes_log                   0.04  \n",
       "dislikes_log               -0.80  \n",
       "comment_count_log          -0.08  \n",
       "publishedAt_N               1.00  "
      ]
     },
     "execution_count": 36,
     "metadata": {},
     "output_type": "execute_result"
    }
   ],
   "source": [
    "cols = ['categoryId','likes_log','dislikes_log', 'comment_count_log', 'publishedAt_N']\n",
    "round(trimmed_df[cols].corr(), 2)"
   ]
  },
  {
   "cell_type": "code",
   "execution_count": 37,
   "metadata": {
    "colab": {
     "base_uri": "https://localhost:8080/",
     "height": 562
    },
    "executionInfo": {
     "elapsed": 897,
     "status": "ok",
     "timestamp": 1718804218362,
     "user": {
      "displayName": "(빅데이터트랙)조성현",
      "userId": "18113896222475999779"
     },
     "user_tz": -540
    },
    "id": "ZGCzJhQ043i4",
    "outputId": "2f584608-0fdb-4fca-f60e-d66be6183442"
   },
   "outputs": [
    {
     "data": {
      "image/png": "[encoded data removed]",
      "text/plain": [
       "<Figure size 640x480 with 2 Axes>"
      ]
     },
     "metadata": {},
     "output_type": "display_data"
    }
   ],
   "source": [
    "# x1과 x2의 변화 비율이 대략 0.7을 넘기면 안된다. => 머신러닝의 가중치 값이 망가지기 때문\n",
    "import seaborn as sns\n",
    "\n",
    "corr = trimmed_df[cols].corr()\n",
    "annot_kws = {\"ha\": 'center',\"va\": 'top'}\n",
    "sns.heatmap(data=corr, annot=True, annot_kws=annot_kws, cmap=\"YlGnBu\");"
   ]
  },
  {
   "cell_type": "code",
   "execution_count": 38,
   "metadata": {
    "id": "rd3vkohc4-6v"
   },
   "outputs": [],
   "source": [
    "trimmed_df.to_csv('./KR_youtube_trending_data_without_manufacturing2.csv', index=False)"
   ]
  },
  {
   "cell_type": "markdown",
   "metadata": {
    "id": "CixvnUv21ipn"
   },
   "source": [
    "# t-검정"
   ]
  },
  {
   "cell_type": "code",
   "execution_count": 39,
   "metadata": {
    "colab": {
     "base_uri": "https://localhost:8080/",
     "height": 523
    },
    "executionInfo": {
     "elapsed": 2313,
     "status": "ok",
     "timestamp": 1718809634318,
     "user": {
      "displayName": "(빅데이터트랙)조성현",
      "userId": "18113896222475999779"
     },
     "user_tz": -540
    },
    "id": "GS0sOwQMpaRl",
    "outputId": "893044bd-d524-42b8-efc1-7187d58551f0"
   },
   "outputs": [
    {
     "data": {
      "text/html": [
       "<div>\n",
       "<style scoped>\n",
       "    .dataframe tbody tr th:only-of-type {\n",
       "        vertical-align: middle;\n",
       "    }\n",
       "\n",
       "    .dataframe tbody tr th {\n",
       "        vertical-align: top;\n",
       "    }\n",
       "\n",
       "    .dataframe thead th {\n",
       "        text-align: right;\n",
       "    }\n",
       "</style>\n",
       "<table border=\"1\" class=\"dataframe\">\n",
       "  <thead>\n",
       "    <tr style=\"text-align: right;\">\n",
       "      <th></th>\n",
       "      <th>video_id</th>\n",
       "      <th>title</th>\n",
       "      <th>publishedAt</th>\n",
       "      <th>channelId</th>\n",
       "      <th>channelTitle</th>\n",
       "      <th>categoryId</th>\n",
       "      <th>trending_date</th>\n",
       "      <th>tags</th>\n",
       "      <th>view_count</th>\n",
       "      <th>likes</th>\n",
       "      <th>...</th>\n",
       "      <th>thumbnail_link</th>\n",
       "      <th>comments_disabled</th>\n",
       "      <th>ratings_disabled</th>\n",
       "      <th>description</th>\n",
       "      <th>view_count_B</th>\n",
       "      <th>description_B</th>\n",
       "      <th>publishedAt_N</th>\n",
       "      <th>likes_log</th>\n",
       "      <th>dislikes_log</th>\n",
       "      <th>comment_count_log</th>\n",
       "    </tr>\n",
       "  </thead>\n",
       "  <tbody>\n",
       "    <tr>\n",
       "      <th>0</th>\n",
       "      <td>uq5LClQN3cE</td>\n",
       "      <td>안녕하세요 보겸입니다</td>\n",
       "      <td>2020-08-09T09:32:48Z</td>\n",
       "      <td>UCu9BCtGIEr73LXZsKmoujKw</td>\n",
       "      <td>보겸 BK</td>\n",
       "      <td>24</td>\n",
       "      <td>2020-08-12T00:00:00Z</td>\n",
       "      <td>보겸|bokyem</td>\n",
       "      <td>5947503</td>\n",
       "      <td>53326</td>\n",
       "      <td>...</td>\n",
       "      <td>https://i.ytimg.com/vi/uq5LClQN3cE/default.jpg</td>\n",
       "      <td>False</td>\n",
       "      <td>False</td>\n",
       "      <td>NaN</td>\n",
       "      <td>1.0</td>\n",
       "      <td>0.0</td>\n",
       "      <td>1.596966e+09</td>\n",
       "      <td>10.884217</td>\n",
       "      <td>11.568909</td>\n",
       "      <td>11.849026</td>\n",
       "    </tr>\n",
       "    <tr>\n",
       "      <th>1</th>\n",
       "      <td>I-ZbZCHsHD0</td>\n",
       "      <td>부락토스의 계획 [총몇명 프리퀄]</td>\n",
       "      <td>2020-08-12T09:00:08Z</td>\n",
       "      <td>UCRuSxVu4iqTK5kCh90ntAgA</td>\n",
       "      <td>총몇명</td>\n",
       "      <td>1</td>\n",
       "      <td>2020-08-12T00:00:00Z</td>\n",
       "      <td>총몇명|재밌는 만화|부락토스|루시퍼|총몇명 프리퀄|총몇명 스토리</td>\n",
       "      <td>963384</td>\n",
       "      <td>28244</td>\n",
       "      <td>...</td>\n",
       "      <td>https://i.ytimg.com/vi/I-ZbZCHsHD0/default.jpg</td>\n",
       "      <td>False</td>\n",
       "      <td>False</td>\n",
       "      <td>오늘도 정말 감사드립니다!!총몇명 스튜디오 - 총몇명, 십제곱, 5G민, MOVE혁...</td>\n",
       "      <td>1.0</td>\n",
       "      <td>1.0</td>\n",
       "      <td>1.597223e+09</td>\n",
       "      <td>10.248707</td>\n",
       "      <td>6.206576</td>\n",
       "      <td>8.114025</td>\n",
       "    </tr>\n",
       "    <tr>\n",
       "      <th>2</th>\n",
       "      <td>9d7jNUjBoss</td>\n",
       "      <td>평생 반성하면서 살겠습니다.</td>\n",
       "      <td>2020-08-10T09:54:13Z</td>\n",
       "      <td>UCMVC92EOs9yDJG5JS-CMesQ</td>\n",
       "      <td>양팡 YangPang</td>\n",
       "      <td>22</td>\n",
       "      <td>2020-08-12T00:00:00Z</td>\n",
       "      <td>양팡|양팡유튜브|팡튜브|가족시트콤|양팡가족|양팡가족시트콤|양팡언니|현실남매|현실자매...</td>\n",
       "      <td>2950885</td>\n",
       "      <td>17974</td>\n",
       "      <td>...</td>\n",
       "      <td>https://i.ytimg.com/vi/9d7jNUjBoss/default.jpg</td>\n",
       "      <td>False</td>\n",
       "      <td>False</td>\n",
       "      <td>NaN</td>\n",
       "      <td>1.0</td>\n",
       "      <td>0.0</td>\n",
       "      <td>1.597053e+09</td>\n",
       "      <td>9.796793</td>\n",
       "      <td>11.140411</td>\n",
       "      <td>10.833484</td>\n",
       "    </tr>\n",
       "  </tbody>\n",
       "</table>\n",
       "<p>3 rows × 22 columns</p>\n",
       "</div>"
      ],
      "text/plain": [
       "      video_id               title           publishedAt  \\\n",
       "0  uq5LClQN3cE         안녕하세요 보겸입니다  2020-08-09T09:32:48Z   \n",
       "1  I-ZbZCHsHD0  부락토스의 계획 [총몇명 프리퀄]  2020-08-12T09:00:08Z   \n",
       "2  9d7jNUjBoss     평생 반성하면서 살겠습니다.  2020-08-10T09:54:13Z   \n",
       "\n",
       "                  channelId channelTitle  categoryId         trending_date  \\\n",
       "0  UCu9BCtGIEr73LXZsKmoujKw        보겸 BK          24  2020-08-12T00:00:00Z   \n",
       "1  UCRuSxVu4iqTK5kCh90ntAgA          총몇명           1  2020-08-12T00:00:00Z   \n",
       "2  UCMVC92EOs9yDJG5JS-CMesQ  양팡 YangPang          22  2020-08-12T00:00:00Z   \n",
       "\n",
       "                                                tags  view_count  likes  ...  \\\n",
       "0                                          보겸|bokyem     5947503  53326  ...   \n",
       "1                총몇명|재밌는 만화|부락토스|루시퍼|총몇명 프리퀄|총몇명 스토리      963384  28244  ...   \n",
       "2  양팡|양팡유튜브|팡튜브|가족시트콤|양팡가족|양팡가족시트콤|양팡언니|현실남매|현실자매...     2950885  17974  ...   \n",
       "\n",
       "                                   thumbnail_link  comments_disabled  \\\n",
       "0  https://i.ytimg.com/vi/uq5LClQN3cE/default.jpg              False   \n",
       "1  https://i.ytimg.com/vi/I-ZbZCHsHD0/default.jpg              False   \n",
       "2  https://i.ytimg.com/vi/9d7jNUjBoss/default.jpg              False   \n",
       "\n",
       "  ratings_disabled                                        description  \\\n",
       "0            False                                                NaN   \n",
       "1            False  오늘도 정말 감사드립니다!!총몇명 스튜디오 - 총몇명, 십제곱, 5G민, MOVE혁...   \n",
       "2            False                                                NaN   \n",
       "\n",
       "   view_count_B description_B  publishedAt_N  likes_log  dislikes_log  \\\n",
       "0           1.0           0.0   1.596966e+09  10.884217     11.568909   \n",
       "1           1.0           1.0   1.597223e+09  10.248707      6.206576   \n",
       "2           1.0           0.0   1.597053e+09   9.796793     11.140411   \n",
       "\n",
       "   comment_count_log  \n",
       "0          11.849026  \n",
       "1           8.114025  \n",
       "2          10.833484  \n",
       "\n",
       "[3 rows x 22 columns]"
      ]
     },
     "execution_count": 39,
     "metadata": {},
     "output_type": "execute_result"
    }
   ],
   "source": [
    "import pandas as pd       # pandas library 불러내기\n",
    "import numpy as np        # numpy library 불러내기\n",
    "\n",
    "#pd.set_option('display.max_columns', None)   # 결과물로 보여주는 열 갯수 최대화\n",
    "#pd.set_option('display.max_rows', None)      # 결과물로 보여주는 행 갯수 최대화\n",
    "\n",
    "df = pd.read_csv('./KR_youtube_trending_data_without_manufacturing2.csv', lineterminator='\\n')\n",
    "                                             # 데이터파일을 불러와서 데이터프레임(df)에 저장\n",
    "df.head(3)                                   # 데이터프레임(df)를 3행까기 보여주기"
   ]
  },
  {
   "cell_type": "code",
   "execution_count": 40,
   "metadata": {
    "colab": {
     "base_uri": "https://localhost:8080/"
    },
    "executionInfo": {
     "elapsed": 1643,
     "status": "ok",
     "timestamp": 1718809635959,
     "user": {
      "displayName": "(빅데이터트랙)조성현",
      "userId": "18113896222475999779"
     },
     "user_tz": -540
    },
    "id": "tysA-Vr55vTL",
    "outputId": "b72e7d46-246a-4caa-b807-e56d13683d23"
   },
   "outputs": [
    {
     "data": {
      "text/plain": [
       "TtestResult(statistic=-10.287073673878105, pvalue=8.950174107602836e-25, df=27120.0)"
      ]
     },
     "execution_count": 40,
     "metadata": {},
     "output_type": "execute_result"
    }
   ],
   "source": [
    "from scipy import stats\n",
    "\n",
    "data_1 = df[df['view_count_B'] == 1]['categoryId']\n",
    "data_0 = df[df['view_count_B'] == 0]['categoryId']\n",
    "\n",
    "stats.ttest_ind(data_1, data_0)"
   ]
  },
  {
   "cell_type": "code",
   "execution_count": 41,
   "metadata": {
    "colab": {
     "base_uri": "https://localhost:8080/"
    },
    "executionInfo": {
     "elapsed": 6,
     "status": "ok",
     "timestamp": 1718809635959,
     "user": {
      "displayName": "(빅데이터트랙)조성현",
      "userId": "18113896222475999779"
     },
     "user_tz": -540
    },
    "id": "xQQdHSFz50Y6",
    "outputId": "eb0f0916-f705-4812-a691-59364b71635b"
   },
   "outputs": [
    {
     "data": {
      "text/plain": [
       "TtestResult(statistic=112.36688731423074, pvalue=0.0, df=27120.0)"
      ]
     },
     "execution_count": 41,
     "metadata": {},
     "output_type": "execute_result"
    }
   ],
   "source": [
    "data_1 = df[df['view_count_B'] == 1]['likes_log']\n",
    "data_0 = df[df['view_count_B'] == 0]['likes_log']\n",
    "\n",
    "stats.ttest_ind(data_1, data_0)"
   ]
  },
  {
   "cell_type": "code",
   "execution_count": 42,
   "metadata": {
    "colab": {
     "base_uri": "https://localhost:8080/"
    },
    "executionInfo": {
     "elapsed": 5,
     "status": "ok",
     "timestamp": 1718809635959,
     "user": {
      "displayName": "(빅데이터트랙)조성현",
      "userId": "18113896222475999779"
     },
     "user_tz": -540
    },
    "id": "9Bs0J_3N6c6a",
    "outputId": "228b829f-d1c2-4caf-e1d8-7bc2fb01edc1"
   },
   "outputs": [
    {
     "data": {
      "text/plain": [
       "TtestResult(statistic=15.809120061821243, pvalue=4.793032702217625e-56, df=27120.0)"
      ]
     },
     "execution_count": 42,
     "metadata": {},
     "output_type": "execute_result"
    }
   ],
   "source": [
    "data_1 = df[df['view_count_B'] == 1]['dislikes_log']\n",
    "data_0 = df[df['view_count_B'] == 0]['dislikes_log']\n",
    "\n",
    "stats.ttest_ind(data_1, data_0)"
   ]
  },
  {
   "cell_type": "code",
   "execution_count": 43,
   "metadata": {
    "colab": {
     "base_uri": "https://localhost:8080/"
    },
    "executionInfo": {
     "elapsed": 4,
     "status": "ok",
     "timestamp": 1718809635959,
     "user": {
      "displayName": "(빅데이터트랙)조성현",
      "userId": "18113896222475999779"
     },
     "user_tz": -540
    },
    "id": "JgLuhWjvrDGb",
    "outputId": "bded5ad7-bea5-493f-ec8a-e3b8225d023b"
   },
   "outputs": [
    {
     "data": {
      "text/plain": [
       "TtestResult(statistic=103.95108113919788, pvalue=0.0, df=27120.0)"
      ]
     },
     "execution_count": 43,
     "metadata": {},
     "output_type": "execute_result"
    }
   ],
   "source": [
    "data_1 = df[df['view_count_B'] == 1]['comment_count_log']\n",
    "data_0 = df[df['view_count_B'] == 0]['comment_count_log']\n",
    "\n",
    "stats.ttest_ind(data_1, data_0)"
   ]
  },
  {
   "cell_type": "code",
   "execution_count": 44,
   "metadata": {
    "colab": {
     "base_uri": "https://localhost:8080/"
    },
    "executionInfo": {
     "elapsed": 3,
     "status": "ok",
     "timestamp": 1718809635959,
     "user": {
      "displayName": "(빅데이터트랙)조성현",
      "userId": "18113896222475999779"
     },
     "user_tz": -540
    },
    "id": "_6UD1bRTrFcK",
    "outputId": "0d22a49c-f3f8-4dbc-a4b2-32cc242549fc"
   },
   "outputs": [
    {
     "data": {
      "text/plain": [
       "TtestResult(statistic=5.513531930195251, pvalue=3.549059246154065e-08, df=27120.0)"
      ]
     },
     "execution_count": 44,
     "metadata": {},
     "output_type": "execute_result"
    }
   ],
   "source": [
    "data_1 = df[df['view_count_B'] == 1]['publishedAt_N']\n",
    "data_0 = df[df['view_count_B'] == 0]['publishedAt_N']\n",
    "\n",
    "stats.ttest_ind(data_1, data_0)"
   ]
  },
  {
   "cell_type": "code",
   "execution_count": 45,
   "metadata": {
    "id": "72LQyTx6CNYG"
   },
   "outputs": [],
   "source": [
    "df = df.drop(['likes_log'], axis=1)"
   ]
  },
  {
   "cell_type": "code",
   "execution_count": 46,
   "metadata": {
    "id": "qtMEqJ_qCjPu"
   },
   "outputs": [],
   "source": [
    "df.to_csv('./KR_youtube_trending_data_without_manufacturing3.csv', index=False)"
   ]
  },
  {
   "cell_type": "markdown",
   "metadata": {
    "id": "NxXaTbLQ28FN"
   },
   "source": [
    "# 데이터 추가 처리\n"
   ]
  },
  {
   "cell_type": "code",
   "execution_count": 47,
   "metadata": {
    "colab": {
     "base_uri": "https://localhost:8080/",
     "height": 523
    },
    "executionInfo": {
     "elapsed": 1338,
     "status": "ok",
     "timestamp": 1718809692583,
     "user": {
      "displayName": "(빅데이터트랙)조성현",
      "userId": "18113896222475999779"
     },
     "user_tz": -540
    },
    "id": "lpvnsc-E8jVM",
    "outputId": "282147dd-41f1-45db-babb-630ff10be24b"
   },
   "outputs": [
    {
     "data": {
      "text/html": [
       "<div>\n",
       "<style scoped>\n",
       "    .dataframe tbody tr th:only-of-type {\n",
       "        vertical-align: middle;\n",
       "    }\n",
       "\n",
       "    .dataframe tbody tr th {\n",
       "        vertical-align: top;\n",
       "    }\n",
       "\n",
       "    .dataframe thead th {\n",
       "        text-align: right;\n",
       "    }\n",
       "</style>\n",
       "<table border=\"1\" class=\"dataframe\">\n",
       "  <thead>\n",
       "    <tr style=\"text-align: right;\">\n",
       "      <th></th>\n",
       "      <th>video_id</th>\n",
       "      <th>title</th>\n",
       "      <th>publishedAt</th>\n",
       "      <th>channelId</th>\n",
       "      <th>channelTitle</th>\n",
       "      <th>categoryId</th>\n",
       "      <th>trending_date</th>\n",
       "      <th>tags</th>\n",
       "      <th>view_count</th>\n",
       "      <th>likes</th>\n",
       "      <th>...</th>\n",
       "      <th>comment_count</th>\n",
       "      <th>thumbnail_link</th>\n",
       "      <th>comments_disabled</th>\n",
       "      <th>ratings_disabled</th>\n",
       "      <th>description</th>\n",
       "      <th>view_count_B</th>\n",
       "      <th>description_B</th>\n",
       "      <th>publishedAt_N</th>\n",
       "      <th>dislikes_log</th>\n",
       "      <th>comment_count_log</th>\n",
       "    </tr>\n",
       "  </thead>\n",
       "  <tbody>\n",
       "    <tr>\n",
       "      <th>0</th>\n",
       "      <td>uq5LClQN3cE</td>\n",
       "      <td>안녕하세요 보겸입니다</td>\n",
       "      <td>2020-08-09T09:32:48Z</td>\n",
       "      <td>UCu9BCtGIEr73LXZsKmoujKw</td>\n",
       "      <td>보겸 BK</td>\n",
       "      <td>24</td>\n",
       "      <td>2020-08-12T00:00:00Z</td>\n",
       "      <td>보겸|bokyem</td>\n",
       "      <td>5947503</td>\n",
       "      <td>53326</td>\n",
       "      <td>...</td>\n",
       "      <td>139946</td>\n",
       "      <td>https://i.ytimg.com/vi/uq5LClQN3cE/default.jpg</td>\n",
       "      <td>False</td>\n",
       "      <td>False</td>\n",
       "      <td>NaN</td>\n",
       "      <td>1.0</td>\n",
       "      <td>0.0</td>\n",
       "      <td>1.596966e+09</td>\n",
       "      <td>11.568909</td>\n",
       "      <td>11.849026</td>\n",
       "    </tr>\n",
       "    <tr>\n",
       "      <th>1</th>\n",
       "      <td>I-ZbZCHsHD0</td>\n",
       "      <td>부락토스의 계획 [총몇명 프리퀄]</td>\n",
       "      <td>2020-08-12T09:00:08Z</td>\n",
       "      <td>UCRuSxVu4iqTK5kCh90ntAgA</td>\n",
       "      <td>총몇명</td>\n",
       "      <td>1</td>\n",
       "      <td>2020-08-12T00:00:00Z</td>\n",
       "      <td>총몇명|재밌는 만화|부락토스|루시퍼|총몇명 프리퀄|총몇명 스토리</td>\n",
       "      <td>963384</td>\n",
       "      <td>28244</td>\n",
       "      <td>...</td>\n",
       "      <td>3339</td>\n",
       "      <td>https://i.ytimg.com/vi/I-ZbZCHsHD0/default.jpg</td>\n",
       "      <td>False</td>\n",
       "      <td>False</td>\n",
       "      <td>오늘도 정말 감사드립니다!!총몇명 스튜디오 - 총몇명, 십제곱, 5G민, MOVE혁...</td>\n",
       "      <td>1.0</td>\n",
       "      <td>1.0</td>\n",
       "      <td>1.597223e+09</td>\n",
       "      <td>6.206576</td>\n",
       "      <td>8.114025</td>\n",
       "    </tr>\n",
       "    <tr>\n",
       "      <th>2</th>\n",
       "      <td>9d7jNUjBoss</td>\n",
       "      <td>평생 반성하면서 살겠습니다.</td>\n",
       "      <td>2020-08-10T09:54:13Z</td>\n",
       "      <td>UCMVC92EOs9yDJG5JS-CMesQ</td>\n",
       "      <td>양팡 YangPang</td>\n",
       "      <td>22</td>\n",
       "      <td>2020-08-12T00:00:00Z</td>\n",
       "      <td>양팡|양팡유튜브|팡튜브|가족시트콤|양팡가족|양팡가족시트콤|양팡언니|현실남매|현실자매...</td>\n",
       "      <td>2950885</td>\n",
       "      <td>17974</td>\n",
       "      <td>...</td>\n",
       "      <td>50688</td>\n",
       "      <td>https://i.ytimg.com/vi/9d7jNUjBoss/default.jpg</td>\n",
       "      <td>False</td>\n",
       "      <td>False</td>\n",
       "      <td>NaN</td>\n",
       "      <td>1.0</td>\n",
       "      <td>0.0</td>\n",
       "      <td>1.597053e+09</td>\n",
       "      <td>11.140411</td>\n",
       "      <td>10.833484</td>\n",
       "    </tr>\n",
       "  </tbody>\n",
       "</table>\n",
       "<p>3 rows × 21 columns</p>\n",
       "</div>"
      ],
      "text/plain": [
       "      video_id               title           publishedAt  \\\n",
       "0  uq5LClQN3cE         안녕하세요 보겸입니다  2020-08-09T09:32:48Z   \n",
       "1  I-ZbZCHsHD0  부락토스의 계획 [총몇명 프리퀄]  2020-08-12T09:00:08Z   \n",
       "2  9d7jNUjBoss     평생 반성하면서 살겠습니다.  2020-08-10T09:54:13Z   \n",
       "\n",
       "                  channelId channelTitle  categoryId         trending_date  \\\n",
       "0  UCu9BCtGIEr73LXZsKmoujKw        보겸 BK          24  2020-08-12T00:00:00Z   \n",
       "1  UCRuSxVu4iqTK5kCh90ntAgA          총몇명           1  2020-08-12T00:00:00Z   \n",
       "2  UCMVC92EOs9yDJG5JS-CMesQ  양팡 YangPang          22  2020-08-12T00:00:00Z   \n",
       "\n",
       "                                                tags  view_count  likes  ...  \\\n",
       "0                                          보겸|bokyem     5947503  53326  ...   \n",
       "1                총몇명|재밌는 만화|부락토스|루시퍼|총몇명 프리퀄|총몇명 스토리      963384  28244  ...   \n",
       "2  양팡|양팡유튜브|팡튜브|가족시트콤|양팡가족|양팡가족시트콤|양팡언니|현실남매|현실자매...     2950885  17974  ...   \n",
       "\n",
       "   comment_count                                  thumbnail_link  \\\n",
       "0         139946  https://i.ytimg.com/vi/uq5LClQN3cE/default.jpg   \n",
       "1           3339  https://i.ytimg.com/vi/I-ZbZCHsHD0/default.jpg   \n",
       "2          50688  https://i.ytimg.com/vi/9d7jNUjBoss/default.jpg   \n",
       "\n",
       "  comments_disabled  ratings_disabled  \\\n",
       "0             False             False   \n",
       "1             False             False   \n",
       "2             False             False   \n",
       "\n",
       "                                         description view_count_B  \\\n",
       "0                                                NaN          1.0   \n",
       "1  오늘도 정말 감사드립니다!!총몇명 스튜디오 - 총몇명, 십제곱, 5G민, MOVE혁...          1.0   \n",
       "2                                                NaN          1.0   \n",
       "\n",
       "   description_B  publishedAt_N  dislikes_log  comment_count_log  \n",
       "0            0.0   1.596966e+09     11.568909          11.849026  \n",
       "1            1.0   1.597223e+09      6.206576           8.114025  \n",
       "2            0.0   1.597053e+09     11.140411          10.833484  \n",
       "\n",
       "[3 rows x 21 columns]"
      ]
     },
     "execution_count": 47,
     "metadata": {},
     "output_type": "execute_result"
    }
   ],
   "source": [
    "import pandas as pd       # pandas library 불러내기\n",
    "import numpy as np        # numpy library 불러내기\n",
    "\n",
    "#pd.set_option('display.max_columns', None)   # 결과물로 보여주는 열 갯수 최대화\n",
    "#pd.set_option('display.max_rows', None)      # 결과물로 보여주는 행 갯수 최대화\n",
    "\n",
    "df = pd.read_csv('./KR_youtube_trending_data_without_manufacturing3.csv', lineterminator='\\n')\n",
    "                                             # 데이터파일을 불러와서 데이터프레임(df)에 저장\n",
    "df.head(3)                                   # 데이터프레임(df)를 3행까기 보여주기"
   ]
  },
  {
   "cell_type": "code",
   "execution_count": 48,
   "metadata": {
    "colab": {
     "base_uri": "https://localhost:8080/"
    },
    "executionInfo": {
     "elapsed": 2,
     "status": "ok",
     "timestamp": 1718809692583,
     "user": {
      "displayName": "(빅데이터트랙)조성현",
      "userId": "18113896222475999779"
     },
     "user_tz": -540
    },
    "id": "nY-XzTvG8_v3",
    "outputId": "a424a4e1-589d-4864-baaf-49e0af67cb52"
   },
   "outputs": [
    {
     "data": {
      "text/plain": [
       "video_id              object\n",
       "title                 object\n",
       "publishedAt           object\n",
       "channelId             object\n",
       "channelTitle          object\n",
       "categoryId             int64\n",
       "trending_date         object\n",
       "tags                  object\n",
       "view_count             int64\n",
       "likes                  int64\n",
       "dislikes               int64\n",
       "comment_count          int64\n",
       "thumbnail_link        object\n",
       "comments_disabled       bool\n",
       "ratings_disabled        bool\n",
       "description           object\n",
       "view_count_B         float64\n",
       "description_B        float64\n",
       "publishedAt_N        float64\n",
       "dislikes_log         float64\n",
       "comment_count_log    float64\n",
       "dtype: object"
      ]
     },
     "execution_count": 48,
     "metadata": {},
     "output_type": "execute_result"
    }
   ],
   "source": [
    "df.dtypes"
   ]
  },
  {
   "cell_type": "code",
   "execution_count": 49,
   "metadata": {
    "id": "fZIr8pQcwrQK"
   },
   "outputs": [],
   "source": [
    "# 사용하지 않을 변수 제거\n",
    "cols = ['title', 'publishedAt', 'channelTitle', 'trending_date', 'view_count', 'likes', 'dislikes', 'comment_count', 'thumbnail_link', 'comments_disabled', 'ratings_disabled', 'description']\n",
    "df1 = df.drop(cols, axis=1)"
   ]
  },
  {
   "cell_type": "code",
   "execution_count": 50,
   "metadata": {
    "colab": {
     "base_uri": "https://localhost:8080/"
    },
    "executionInfo": {
     "elapsed": 2,
     "status": "ok",
     "timestamp": 1718809692875,
     "user": {
      "displayName": "(빅데이터트랙)조성현",
      "userId": "18113896222475999779"
     },
     "user_tz": -540
    },
    "id": "F9q7C6AixTuj",
    "outputId": "9c12c8b2-9cf2-4477-c50a-12c37ace0af9"
   },
   "outputs": [
    {
     "data": {
      "text/plain": [
       "video_id              object\n",
       "channelId             object\n",
       "categoryId             int64\n",
       "tags                  object\n",
       "view_count_B         float64\n",
       "description_B        float64\n",
       "publishedAt_N        float64\n",
       "dislikes_log         float64\n",
       "comment_count_log    float64\n",
       "dtype: object"
      ]
     },
     "execution_count": 50,
     "metadata": {},
     "output_type": "execute_result"
    }
   ],
   "source": [
    "df1.dtypes"
   ]
  },
  {
   "cell_type": "code",
   "execution_count": 51,
   "metadata": {
    "colab": {
     "base_uri": "https://localhost:8080/",
     "height": 53
    },
    "executionInfo": {
     "elapsed": 384,
     "status": "ok",
     "timestamp": 1718809693698,
     "user": {
      "displayName": "(빅데이터트랙)조성현",
      "userId": "18113896222475999779"
     },
     "user_tz": -540
    },
    "id": "dwWZcpKYzQ9O",
    "outputId": "49bcf5fb-d62f-4438-b2f4-a3be5f782d43"
   },
   "outputs": [
    {
     "data": {
      "text/plain": [
       "\"\\n# 모든 태그를 포함하는 집합 생성\\nall_tags = set('|'.join(df1['tags']).split('|'))\\n\\n# 각 태그에 대해 열을 생성하고 초기값 0 할당\\nfor tag in all_tags:\\n    df1[f'tags_{tag}'] = 0\\n\\n# 태그가 포함되어 있으면 해당 열에 1 할당\\nfor idx, row in df1.iterrows():\\n    tags_list = row['tags'].split('|')\\n    for tag in tags_list:\\n        df1.loc[idx, f'tags_{tag}'] = 1\\n\\ndf1.head()\\n\""
      ]
     },
     "execution_count": 51,
     "metadata": {},
     "output_type": "execute_result"
    }
   ],
   "source": [
    "# 태그 분리 램오버로 불가능해 태그 드랍\n",
    "\n",
    "'''\n",
    "# 모든 태그를 포함하는 집합 생성\n",
    "all_tags = set('|'.join(df1['tags']).split('|'))\n",
    "\n",
    "# 각 태그에 대해 열을 생성하고 초기값 0 할당\n",
    "for tag in all_tags:\n",
    "    df1[f'tags_{tag}'] = 0\n",
    "\n",
    "# 태그가 포함되어 있으면 해당 열에 1 할당\n",
    "for idx, row in df1.iterrows():\n",
    "    tags_list = row['tags'].split('|')\n",
    "    for tag in tags_list:\n",
    "        df1.loc[idx, f'tags_{tag}'] = 1\n",
    "\n",
    "df1.head()\n",
    "'''"
   ]
  },
  {
   "cell_type": "code",
   "execution_count": 52,
   "metadata": {
    "colab": {
     "base_uri": "https://localhost:8080/"
    },
    "executionInfo": {
     "elapsed": 282,
     "status": "ok",
     "timestamp": 1718809694943,
     "user": {
      "displayName": "(빅데이터트랙)조성현",
      "userId": "18113896222475999779"
     },
     "user_tz": -540
    },
    "id": "cXQbThyZ3WON",
    "outputId": "8bbc0b35-ffc2-4e8b-8b0a-87893fb0ed32"
   },
   "outputs": [
    {
     "data": {
      "text/plain": [
       "video_id              object\n",
       "channelId             object\n",
       "categoryId             int64\n",
       "view_count_B         float64\n",
       "description_B        float64\n",
       "publishedAt_N        float64\n",
       "dislikes_log         float64\n",
       "comment_count_log    float64\n",
       "dtype: object"
      ]
     },
     "execution_count": 52,
     "metadata": {},
     "output_type": "execute_result"
    }
   ],
   "source": [
    "df1 = df1.drop(['tags'], axis=1)\n",
    "df1.dtypes"
   ]
  },
  {
   "cell_type": "code",
   "execution_count": 53,
   "metadata": {
    "colab": {
     "base_uri": "https://localhost:8080/",
     "height": 196
    },
    "executionInfo": {
     "elapsed": 862,
     "status": "ok",
     "timestamp": 1718809696268,
     "user": {
      "displayName": "(빅데이터트랙)조성현",
      "userId": "18113896222475999779"
     },
     "user_tz": -540
    },
    "id": "LYug9vgQARcs",
    "outputId": "59a93d56-a4bd-4c28-b5d2-aaf4c3493dcd"
   },
   "outputs": [
    {
     "data": {
      "text/html": [
       "<div>\n",
       "<style scoped>\n",
       "    .dataframe tbody tr th:only-of-type {\n",
       "        vertical-align: middle;\n",
       "    }\n",
       "\n",
       "    .dataframe tbody tr th {\n",
       "        vertical-align: top;\n",
       "    }\n",
       "\n",
       "    .dataframe thead th {\n",
       "        text-align: right;\n",
       "    }\n",
       "</style>\n",
       "<table border=\"1\" class=\"dataframe\">\n",
       "  <thead>\n",
       "    <tr style=\"text-align: right;\">\n",
       "      <th></th>\n",
       "      <th>video_id</th>\n",
       "      <th>categoryId</th>\n",
       "      <th>view_count_B</th>\n",
       "      <th>description_B</th>\n",
       "      <th>publishedAt_N</th>\n",
       "      <th>dislikes_log</th>\n",
       "      <th>comment_count_log</th>\n",
       "      <th>channelId_UC-0229MiVYnQoUxdLJnFl_g</th>\n",
       "      <th>channelId_UC-0C8yVGJy-cS4FGlYKelWw</th>\n",
       "      <th>channelId_UC-0tICWyA0_AJAVMBHL8GdQ</th>\n",
       "      <th>...</th>\n",
       "      <th>channelId_UCzm5GOElgUN-oLutNduDObA</th>\n",
       "      <th>channelId_UCznImSIaxZR7fdLCICLdgaQ</th>\n",
       "      <th>channelId_UCzpOLMBZ6qxhb6GJ5eksq5A</th>\n",
       "      <th>channelId_UCzt24ffdUiJvJAm5HY084aw</th>\n",
       "      <th>channelId_UCzteSXznVjwESizsCcSKSWw</th>\n",
       "      <th>channelId_UCzw-C7fNfs018R1FzIKnlaA</th>\n",
       "      <th>channelId_UCzxXBQnJy9guqVNM6KXi0Ig</th>\n",
       "      <th>channelId_UCzz58-H0wzmGoFi3MO_9ePQ</th>\n",
       "      <th>channelId_UCzznO4xSV8BKnUBPyswtCUw</th>\n",
       "      <th>channelId_UCzzt6bFEBcy-CoZeFvTSq0A</th>\n",
       "    </tr>\n",
       "  </thead>\n",
       "  <tbody>\n",
       "    <tr>\n",
       "      <th>0</th>\n",
       "      <td>uq5LClQN3cE</td>\n",
       "      <td>24</td>\n",
       "      <td>1.0</td>\n",
       "      <td>0.0</td>\n",
       "      <td>1.596966e+09</td>\n",
       "      <td>11.568909</td>\n",
       "      <td>11.849026</td>\n",
       "      <td>False</td>\n",
       "      <td>False</td>\n",
       "      <td>False</td>\n",
       "      <td>...</td>\n",
       "      <td>False</td>\n",
       "      <td>False</td>\n",
       "      <td>False</td>\n",
       "      <td>False</td>\n",
       "      <td>False</td>\n",
       "      <td>False</td>\n",
       "      <td>False</td>\n",
       "      <td>False</td>\n",
       "      <td>False</td>\n",
       "      <td>False</td>\n",
       "    </tr>\n",
       "    <tr>\n",
       "      <th>1</th>\n",
       "      <td>I-ZbZCHsHD0</td>\n",
       "      <td>1</td>\n",
       "      <td>1.0</td>\n",
       "      <td>1.0</td>\n",
       "      <td>1.597223e+09</td>\n",
       "      <td>6.206576</td>\n",
       "      <td>8.114025</td>\n",
       "      <td>False</td>\n",
       "      <td>False</td>\n",
       "      <td>False</td>\n",
       "      <td>...</td>\n",
       "      <td>False</td>\n",
       "      <td>False</td>\n",
       "      <td>False</td>\n",
       "      <td>False</td>\n",
       "      <td>False</td>\n",
       "      <td>False</td>\n",
       "      <td>False</td>\n",
       "      <td>False</td>\n",
       "      <td>False</td>\n",
       "      <td>False</td>\n",
       "    </tr>\n",
       "  </tbody>\n",
       "</table>\n",
       "<p>2 rows × 3424 columns</p>\n",
       "</div>"
      ],
      "text/plain": [
       "      video_id  categoryId  view_count_B  description_B  publishedAt_N  \\\n",
       "0  uq5LClQN3cE          24           1.0            0.0   1.596966e+09   \n",
       "1  I-ZbZCHsHD0           1           1.0            1.0   1.597223e+09   \n",
       "\n",
       "   dislikes_log  comment_count_log  channelId_UC-0229MiVYnQoUxdLJnFl_g  \\\n",
       "0     11.568909          11.849026                               False   \n",
       "1      6.206576           8.114025                               False   \n",
       "\n",
       "   channelId_UC-0C8yVGJy-cS4FGlYKelWw  channelId_UC-0tICWyA0_AJAVMBHL8GdQ  \\\n",
       "0                               False                               False   \n",
       "1                               False                               False   \n",
       "\n",
       "   ...  channelId_UCzm5GOElgUN-oLutNduDObA  \\\n",
       "0  ...                               False   \n",
       "1  ...                               False   \n",
       "\n",
       "   channelId_UCznImSIaxZR7fdLCICLdgaQ  channelId_UCzpOLMBZ6qxhb6GJ5eksq5A  \\\n",
       "0                               False                               False   \n",
       "1                               False                               False   \n",
       "\n",
       "   channelId_UCzt24ffdUiJvJAm5HY084aw  channelId_UCzteSXznVjwESizsCcSKSWw  \\\n",
       "0                               False                               False   \n",
       "1                               False                               False   \n",
       "\n",
       "   channelId_UCzw-C7fNfs018R1FzIKnlaA  channelId_UCzxXBQnJy9guqVNM6KXi0Ig  \\\n",
       "0                               False                               False   \n",
       "1                               False                               False   \n",
       "\n",
       "   channelId_UCzz58-H0wzmGoFi3MO_9ePQ  channelId_UCzznO4xSV8BKnUBPyswtCUw  \\\n",
       "0                               False                               False   \n",
       "1                               False                               False   \n",
       "\n",
       "   channelId_UCzzt6bFEBcy-CoZeFvTSq0A  \n",
       "0                               False  \n",
       "1                               False  \n",
       "\n",
       "[2 rows x 3424 columns]"
      ]
     },
     "execution_count": 53,
     "metadata": {},
     "output_type": "execute_result"
    }
   ],
   "source": [
    "df_with_dummies = pd.get_dummies(df1, columns = ['channelId'])\n",
    "df_with_dummies.head(2)"
   ]
  },
  {
   "cell_type": "code",
   "execution_count": 54,
   "metadata": {
    "id": "ubfqm9mSvT1R"
   },
   "outputs": [],
   "source": [
    "bool_columns = df_with_dummies.select_dtypes(include=['bool']).columns\n",
    "for column in bool_columns:\n",
    "  df_with_dummies[column] = df_with_dummies[column].astype(int)"
   ]
  },
  {
   "cell_type": "code",
   "execution_count": 55,
   "metadata": {
    "colab": {
     "base_uri": "https://localhost:8080/",
     "height": 196
    },
    "executionInfo": {
     "elapsed": 330,
     "status": "ok",
     "timestamp": 1718809699360,
     "user": {
      "displayName": "(빅데이터트랙)조성현",
      "userId": "18113896222475999779"
     },
     "user_tz": -540
    },
    "id": "DPdi6rt3XuK3",
    "outputId": "f210c659-e3bb-4eb8-dea5-153b0ce46e4d"
   },
   "outputs": [
    {
     "data": {
      "text/html": [
       "<div>\n",
       "<style scoped>\n",
       "    .dataframe tbody tr th:only-of-type {\n",
       "        vertical-align: middle;\n",
       "    }\n",
       "\n",
       "    .dataframe tbody tr th {\n",
       "        vertical-align: top;\n",
       "    }\n",
       "\n",
       "    .dataframe thead th {\n",
       "        text-align: right;\n",
       "    }\n",
       "</style>\n",
       "<table border=\"1\" class=\"dataframe\">\n",
       "  <thead>\n",
       "    <tr style=\"text-align: right;\">\n",
       "      <th></th>\n",
       "      <th>video_id</th>\n",
       "      <th>categoryId</th>\n",
       "      <th>view_count_B</th>\n",
       "      <th>description_B</th>\n",
       "      <th>publishedAt_N</th>\n",
       "      <th>dislikes_log</th>\n",
       "      <th>comment_count_log</th>\n",
       "      <th>channelId_UC-0229MiVYnQoUxdLJnFl_g</th>\n",
       "      <th>channelId_UC-0C8yVGJy-cS4FGlYKelWw</th>\n",
       "      <th>channelId_UC-0tICWyA0_AJAVMBHL8GdQ</th>\n",
       "      <th>...</th>\n",
       "      <th>channelId_UCzm5GOElgUN-oLutNduDObA</th>\n",
       "      <th>channelId_UCznImSIaxZR7fdLCICLdgaQ</th>\n",
       "      <th>channelId_UCzpOLMBZ6qxhb6GJ5eksq5A</th>\n",
       "      <th>channelId_UCzt24ffdUiJvJAm5HY084aw</th>\n",
       "      <th>channelId_UCzteSXznVjwESizsCcSKSWw</th>\n",
       "      <th>channelId_UCzw-C7fNfs018R1FzIKnlaA</th>\n",
       "      <th>channelId_UCzxXBQnJy9guqVNM6KXi0Ig</th>\n",
       "      <th>channelId_UCzz58-H0wzmGoFi3MO_9ePQ</th>\n",
       "      <th>channelId_UCzznO4xSV8BKnUBPyswtCUw</th>\n",
       "      <th>channelId_UCzzt6bFEBcy-CoZeFvTSq0A</th>\n",
       "    </tr>\n",
       "  </thead>\n",
       "  <tbody>\n",
       "    <tr>\n",
       "      <th>0</th>\n",
       "      <td>uq5LClQN3cE</td>\n",
       "      <td>24</td>\n",
       "      <td>1.0</td>\n",
       "      <td>0.0</td>\n",
       "      <td>1.596966e+09</td>\n",
       "      <td>11.568909</td>\n",
       "      <td>11.849026</td>\n",
       "      <td>0</td>\n",
       "      <td>0</td>\n",
       "      <td>0</td>\n",
       "      <td>...</td>\n",
       "      <td>0</td>\n",
       "      <td>0</td>\n",
       "      <td>0</td>\n",
       "      <td>0</td>\n",
       "      <td>0</td>\n",
       "      <td>0</td>\n",
       "      <td>0</td>\n",
       "      <td>0</td>\n",
       "      <td>0</td>\n",
       "      <td>0</td>\n",
       "    </tr>\n",
       "    <tr>\n",
       "      <th>1</th>\n",
       "      <td>I-ZbZCHsHD0</td>\n",
       "      <td>1</td>\n",
       "      <td>1.0</td>\n",
       "      <td>1.0</td>\n",
       "      <td>1.597223e+09</td>\n",
       "      <td>6.206576</td>\n",
       "      <td>8.114025</td>\n",
       "      <td>0</td>\n",
       "      <td>0</td>\n",
       "      <td>0</td>\n",
       "      <td>...</td>\n",
       "      <td>0</td>\n",
       "      <td>0</td>\n",
       "      <td>0</td>\n",
       "      <td>0</td>\n",
       "      <td>0</td>\n",
       "      <td>0</td>\n",
       "      <td>0</td>\n",
       "      <td>0</td>\n",
       "      <td>0</td>\n",
       "      <td>0</td>\n",
       "    </tr>\n",
       "  </tbody>\n",
       "</table>\n",
       "<p>2 rows × 3424 columns</p>\n",
       "</div>"
      ],
      "text/plain": [
       "      video_id  categoryId  view_count_B  description_B  publishedAt_N  \\\n",
       "0  uq5LClQN3cE          24           1.0            0.0   1.596966e+09   \n",
       "1  I-ZbZCHsHD0           1           1.0            1.0   1.597223e+09   \n",
       "\n",
       "   dislikes_log  comment_count_log  channelId_UC-0229MiVYnQoUxdLJnFl_g  \\\n",
       "0     11.568909          11.849026                                   0   \n",
       "1      6.206576           8.114025                                   0   \n",
       "\n",
       "   channelId_UC-0C8yVGJy-cS4FGlYKelWw  channelId_UC-0tICWyA0_AJAVMBHL8GdQ  \\\n",
       "0                                   0                                   0   \n",
       "1                                   0                                   0   \n",
       "\n",
       "   ...  channelId_UCzm5GOElgUN-oLutNduDObA  \\\n",
       "0  ...                                   0   \n",
       "1  ...                                   0   \n",
       "\n",
       "   channelId_UCznImSIaxZR7fdLCICLdgaQ  channelId_UCzpOLMBZ6qxhb6GJ5eksq5A  \\\n",
       "0                                   0                                   0   \n",
       "1                                   0                                   0   \n",
       "\n",
       "   channelId_UCzt24ffdUiJvJAm5HY084aw  channelId_UCzteSXznVjwESizsCcSKSWw  \\\n",
       "0                                   0                                   0   \n",
       "1                                   0                                   0   \n",
       "\n",
       "   channelId_UCzw-C7fNfs018R1FzIKnlaA  channelId_UCzxXBQnJy9guqVNM6KXi0Ig  \\\n",
       "0                                   0                                   0   \n",
       "1                                   0                                   0   \n",
       "\n",
       "   channelId_UCzz58-H0wzmGoFi3MO_9ePQ  channelId_UCzznO4xSV8BKnUBPyswtCUw  \\\n",
       "0                                   0                                   0   \n",
       "1                                   0                                   0   \n",
       "\n",
       "   channelId_UCzzt6bFEBcy-CoZeFvTSq0A  \n",
       "0                                   0  \n",
       "1                                   0  \n",
       "\n",
       "[2 rows x 3424 columns]"
      ]
     },
     "execution_count": 55,
     "metadata": {},
     "output_type": "execute_result"
    }
   ],
   "source": [
    "df_with_dummies.head(2)"
   ]
  },
  {
   "cell_type": "code",
   "execution_count": 56,
   "metadata": {
    "colab": {
     "base_uri": "https://localhost:8080/"
    },
    "executionInfo": {
     "elapsed": 2,
     "status": "ok",
     "timestamp": 1718809700607,
     "user": {
      "displayName": "(빅데이터트랙)조성현",
      "userId": "18113896222475999779"
     },
     "user_tz": -540
    },
    "id": "hus8XB1NZ_mZ",
    "outputId": "2336654d-c71d-4217-f01d-b5590db0e716"
   },
   "outputs": [
    {
     "data": {
      "text/plain": [
       "['video_id',\n",
       " 'categoryId',\n",
       " 'view_count_B',\n",
       " 'description_B',\n",
       " 'publishedAt_N',\n",
       " 'dislikes_log',\n",
       " 'comment_count_log',\n",
       " 'channelId_UC-0229MiVYnQoUxdLJnFl_g',\n",
       " 'channelId_UC-0C8yVGJy-cS4FGlYKelWw',\n",
       " 'channelId_UC-0tICWyA0_AJAVMBHL8GdQ',\n",
       " 'channelId_UC-2Y8dQb0S6DtpxNgAKoJKA',\n",
       " 'channelId_UC-2wa6jvprl7hfCpvw0ULzg',\n",
       " 'channelId_UC-3Fh1L6hOSV9ylvpr5g8_Q',\n",
       " 'channelId_UC-5acDjU6XFWu-__G17V_YQ',\n",
       " 'channelId_UC-603KNB_fvzHP9MpBqSKWg',\n",
       " 'channelId_UC-60AlFBYJEoItr-u-tQXbw',\n",
       " 'channelId_UC-7ZO1RZQq4O_xq9Zu8CyOg',\n",
       " 'channelId_UC-9RQCJ0gS_Kgt7J0SVrE8w',\n",
       " 'channelId_UC-BqPABOl7c7rR5EoJJZ0UA',\n",
       " 'channelId_UC-Bsa2ivAGWq7bsSPrPGFVA',\n",
       " 'channelId_UC-EGSdvtv-2DU0379QyjamQ',\n",
       " 'channelId_UC-FQUIVQ-bZiefzBiQAa8Fw',\n",
       " 'channelId_UC-FaJiyj_aXKCRwvnIHsQhw',\n",
       " 'channelId_UC-Fnix71vRP64WXeo0ikd0Q',\n",
       " 'channelId_UC-GmBxdeL-vxnO1qc0en2bg',\n",
       " 'channelId_UC-IBt8pM8hWx8wiwjcDLdIQ',\n",
       " 'channelId_UC-IG_h142pRnsilk8TkoZxA',\n",
       " 'channelId_UC-IPoGHVF1W1_uwm4byBimA',\n",
       " 'channelId_UC-IYpdOqjkER7B6cnChwlhA',\n",
       " 'channelId_UC-IfewS80QpiZ1FApsmzvQw',\n",
       " 'channelId_UC-J-KZfRV8c13fOCkhXdLiQ',\n",
       " 'channelId_UC-JblcinswY50lrUdSaRNEg',\n",
       " 'channelId_UC-KKyXhcxaUvZr7o8HpE_PA',\n",
       " 'channelId_UC-KafR_WOgyxLK_2FBsP8-w',\n",
       " 'channelId_UC-O5NH69l-aCDCcC7J9Kb2A',\n",
       " 'channelId_UC-ORGzN6c-OZyCw9YAYNjkA',\n",
       " 'channelId_UC-OW8mKVeQF48oMsVNOpBVg',\n",
       " 'channelId_UC-OcDPFxfY9Hhdf5P9zq7-A',\n",
       " 'channelId_UC-QNLjGvjEdwqtl3VtcuqgQ',\n",
       " 'channelId_UC-QTYOUwcMm-rWCctXiavzA',\n",
       " 'channelId_UC-V6odR7HzLCuqjYeowPjLA',\n",
       " 'channelId_UC-VOS64-yFfGa3S7BZR2nOw',\n",
       " 'channelId_UC-VbFgagk6GJGDJgRQIMpZw',\n",
       " 'channelId_UC-VpSzzDWARAYF6gpChqukw',\n",
       " 'channelId_UC-YRx5jfreS9abTGxfmV4Hg',\n",
       " 'channelId_UC-ZHt5Zgadfx-B1CM63Lqew',\n",
       " 'channelId_UC-Zedn7a_RJyb5hUQ-aGZog',\n",
       " 'channelId_UC-cK0fl5r0F0WKPxGvQulgQ',\n",
       " 'channelId_UC-clMkTZa7k-FxmNgMjoCgQ',\n",
       " 'channelId_UC-e1jt_Mu-9V7Eft-NEocrg',\n",
       " 'channelId_UC-eTb9jMM-qnz6w1LQiYxBw',\n",
       " 'channelId_UC-ehnem-k8Z9mXeCykuZkag',\n",
       " 'channelId_UC-ejbzW5HSaw8TNgBqlGbwQ',\n",
       " 'channelId_UC-fhNL_dYadAjYpT2mjhedw',\n",
       " 'channelId_UC-gQrUNu6L6Cudb4T1ioobA',\n",
       " 'channelId_UC-giR4eq2GRrSN1KY0H8_mA',\n",
       " 'channelId_UC-iJgiHZ0joj2cQWpszkqPw',\n",
       " 'channelId_UC-iXo96WnXvDLA0C90Vlllg',\n",
       " 'channelId_UC-jHB5e-6LF-yz0kMCTZWdg',\n",
       " 'channelId_UC-jWE9zIvKZ7C7jNYUQ3VaA',\n",
       " 'channelId_UC-mTngidALJqbjUcTyZMZ8Q',\n",
       " 'channelId_UC-mvTI0H8QQPwXXF9P9Wmkw',\n",
       " 'channelId_UC-oCJP9t47v7-DmsnmXV38Q',\n",
       " 'channelId_UC-qYkzKFdekoEniRu_FS3zg',\n",
       " 'channelId_UC-r6uEcABaxKHLkFo3j1sHQ',\n",
       " 'channelId_UC-sALATQ5O56R1ctGBf9y0Q',\n",
       " 'channelId_UC-swYD-2HDI8__JkO6QKc3w',\n",
       " 'channelId_UC-swf20n5xdKW0waeLpXPFQ',\n",
       " 'channelId_UC-tf6zl3dN2oTpvdTnBKScA',\n",
       " 'channelId_UC-uIpGINZDL-VIHQQzJW8jw',\n",
       " 'channelId_UC-x55HF1-IilhxZOzwJm7JA',\n",
       " 'channelId_UC-yxgzS27lEhpOBbtDdP-1Q',\n",
       " 'channelId_UC00wMKeoF72UURd3WO9pZHw',\n",
       " 'channelId_UC014CTCdGJzeQfJtxnnMyjQ',\n",
       " 'channelId_UC04-afbdz7t183esR6cq2HA',\n",
       " 'channelId_UC0C-w0YjGpqDXGB8IHb662A',\n",
       " 'channelId_UC0C9u4fSa1Ze36tcJoVyu9g',\n",
       " 'channelId_UC0D7tPBhxeFxNDUrrT4JBcw',\n",
       " 'channelId_UC0EpedkBG2k7kd8UGJuYShQ',\n",
       " 'channelId_UC0G0Z05LATPtpUkxeOrEjOA',\n",
       " 'channelId_UC0IOhbfmgI2-k73cLj2ylaw',\n",
       " 'channelId_UC0JG_PODzBXS5bYs5uoONlw',\n",
       " 'channelId_UC0MhsY1Nc467re-66o6xwRg',\n",
       " 'channelId_UC0NLUpQMEbL71-a2-vhBOKQ',\n",
       " 'channelId_UC0PsUG07plnP_uQQS9djFVQ',\n",
       " 'channelId_UC0QKPVkRkvgupomhEYK1Uhw',\n",
       " 'channelId_UC0QLlya0ouABayHyzwt6MqA',\n",
       " 'channelId_UC0QmCmZuE1uQcvqHVg2OYDQ',\n",
       " 'channelId_UC0RmG5tT5r05BDBlW55i-pA',\n",
       " 'channelId_UC0SI1QyV1HlA0aekZBouCWg',\n",
       " 'channelId_UC0SoPwEH3idvemSDvKaYgGA',\n",
       " 'channelId_UC0UGjBbSm77f_hZKqlY0JVA',\n",
       " 'channelId_UC0VOyT2OCBKdQhF3BAbZ-1g',\n",
       " 'channelId_UC0VR2v4TZeGcOrZHnmwbU_Q',\n",
       " 'channelId_UC0YPr7SRdmyrMFvtITxyeFg',\n",
       " 'channelId_UC0aKwoKNeqBaUwiEXmkQaGQ',\n",
       " 'channelId_UC0fmjgbVA8iZrPbIR3dppUQ',\n",
       " 'channelId_UC0gAVwGvV-_hyXY5wnp7BEQ',\n",
       " 'channelId_UC0gpUnoyhu44aS3-NxYs7rg',\n",
       " 'channelId_UC0htUSwcxfSGNfK_5Q28JkA',\n",
       " 'channelId_UC0iasYSy_hhIOlQiGDSQKmA',\n",
       " 'channelId_UC0imORt231LWWyyotvE3lUw',\n",
       " 'channelId_UC0oRRcVleNBmELYTgzwoBpg',\n",
       " 'channelId_UC0rvHJXEru3q7WXyw482VFQ',\n",
       " 'channelId_UC0sfSZeoSUeWxys7OKkTelQ',\n",
       " 'channelId_UC0sofK0o9srBYeRmCNZa4BQ',\n",
       " 'channelId_UC0ssa8zC_3oif4iZcUe5VUg',\n",
       " 'channelId_UC0uTcuuOtUFwtn9aKUVGjXg',\n",
       " 'channelId_UC0uwfqFKr9CpzYev9UWFSuQ',\n",
       " 'channelId_UC0v-tlzsn0QZwJnkiaUSJVQ',\n",
       " 'channelId_UC0w2Xg4UB8ip-QnZnHpFB-g',\n",
       " 'channelId_UC0wNauoCVIfU_xtWwrczFiA',\n",
       " 'channelId_UC0wTMgEaLfGdLrrPXGGomOQ',\n",
       " 'channelId_UC0z8bddfRBRBmEC-AjI6UXw',\n",
       " 'channelId_UC1-lwASmWqqU1V_WLNIRALw',\n",
       " 'channelId_UC12HMtO5MYph9dCZZ7yygng',\n",
       " 'channelId_UC12XQWcIlaavjjbhh6EeMJw',\n",
       " 'channelId_UC12YJZLancDKojjbRunyhZA',\n",
       " 'channelId_UC14UlmYlSNiQCBe9Eookf_A',\n",
       " 'channelId_UC16Zo1k7CM_mfuc2yJATLmg',\n",
       " 'channelId_UC18g7gN0Hug_p52chKoKUHQ',\n",
       " 'channelId_UC1B6SalAoiJD7eHfMUA9QrA',\n",
       " 'channelId_UC1DZpQ2DDExws9Zvl7UcSkg',\n",
       " 'channelId_UC1Do3xw9OuUk7FQuPTmSVOw',\n",
       " 'channelId_UC1EEpE0lA9BaArXhRTHIG6w',\n",
       " 'channelId_UC1Ei9xWth3jnYypj161vBJA',\n",
       " 'channelId_UC1EiHIhV6UDRWOY6BaEavdw',\n",
       " 'channelId_UC1GHhgeOIvOgrDBtrHXbJ3w',\n",
       " 'channelId_UC1HHeTLXHMM5FiEyQpS1toA',\n",
       " 'channelId_UC1JuasrqdCZ63YhKhxZ0J3w',\n",
       " 'channelId_UC1K0SJqmbK5yePofxFhMygg',\n",
       " 'channelId_UC1KtPX8LNDk5ghwgY7khWDA',\n",
       " 'channelId_UC1L79yKbmVepsCYusa4KHLQ',\n",
       " 'channelId_UC1LWEy4e4tudhEzMwjpBdsw',\n",
       " 'channelId_UC1RsGgbqw0FtgDexi6eMWGA',\n",
       " 'channelId_UC1Rz7a_DWtsE9cQwSyElE0Q',\n",
       " 'channelId_UC1UK94nJ1bDJQQrIUFba6Ww',\n",
       " 'channelId_UC1UebYbC2j7M_IUHADtqOag',\n",
       " 'channelId_UC1VU-FHvhbom5tPSCEB-e4g',\n",
       " 'channelId_UC1aS5CRRDrN6CmR2VcpmetA',\n",
       " 'channelId_UC1cWTErb7vw_UmmuB0dYgsQ',\n",
       " 'channelId_UC1dK7oMUSR9Rnk1BSpOKZng',\n",
       " 'channelId_UC1eIASyCXzaeOuBbGOubI9g',\n",
       " 'channelId_UC1g9JaEVLOFGhH8hpaK--Jg',\n",
       " 'channelId_UC1ifSsWUG241rRfK0ezYCgA',\n",
       " 'channelId_UC1ihKJ6GH37xoWdtllZqhLw',\n",
       " 'channelId_UC1kH-VYlqReIIo5rYQ6IoEA',\n",
       " 'channelId_UC1neuSEEodXKk84-5BrfitQ',\n",
       " 'channelId_UC1oXmhvYHVI2bApphh3IzuQ',\n",
       " 'channelId_UC1q4Ihlv_YhLELw-ijE0Diw',\n",
       " 'channelId_UC1r112Pr9Ngcg2NtcE946HQ',\n",
       " 'channelId_UC1rVspUVgsWRqvSPGe7mSRQ',\n",
       " 'channelId_UC1reoal0esOCQkomB97e9wQ',\n",
       " 'channelId_UC1spJ1bsr5C97wbySRIBpkA',\n",
       " 'channelId_UC1u8CrhFa4eHTLgyv3LkE1Q',\n",
       " 'channelId_UC1w8n82XeekpcvsgeBpxslA',\n",
       " 'channelId_UC1whNTUktVvQpbEuNqWTSvQ',\n",
       " 'channelId_UC1wjdW8A3HSQMoQeu79-yLw',\n",
       " 'channelId_UC1x03ziDHPct2xTikLyfMDA',\n",
       " 'channelId_UC1xFZn4tv_uWc-hAmX97agw',\n",
       " 'channelId_UC2-BeLxzUBSs0uSrmzWhJuQ',\n",
       " 'channelId_UC2-LriIdFw4d-KKVyGvY96A',\n",
       " 'channelId_UC2-VHbcGqGxNRUv0YIekMkA',\n",
       " 'channelId_UC20WKIEa3slx_Kgta0QqFKg',\n",
       " 'channelId_UC218FQ8GUvRP29lU9-oQN1g',\n",
       " 'channelId_UC223G1Qi7_WWZqN6gtxCtSw',\n",
       " 'channelId_UC22go5LdQEw-iDuxFb4C0hw',\n",
       " 'channelId_UC25eRTh9pxgEVWlndAn57bA',\n",
       " 'channelId_UC26G--WPTWML5bTN50vrbtw',\n",
       " 'channelId_UC26M8buvjR-X0L0cRifPmLA',\n",
       " 'channelId_UC26QQCGh66xFU_NjhYLwdQQ',\n",
       " 'channelId_UC26zJf6LAJpBb8thyvsvwyw',\n",
       " 'channelId_UC270ueFEsQ21S26TYI_9yVA',\n",
       " 'channelId_UC271vX3c3kYZsgpz7-zPBoA',\n",
       " 'channelId_UC28KIazhcYzHC4JvHRfMZjg',\n",
       " 'channelId_UC29-IlHm6kbDB1ox8GthODw',\n",
       " 'channelId_UC2BmSdUv0_jZYFBAaYtCrsQ',\n",
       " 'channelId_UC2DHU9RPlx9DpY0pMfL7jBg',\n",
       " 'channelId_UC2DoArGfQAO8wkkr3E1BHnw',\n",
       " 'channelId_UC2E-9AQ-kwOFlvvXLfY6V8Q',\n",
       " 'channelId_UC2E0XKVsdfasiPR4cY7RozA',\n",
       " 'channelId_UC2FDVyrQnjoZCUyk9fmqd9g',\n",
       " 'channelId_UC2HpuDVpPpfM3hxVZ7fSLgg',\n",
       " 'channelId_UC2IIBYSTMSvJaK2UJzCC06g',\n",
       " 'channelId_UC2KEmFk5uE9bYvxoHuUFH5g',\n",
       " 'channelId_UC2KUewlF-PdkGukAOI-sTqw',\n",
       " 'channelId_UC2KmG_o7JZcPr052P87GdsQ',\n",
       " 'channelId_UC2Lgi2uPsOcCVF3imz7l2mg',\n",
       " 'channelId_UC2MgNh831KCMuYkK7u8C2dg',\n",
       " 'channelId_UC2N0VhfWFDacxw2UY_KEImg',\n",
       " 'channelId_UC2NFRq9s2neD_Ml0tPhNC2Q',\n",
       " 'channelId_UC2PSaEnLp6pyqFCvYvhrZmw',\n",
       " 'channelId_UC2Q9aMzydgPeSXeeJjtqqbw',\n",
       " 'channelId_UC2QeHNJFfuQWB4cy3M-745g',\n",
       " 'channelId_UC2TjEZng4t3kcLacQW-AXbw',\n",
       " 'channelId_UC2Vcz3eu1hO2zoyTpGvSWkw',\n",
       " 'channelId_UC2XG0imSKv6ABrcwWlVxXiw',\n",
       " 'channelId_UC2XRTuTf0tnqcNBcWeaCVFg',\n",
       " 'channelId_UC2X_pEXXcvVZY5XlyeLR4_w',\n",
       " 'channelId_UC2Zi06YjNBM37g8d0IkHPMA',\n",
       " 'channelId_UC2aMxQN1ufDytsl6c-keLhA',\n",
       " 'channelId_UC2aYDhDxPg4JL6vncQUDHlw',\n",
       " 'channelId_UC2aul0Y3jUJ9sMzOhWPT9AA',\n",
       " 'channelId_UC2b4WRE5BZ6SIUWBeJU8rwg',\n",
       " 'channelId_UC2bIYeGlydYyiaRMpuvx95w',\n",
       " 'channelId_UC2e4Ukj5Pfr7cb3KpJAFBdQ',\n",
       " 'channelId_UC2emKV0kcPDKNl9EtDm4Ubg',\n",
       " 'channelId_UC2fNt6XqBzBhvty-vmITXXA',\n",
       " 'channelId_UC2fRmj7qqiuD5VXtBO4hh2A',\n",
       " 'channelId_UC2gasvQVxOdRht9ykwhxwjw',\n",
       " 'channelId_UC2hg4PWtZSkmFxeR_g2EiZQ',\n",
       " 'channelId_UC2jHhn8GMouSKUiauOsiR3w',\n",
       " 'channelId_UC2jkfOUD5KNbIpkb77-chqQ',\n",
       " 'channelId_UC2m-GyKO2n3LrkYr9YEIBcA',\n",
       " 'channelId_UC2mh3isUlxcxh4KshnuRxHw',\n",
       " 'channelId_UC2mnRZUYMDrhUEuJnZ9ghBw',\n",
       " 'channelId_UC2o_y872S6YvaO1K8EYnoxg',\n",
       " 'channelId_UC2p_1UG0IjoRfAo8rmVsmKQ',\n",
       " 'channelId_UC2qC8rZXwCiGYEhWsXRyMzg',\n",
       " 'channelId_UC2qVOOz13xLXHaw9yW-aMXQ',\n",
       " 'channelId_UC2qjHK7wWxzb8mF9lgf7uXQ',\n",
       " 'channelId_UC2t5bjwHdUX4vM2g8TRDq5g',\n",
       " 'channelId_UC2tbZfs11e-5MND58_jfDCA',\n",
       " 'channelId_UC2tfQfxl_wmAosF4ES_zULw',\n",
       " 'channelId_UC2ukAHT9BdMuyD3iOyDrGDA',\n",
       " 'channelId_UC2vZ-y5LAIaqJt5aIp9o-Tg',\n",
       " 'channelId_UC2xkO7XCiStWfR3fKbzkbqw',\n",
       " 'channelId_UC3-N9DpeDRV7rOVIonPwVvg',\n",
       " 'channelId_UC3-ec2vBMPdBWEE1jG4tEVg',\n",
       " 'channelId_UC31-nUU7jhm3I5DCYh6uLBA',\n",
       " 'channelId_UC31ypOxFsuU3Q0OFpQzcQ3g',\n",
       " 'channelId_UC33yEDM8q3N8BeMpZMdP66Q',\n",
       " 'channelId_UC34DbNyD_0t8tnOc5V38Big',\n",
       " 'channelId_UC35HKvKYPkri4Grd5KXl3wQ',\n",
       " 'channelId_UC36pAgTYO6M-xFXVhp5paPA',\n",
       " 'channelId_UC37fRkl_iIjDAr9pf0FFzGA',\n",
       " 'channelId_UC38IlqMxZ_YtFg3eSGmmJnQ',\n",
       " 'channelId_UC3917z86gdSnaQ59L6Cj05w',\n",
       " 'channelId_UC3Ax4Vmwbf7EMwBfjyjz7NA',\n",
       " 'channelId_UC3Ea2-Ut3navgOlTfoq790g',\n",
       " 'channelId_UC3GEDF05hzA8xTyN0ZTZWag',\n",
       " 'channelId_UC3Gtk0sWC1NaN5PYW_hbcjg',\n",
       " 'channelId_UC3HXXAUYdCkWQHmUP3uHXHA',\n",
       " 'channelId_UC3IZKseVpdzPSBaWxBxundA',\n",
       " 'channelId_UC3J4Xfo5S2dz4OyymYC_AoQ',\n",
       " 'channelId_UC3LNd5iXQZ8WinaOpfwXveA',\n",
       " 'channelId_UC3N1SAJOUFASOoCX9LZRETw',\n",
       " 'channelId_UC3Nr160SThve_tIxYUyi8-w',\n",
       " 'channelId_UC3PSZivQbIegrfavj4fmgQQ',\n",
       " 'channelId_UC3PdND6r4mRtoAgp59jfbDg',\n",
       " 'channelId_UC3QWksal35X_nSXE8jC59_A',\n",
       " 'channelId_UC3SyT4_WLHzN7JmHQwKQZww',\n",
       " 'channelId_UC3T22rZA2yoca5DPiSs5jKQ',\n",
       " 'channelId_UC3Tjj344taq3njy4yaK8ZWw',\n",
       " 'channelId_UC3UqLOQCkW8rI8Pl9doGWsQ',\n",
       " 'channelId_UC3W3kEmrLrRfec2qNrE6w4A',\n",
       " 'channelId_UC3WZlO2Zl8NE1yIUgtwUtQw',\n",
       " 'channelId_UC3Yu8k-RiBeP0simFuOARJQ',\n",
       " 'channelId_UC3auHzis8Hm8WI_6UzAs8Zg',\n",
       " 'channelId_UC3bHFRThkXGB9RsS1PafV7A',\n",
       " 'channelId_UC3bTxV0cso3RbvG1D5ihw3g',\n",
       " 'channelId_UC3dJKwKxhR1Boz56EsI5PYQ',\n",
       " 'channelId_UC3eNWzE-pftCXatCuUAaHGw',\n",
       " 'channelId_UC3hQ86NW0gmz9vdfM3TFGzQ',\n",
       " 'channelId_UC3hRpIQ4x5niJDwjajQSVPg',\n",
       " 'channelId_UC3hUt6SONwK_PmDMz4s0u6A',\n",
       " 'channelId_UC3htcPlye6noa3pAgegT2AQ',\n",
       " 'channelId_UC3lBXcrKFnFAFkfVk5WuKcQ',\n",
       " 'channelId_UC3m0s5XAQydCtbLHc8j1Uog',\n",
       " 'channelId_UC3mY2SKYhPjqImtBBXsR6_Q',\n",
       " 'channelId_UC3oZhyvAz0YrpM5J6U9iVoQ',\n",
       " 'channelId_UC3pTpoDKt17IrCDH60kSNPA',\n",
       " 'channelId_UC3pk0eDcZx_oYGCWNyJpjMQ',\n",
       " 'channelId_UC3qZ64dp-kyHwCygqZdTp1w',\n",
       " 'channelId_UC3re3ueOE_6VZK85zlEUWFA',\n",
       " 'channelId_UC3sVRlvglIebwSpVGCMB--w',\n",
       " 'channelId_UC3stmiOTQdbzlRK1QOVZQ-g',\n",
       " 'channelId_UC3zQwS0Ioduks5DqvMWFd5Q',\n",
       " 'channelId_UC4-76M8LX89Notl9sRCD6Zg',\n",
       " 'channelId_UC40Z77DINNu5YKaiW2yLIzg',\n",
       " 'channelId_UC41Vyqs1wSY0FTMqDsLsELA',\n",
       " 'channelId_UC42bpP43b5FBLKl6z3IAJ1g',\n",
       " 'channelId_UC44QE3DVUuDrhUC5yp4zRYQ',\n",
       " 'channelId_UC45hk7RSPPS_tezwn5rcL0A',\n",
       " 'channelId_UC45m6W8hWEHheoncfd55nuA',\n",
       " 'channelId_UC46BbEkxhjIHUj6EJ_waw-g',\n",
       " 'channelId_UC473RoZQE2gtgZJ61ZW0ZDQ',\n",
       " 'channelId_UC47HAkQ6oZ-Hf5SVBGdvP6g',\n",
       " 'channelId_UC48NSSfUBsmL0k0wKxSqRkw',\n",
       " 'channelId_UC49ta0RHXJUiID5KWRkcySw',\n",
       " 'channelId_UC4Aa3OPkMenwTANpf0oWVRQ',\n",
       " 'channelId_UC4BfinFCS1o6t1tAsl0RVWQ',\n",
       " 'channelId_UC4DnB5Ez8LjKBXZDiYRIZGQ',\n",
       " 'channelId_UC4E2S3T37vJ3Mi2sYrnhE_Q',\n",
       " 'channelId_UC4Hdu68t2vXF3cw7-a64GgQ',\n",
       " 'channelId_UC4Icothd_W0M7jRzNyAszoA',\n",
       " 'channelId_UC4JAFOuj4XMa2MSBUhMXmmA',\n",
       " 'channelId_UC4KYnIB8BEI-No6D2TjA9VA',\n",
       " 'channelId_UC4LADtN8xwppFydHUB1s5uA',\n",
       " 'channelId_UC4LW3sOslC14Vn5bcoNUBkg',\n",
       " 'channelId_UC4MfUqhvA1LxpxE-67sJGbw',\n",
       " 'channelId_UC4PpFUrfT2Pou7OwpVF0MUQ',\n",
       " 'channelId_UC4SaZQMdD97YEjs26kSHn9w',\n",
       " 'channelId_UC4UnP3v-iaFaLdtKwp84Pmw',\n",
       " 'channelId_UC4XvVP_nMy-CsyUDQMvoVsw',\n",
       " 'channelId_UC4YWYyS8bb0W205lLC3kncg',\n",
       " 'channelId_UC4ZA57iJrf73bJlApKFeLRw',\n",
       " 'channelId_UC4ZF3-w9ENwXTczPPZG6fng',\n",
       " 'channelId_UC4_uws3qvguazzKY2nl2t2g',\n",
       " 'channelId_UC4caOcsOMKT5wPdG8oZd1-w',\n",
       " 'channelId_UC4dqLAF7yT-_DqeYisQ001w',\n",
       " 'channelId_UC4eYXhJI4-7wSWc8UNRwD4A',\n",
       " 'channelId_UC4hNKDlFO3I9_KZzgESyQYw',\n",
       " 'channelId_UC4htMXj8ZId99dqJBwje4aQ',\n",
       " 'channelId_UC4i1qf8CUH93DLSbD9efqig',\n",
       " 'channelId_UC4iW3-k7fKIzzfwmBAqX08w',\n",
       " 'channelId_UC4lTOi1_KvQO4olu3403wIA',\n",
       " 'channelId_UC4lUlbn27Hp6ng89ZAsxQkg',\n",
       " 'channelId_UC4luol03VMwWtKhMRJ4-jmg',\n",
       " 'channelId_UC4mMqn0EPMoOwWqU8--2how',\n",
       " 'channelId_UC4mOLela441MNvGJNy6h8bg',\n",
       " 'channelId_UC4nEQI74rZkFKlUSwi0ur4A',\n",
       " 'channelId_UC4nO0-dDzKWcZ6OlzE_Dvng',\n",
       " 'channelId_UC4qBREGSlrlzlnU98fz2odg',\n",
       " 'channelId_UC4qc3puL0KC3I7SrO0WbgEg',\n",
       " 'channelId_UC4sIlWphHSMk210xl74H3Wg',\n",
       " 'channelId_UC4wMRlYVDQqPbIMZb-DqH1A',\n",
       " 'channelId_UC4yq3FWEWqMvFNFBsV3gbKQ',\n",
       " 'channelId_UC4zyoIAzmdsgpDZQfO1-lSA',\n",
       " 'channelId_UC51vSegKn5IMN9tavsbUVOA',\n",
       " 'channelId_UC560CFl_H6B2eN-dQ2ZRB_w',\n",
       " 'channelId_UC5AAf4_zZxk-mCl46TogZQQ',\n",
       " 'channelId_UC5BMQOsAB8hKUyHu9KI6yig',\n",
       " 'channelId_UC5Bf4dJ3dR9C3COg7_qmf2g',\n",
       " 'channelId_UC5CTLf-G91F8BCEKMPQEDDg',\n",
       " 'channelId_UC5CyCSvCdoEP-VgQmFq3iww',\n",
       " 'channelId_UC5D5VhXj_9JWr3IskPYOEdA',\n",
       " 'channelId_UC5DH04r4Lrc9zk6_t6H76dQ',\n",
       " 'channelId_UC5F-jgwqO2ba-wN1mlECjCg',\n",
       " 'channelId_UC5GZQWQiEt3lDt1Y4_hUwdw',\n",
       " 'channelId_UC5HKolXNopAqmfgS8A0SmUw',\n",
       " 'channelId_UC5HSw5OY2vfVFSihpiB-AVQ',\n",
       " 'channelId_UC5HpbZB-E-DzFpWZmVlcV9A',\n",
       " 'channelId_UC5Hu45OnQ_cLg93RGczv81Q',\n",
       " 'channelId_UC5IRvBJPLTMF4-FhyVmbBbQ',\n",
       " 'channelId_UC5Ida86tt8QKa4Myw7idxNg',\n",
       " 'channelId_UC5Mtt2WIemzXJIjC64gV2EA',\n",
       " 'channelId_UC5Na93sFZY-CTwmPwi48XHg',\n",
       " 'channelId_UC5O114-PQNYkurlTg6hekZw',\n",
       " 'channelId_UC5Oq6jxwXcIHMAnKvOluWcg',\n",
       " 'channelId_UC5OwlwvsVmf_lXHguB6OYFw',\n",
       " 'channelId_UC5Oz2fuXlILwEH4P96h2LLg',\n",
       " 'channelId_UC5PwUmBH6V5lLQNklj_4TPw',\n",
       " 'channelId_UC5QG73vlu9l1yLmPwFLO3Kw',\n",
       " 'channelId_UC5QSBlTcEJV0b0L8-EAVNYg',\n",
       " 'channelId_UC5RIONX9G_2zb_x4SRJgBbQ',\n",
       " 'channelId_UC5ScPjbt-a97AJO7SBj6nAg',\n",
       " 'channelId_UC5T4b53jVkm07JbYoyYiu7A',\n",
       " 'channelId_UC5WN-znPsJK0BbA8aHxZHWQ',\n",
       " 'channelId_UC5WjFrtBdufl6CZojX3D8dQ',\n",
       " 'channelId_UC5XuQ-xiWAB6f-qu6gJMDBQ',\n",
       " 'channelId_UC5YHB-c4TAbEc35nYYhNb-Q',\n",
       " 'channelId_UC5YKCgA3WR9NBQNQTs7BTsA',\n",
       " 'channelId_UC5YM8Ln-4iMBR9ZEqcDN5kw',\n",
       " 'channelId_UC5Zl8TbOMKMCbDZvO0NfPuw',\n",
       " 'channelId_UC5Znk83wpDdporFLdDWHARQ',\n",
       " 'channelId_UC5ZqaJ9klJrwgsKjYW42JtA',\n",
       " 'channelId_UC5aNQ65ADb02zEJxzb_zmYQ',\n",
       " 'channelId_UC5b2_GAScxz4guty7rv4Ulg',\n",
       " 'channelId_UC5bUcndEVv5967bAGDeBN5g',\n",
       " 'channelId_UC5biYYSX5sh4QR98ekCd8KA',\n",
       " 'channelId_UC5dNTCeyGMAOp2FuY2VuPRQ',\n",
       " 'channelId_UC5f97D60yHa7UE9rFfbej8g',\n",
       " 'channelId_UC5m1d4sPHnpcLCJEu3j2FpQ',\n",
       " 'channelId_UC5oft5dVf43M2cFmhpJLVGQ',\n",
       " 'channelId_UC5q0PIKGr2lGOsiT14AlEYg',\n",
       " 'channelId_UC5rYqOqmrUW9hMFPHtagKQA',\n",
       " 'channelId_UC5s2Xr6ZpYL7_tQrgzubwZQ',\n",
       " 'channelId_UC5t1rIsuCP7vMpTZxQPajAQ',\n",
       " 'channelId_UC5tlHwbUnxart0QV_kFI7lA',\n",
       " 'channelId_UC5v6Nru_u2uDfY7p_8IGypA',\n",
       " 'channelId_UC5xK2Xdrud3-KGjkS1Igumg',\n",
       " 'channelId_UC5xLohcPE65Y-U62X6snmRQ',\n",
       " 'channelId_UC5zXl0ARIleCjq2YpGXWp1w',\n",
       " 'channelId_UC6-dKMzBld-gBd6xMhD7GJQ',\n",
       " 'channelId_UC60GSAcz1yeQ7JuM96UTPug',\n",
       " 'channelId_UC62GnXAfqgm8Fcn_i9kiuqw',\n",
       " 'channelId_UC62lSbFDMublcifIjVexQFQ',\n",
       " 'channelId_UC62qMewbOLcvg3cKC-wp-8A',\n",
       " 'channelId_UC64gPmK_7M8ico-S3oNHeDQ',\n",
       " 'channelId_UC66yQ1db9A_SGo8bOw400Zg',\n",
       " 'channelId_UC673sGW_WixiWKFX-J_Yo0Q',\n",
       " 'channelId_UC67BYgSKWsKMuio934IKb6Q',\n",
       " 'channelId_UC680xbWPNkGiHQqRC4LKSXQ',\n",
       " 'channelId_UC68buD4XWJiIzZP7RvMrIbg',\n",
       " 'channelId_UC69Z5Vd-Z6bdCC5LKM_lv_g',\n",
       " 'channelId_UC69l_rtlCQ7M4Mz2RCS80BA',\n",
       " 'channelId_UC69uMhRJcUnvMnMxKT2SS0w',\n",
       " 'channelId_UC6Bcid5ikrIh9wba6uY5Bew',\n",
       " 'channelId_UC6Ez0e81Rtp-rm4ANYzbNzg',\n",
       " 'channelId_UC6G2vAJrt407lwiynW116Eg',\n",
       " 'channelId_UC6IqHw1J10LWb-Qos5Xs0Nw',\n",
       " 'channelId_UC6JfS11JK8EcWXrhvfPfoPg',\n",
       " 'channelId_UC6Jl3MrfGBvRYxXgdDxXzVA',\n",
       " 'channelId_UC6KwCU8Y8Uw4h_Q0ptLZkqw',\n",
       " 'channelId_UC6LBdArM8eIfOu-GFaq3amw',\n",
       " 'channelId_UC6MHbM67TxgHXm0gfjzYQTw',\n",
       " 'channelId_UC6Qi6gcKP9VOHrIcFLtISmQ',\n",
       " 'channelId_UC6TJkBRLMFJ-9c7pXehoZwg',\n",
       " 'channelId_UC6Tk38ZGAYsOdou2X0pLChA',\n",
       " 'channelId_UC6UL29enLNe4mqwTfAyeNuw',\n",
       " 'channelId_UC6WYuXLOPZrHROV9DjU4wdQ',\n",
       " 'channelId_UC6X_tUVkx8O9UixT-B3yK5Q',\n",
       " 'channelId_UC6YMr57knEIYXOOKMmYAFXQ',\n",
       " 'channelId_UC6YnTqZidFg4WUiXpiCtSSQ',\n",
       " 'channelId_UC6c5iDSFnBI49qpSGJJ0VLg',\n",
       " 'channelId_UC6dM99DofLDsfodmxHsIh5w',\n",
       " 'channelId_UC6dXhxQtzjlEGauwEGtLuSw',\n",
       " 'channelId_UC6erIDuvbOaAO-OT5rB2Xew',\n",
       " 'channelId_UC6evrYHQFgQjM9xyYgiC-Pg',\n",
       " 'channelId_UC6fKqYWsBvP6yxmTrhjOB_Q',\n",
       " 'channelId_UC6jNLJp1g2Noyc09lZCkZHg',\n",
       " 'channelId_UC6jh6fov4G5Pb8Pgy1DJDEA',\n",
       " 'channelId_UC6jny3KnjnPLtSWYbrTqAtA',\n",
       " 'channelId_UC6kHD41Nogfpidnwzqcb80Q',\n",
       " 'channelId_UC6lNIbU1SSA9YjveOx9a_oA',\n",
       " 'channelId_UC6le2DAXq9bLVVYl6nenbEg',\n",
       " 'channelId_UC6mf-AsbWtxRF__4Hg7Rx_Q',\n",
       " 'channelId_UC6nxfRgvAEcUPxQxsvF6lzw',\n",
       " 'channelId_UC6oWpmXIubTw8fMdDP9Abvg',\n",
       " 'channelId_UC6q6s67CerzPYPRl7NIRfcA',\n",
       " 'channelId_UC6tU41SuJUDVHKnl48-Yrhw',\n",
       " 'channelId_UC6u3fosnyufBiUiS3w609zw',\n",
       " 'channelId_UC6vdgScn2cZ6hMeMQullT2w',\n",
       " 'channelId_UC6vqrLdkH6ugsz1lggntczQ',\n",
       " 'channelId_UC6wiUwl7dPhZOAM92lGgKPg',\n",
       " 'channelId_UC6xD-jKli-_qIYXDTsNv4dw',\n",
       " 'channelId_UC6xIOpENZLLhZ0UCZWdOmvw',\n",
       " 'channelId_UC6xugt5HrbJpVMUQvnTkulw',\n",
       " 'channelId_UC6yW44UGJJBvYTlfC7CRg2Q',\n",
       " 'channelId_UC7-PyZbi_QIthI3WFtopzLw',\n",
       " 'channelId_UC71uyaLVBWqmW5oAn1YamIA',\n",
       " 'channelId_UC73Tp9brqYrCKwJnNBmYfCA',\n",
       " 'channelId_UC73mr0WxPIJ4KvyhoHy_-_A',\n",
       " 'channelId_UC73yn5mmJSr3hh9jKe2AdWw',\n",
       " 'channelId_UC76dVYqgvIRxMXFqN_3YsIA',\n",
       " 'channelId_UC76q5di__eRuM1_kMArvKKQ',\n",
       " 'channelId_UC78PMQprrZTbU0IlMDsYZPw',\n",
       " 'channelId_UC79RNqux_lKYaXWoazNTuFQ',\n",
       " 'channelId_UC79hJz6y1EEiIkwfHOuWC4w',\n",
       " 'channelId_UC7F6UDq3gykPZHWRhrj_BDw',\n",
       " 'channelId_UC7F_AKQ44cowz9q5WXJPoLA',\n",
       " 'channelId_UC7IAKIxvYr-LG69r9ksTSNA',\n",
       " 'channelId_UC7ITxSrzq-nhyyYzozpPmLA',\n",
       " 'channelId_UC7JbUmyD7g8JH6LvkkQuSZQ',\n",
       " 'channelId_UC7Krez5EI8pXKHnYWsE-zUw',\n",
       " 'channelId_UC7MQxkON_yXQjJv60hBIW1w',\n",
       " 'channelId_UC7QX2YavsZmS7Se3ZKOsCLQ',\n",
       " 'channelId_UC7Qts0RUUM8TjYBK48iUvKw',\n",
       " 'channelId_UC7QyDTukOc4ppKMvmVwJWbQ',\n",
       " 'channelId_UC7RMi15o0aQacJhxOc6LLmw',\n",
       " 'channelId_UC7SYjMohikPgco6pLnHStTg',\n",
       " 'channelId_UC7UpsGDtCKRWhhBtvz8G2QQ',\n",
       " 'channelId_UC7WMB_czX5jF__5kqT4d9Ww',\n",
       " 'channelId_UC7YF5mRzbnmiKREOGsKUJTg',\n",
       " 'channelId_UC7Y_6b9EIzOjsQNnmFN7Kew',\n",
       " 'channelId_UC7_CFRfhIj-fSk3patOQOaw',\n",
       " 'channelId_UC7a1BbKxreQTP8ZmaWCEWjw',\n",
       " 'channelId_UC7am34-1rGU_ky1vWYnoOJQ',\n",
       " 'channelId_UC7bRo3yLjtrRV9qU_KsE6nA',\n",
       " 'channelId_UC7bcRlidTERRb_MKRHPVSnw',\n",
       " 'channelId_UC7cF2ZYvGm_zgrX-xCV88mA',\n",
       " 'channelId_UC7eHynJ83ypIf_586YR5lqQ',\n",
       " 'channelId_UC7eIpZ9LhN4XLfMANg6RP0Q',\n",
       " 'channelId_UC7j0jh2ZH7nyDCjmmTQo7gQ',\n",
       " 'channelId_UC7kI8WjpCfFoMSNDuRh_4lA',\n",
       " 'channelId_UC7lP46vHWIdZbT0X7Ud0AAA',\n",
       " 'channelId_UC7lb15P-Hux7A5gBuhCxtuQ',\n",
       " 'channelId_UC7m9K8lcptwUpt9UoNh5Xgg',\n",
       " 'channelId_UC7nmPm-wGpZLBlVx57dsC0Q',\n",
       " 'channelId_UC7ok_PMSTIY5Qg4ULxRoSNg',\n",
       " 'channelId_UC7raW5CP8mG0VrtiD-w5tzA',\n",
       " 'channelId_UC7sP1dhbrrAwHQh2QTV7ddg',\n",
       " 'channelId_UC7uDyFIqExDnfXAIZqumFrQ',\n",
       " 'channelId_UC7vVhkEfw4nOGp8TyDk7RcQ',\n",
       " 'channelId_UC7xrN8sK99nXgE_wL-3f7Kg',\n",
       " 'channelId_UC7y0CvFvdAyQtVCReD_YFOQ',\n",
       " 'channelId_UC7yDcCWNT8MoJlHh6oPOQ9A',\n",
       " 'channelId_UC7zSFbp9Y3SOEEAh1PAmjgg',\n",
       " 'channelId_UC8-EI2rTBYgkZl5kB_b-2Pw',\n",
       " 'channelId_UC8-Th83bH_thdKZDJCrn88g',\n",
       " 'channelId_UC81KlliBJxIR844123jup9A',\n",
       " 'channelId_UC82X4KKD7BtnAJiAjBetnJg',\n",
       " 'channelId_UC834OloIwmrmGTp8zpFbCPw',\n",
       " 'channelId_UC84IlgY5HIzxKBZOt8XM5UA',\n",
       " 'channelId_UC86GzuZXRb7aZnhnnUA3IAg',\n",
       " 'channelId_UC88r6mA2791EXvGAruLL7ug',\n",
       " 'channelId_UC89A41OBebSxfG9WlkubBlQ',\n",
       " 'channelId_UC89ohZP3fITB0Hsb8jqNsMA',\n",
       " 'channelId_UC8AD5KHdsFzp8qoJvS4YSYg',\n",
       " 'channelId_UC8BPPaTQsHIH3L0TGyKxjTw',\n",
       " 'channelId_UC8B_76tkLwQmiaJwDKFytXw',\n",
       " 'channelId_UC8C0Yd20ke5XqOiZvMVgM9w',\n",
       " 'channelId_UC8CIM3d3zDYMk-3T5aAz0yw',\n",
       " 'channelId_UC8CX0LD98EDXl4UYX1MDCXg',\n",
       " 'channelId_UC8DE6aei0DOKa1s3PziV8Aw',\n",
       " 'channelId_UC8DdZkTABAnSBvoRknqOTOA',\n",
       " 'channelId_UC8Ejow0hqQG06KGCHI1Lr2Q',\n",
       " 'channelId_UC8Em6JHKZVbPf529G4nFAYw',\n",
       " 'channelId_UC8GVX05oeuw4vTWve7QYULw',\n",
       " 'channelId_UC8GmeiLd5xjh2j5VmdePWQw',\n",
       " 'channelId_UC8HNshpReWjQv1WpwzhPHjA',\n",
       " 'channelId_UC8Icvoedxf-HwIKm6o2Gzlg',\n",
       " 'channelId_UC8JtQf77wqhVpOQ8Cze8JjA',\n",
       " 'channelId_UC8KWglklZuC1zO6hY5_2CqQ',\n",
       " 'channelId_UC8LPp9CiM5cCK22HgIgcOiA',\n",
       " 'channelId_UC8MVMeAVs1N6B7nUte4F9Ew',\n",
       " 'channelId_UC8MwgENB-GXGGknn6AhzRsA',\n",
       " 'channelId_UC8NmKAjUM0K4TZqNgboNEWA',\n",
       " 'channelId_UC8Npr6UfHqOmnCe9oGdXKyA',\n",
       " 'channelId_UC8OUSYm-ztRAT6EE6VHPpGw',\n",
       " 'channelId_UC8QgeS3FRs7VZM_IXqCiZcA',\n",
       " 'channelId_UC8RGSE6ESHAr-M71qcY4Oqw',\n",
       " 'channelId_UC8RgkxM4r-peMjEY-jI4Jzw',\n",
       " 'channelId_UC8Rx9shoN4GLARyEnCyqQ9A',\n",
       " 'channelId_UC8SSlsksPjkK4HEbWDdq2nA',\n",
       " 'channelId_UC8SZ88GQa9XWwZxLNibO3ug',\n",
       " 'channelId_UC8Su5vZCXWRag13H53zWVwA',\n",
       " 'channelId_UC8Sv6O3Ux8ePVqorx8aOBMg',\n",
       " 'channelId_UC8TxOmxwC8QpHRZra7sOFig',\n",
       " 'channelId_UC8UA4pJ_gT8Ig8LGuXvZXIw',\n",
       " 'channelId_UC8WoHUeN-eLynnLKGkwajYQ',\n",
       " 'channelId_UC8XP-6eDLwezhvxd5bJ9VFA',\n",
       " 'channelId_UC8Y0YBeQAtH-7IAJYuG7Ziw',\n",
       " 'channelId_UC8_FRgynMX8wlGsU6Jh3zKg',\n",
       " 'channelId_UC8_cYcL4dm_-tCEKlZuMTDg',\n",
       " 'channelId_UC8_wgZy23gjTNVQeyfwl92g',\n",
       " 'channelId_UC8av1CNslnPQS3N08rkzzhQ',\n",
       " 'channelId_UC8d0ZgFEl4AUdyAKGE8O3yg',\n",
       " 'channelId_UC8dFtyqgm7UqLcJD_sYVJ4w',\n",
       " 'channelId_UC8dQZws1cBtMwcxHr111YQw',\n",
       " 'channelId_UC8gCJEe6FFHdhZyul6zLeMQ',\n",
       " 'channelId_UC8ggH3zU61XO0nMskSQwZdA',\n",
       " 'channelId_UC8jn6wsEWH9Edynop6DYX8g',\n",
       " 'channelId_UC8lCKs70LKNlMUve1P_XSRQ',\n",
       " 'channelId_UC8p2BFLsMGSfBdpwNs4Zq1A',\n",
       " 'channelId_UC8p6LWJpLe--k6ZOcwsuJKg',\n",
       " 'channelId_UC8qIqSZl5GZcfv2S_z64xdA',\n",
       " 'channelId_UC8qO5racajmy4YgPgNJkVXg',\n",
       " 'channelId_UC8rSvDTd9VI0JYUN9N4_yGQ',\n",
       " 'channelId_UC8rbhIem-3aAsNXhTDI-nSA',\n",
       " 'channelId_UC8ta-hq_fEcqnpqSHT9Tmaw',\n",
       " 'channelId_UC8th9Wc-YGKMYy2jPt_1sUw',\n",
       " 'channelId_UC8tsBsQBuF7QybxgLmStihA',\n",
       " 'channelId_UC8um-BQAa91TNbF5Fy6WVjA',\n",
       " 'channelId_UC8wHwv5QQvkGxuMwyZDrFTw',\n",
       " 'channelId_UC8whlOg70m2Yr3qSMjUhh0g',\n",
       " 'channelId_UC8y9uFKbS19XsWXb30uA5CA',\n",
       " 'channelId_UC9-LIDYwTTSHBlZw9kKRI4w',\n",
       " 'channelId_UC9-OpMMVoNP5o10_Iyq7Ndw',\n",
       " 'channelId_UC912Q30VlIig5POHn1caiYg',\n",
       " 'channelId_UC920m3pMPH45qztdhppZhwA',\n",
       " 'channelId_UC93HCsxW7bPLHdPfrHX8c-A',\n",
       " 'channelId_UC93Zlfnj_ni8K6fL3mzbpqg',\n",
       " 'channelId_UC93s-VhhKysH8nenm_-ZR0Q',\n",
       " 'channelId_UC959d12wXE5b5K7quFdRnVQ',\n",
       " 'channelId_UC966pmWm_xtPVWqowAh3dvQ',\n",
       " 'channelId_UC98Dpw8CHzoPuEYbL9SnXWQ',\n",
       " 'channelId_UC98TOxKQk4aLcx0EjIK0LkQ',\n",
       " 'channelId_UC98d8Ci5d6inCrcw-i-tgiA',\n",
       " 'channelId_UC99uGx2Kf_RpadIthWTCMuA',\n",
       " 'channelId_UC9FAi5CfRQ7CoG7Rxx2RMcA',\n",
       " 'channelId_UC9G7V6-HU_Cg7-yWLO1rH6w',\n",
       " 'channelId_UC9GtSLeksfK4yuJ_g1lgQbg',\n",
       " 'channelId_UC9Gxb0gMCh3EPIDLQXeQUog',\n",
       " 'channelId_UC9HNi_aAXBgpI2zhibOAfAA',\n",
       " 'channelId_UC9HtPH9bBaUHueFdb5ygP5Q',\n",
       " 'channelId_UC9Hu-7OguU6HyWaxP_GBYcA',\n",
       " 'channelId_UC9I05bhzmw_MtMrY6SeKb8w',\n",
       " 'channelId_UC9IsiTWynWGe9XEBZVK0k8Q',\n",
       " 'channelId_UC9KQaCA_EMobJUxZszQ4wlg',\n",
       " 'channelId_UC9LQwHZoucFT94I2h6JOcjw',\n",
       " 'channelId_UC9LcN9O8amxNcfu0fwGqwgQ',\n",
       " 'channelId_UC9M8GGVwPqc9ubNruArCNPg',\n",
       " 'channelId_UC9MujNQL4vQwX9kMpmQPIKw',\n",
       " 'channelId_UC9N8C0XFvTCtBGUV2ik6Q3w',\n",
       " 'channelId_UC9OG_UgF6C2QjHtYgPR0d6w',\n",
       " 'channelId_UC9OxYgkLbz7KgogiCi9tT-w',\n",
       " 'channelId_UC9Ozb41qlL1CTnlsaxmKaGw',\n",
       " 'channelId_UC9PVYlrwFSlqG7w8TDsqRvQ',\n",
       " 'channelId_UC9ZLv1m7QDLv991X1-p50AA',\n",
       " 'channelId_UC9ZmFEgVwLieP6FZYtAsy9g',\n",
       " 'channelId_UC9ZnagnOHiJCluKxYAwOKGA',\n",
       " 'channelId_UC9_093tAK3bXyZfT84efbvg',\n",
       " 'channelId_UC9aEa6zVK12OZaWyTIPX9jw',\n",
       " 'channelId_UC9cCBxBAQW2CzLYeT20q49A',\n",
       " 'channelId_UC9cG7NOH9Pdvbw2sbhkwFOA',\n",
       " 'channelId_UC9d2BLNz_hVdE56b3yF1KQw',\n",
       " 'channelId_UC9d7PQfOFN9tuuRO1WSVpfA',\n",
       " 'channelId_UC9gxOp_-R78phMHmv2bW_sg',\n",
       " 'channelId_UC9hS-dPCGXXD2XlxH5jo9FA',\n",
       " 'channelId_UC9iULDnKYrLSjDgekRw_n9w',\n",
       " 'channelId_UC9idb-NIhZrI6wkPesc3MUg',\n",
       " 'channelId_UC9kUsuu1Giqa9V855EWa7-A',\n",
       " 'channelId_UC9kmlDcqksaOnCkC_qzGacA',\n",
       " 'channelId_UC9lvAaNolKlm-uTNqvZYi4A',\n",
       " 'channelId_UC9mpnu1x96y7utLpnYyU6kw',\n",
       " 'channelId_UC9n0SM6k4zC3C7A1AdXCCbw',\n",
       " 'channelId_UC9nFMAQcn0bqIrEV9vUdU1g',\n",
       " 'channelId_UC9nLq3rvvi_6J3teWiGCDlA',\n",
       " 'channelId_UC9oI67iPQVLVshSxQE-xsyg',\n",
       " 'channelId_UC9oomNHPNLrh819sxCgcYTA',\n",
       " 'channelId_UC9otskL_kd-0CDib_5Lj-mQ',\n",
       " 'channelId_UC9pCNmC-Ovq2sRfHIwLDuIg',\n",
       " 'channelId_UC9pdRyCVY9foIQid-YDjm4Q',\n",
       " 'channelId_UC9qVIyKKwLRV00TL2MFQdzQ',\n",
       " 'channelId_UC9rMiEjNaCSsebs31MRDCRA',\n",
       " 'channelId_UC9sKsado8YOC8J52g6yu4Tw',\n",
       " 'channelId_UC9tIwGVzon1Ac56BqI_9JAQ',\n",
       " 'channelId_UC9ta639M37zzWKwo7kKc80A',\n",
       " 'channelId_UC9thBCaJFBYplPEGTJJeBvw',\n",
       " 'channelId_UC9vrvNSL3xcWGSkV86REBSg',\n",
       " 'channelId_UC9vz3TBChrJmYbzUo-rqfSg',\n",
       " 'channelId_UC9w-h_ciMmX64TcLRcb1xPg',\n",
       " 'channelId_UC9z71YRH2n8fT7cLB1YS5iA',\n",
       " 'channelId_UC9zY_E8mcAo_Oq772LEZq8Q',\n",
       " 'channelId_UCA1O09Rria8Pmg1PGbgGm-w',\n",
       " 'channelId_UCA3-nIYWu4PTWkb6NwhEpzg',\n",
       " 'channelId_UCA4PeNk6WdCypKUTsohmfvw',\n",
       " 'channelId_UCA4ZUofyfHIk-qXlAQQV5Hg',\n",
       " 'channelId_UCA5vKQkvC9zlTDOSNtoMdCQ',\n",
       " 'channelId_UCA6KBBX8cLwYZNepxlE_7SA',\n",
       " 'channelId_UCA6Z6cF3orXMmdeCPUH1-NA',\n",
       " 'channelId_UCA6uTV8GcNJ-AbCz4kw9Buw',\n",
       " 'channelId_UCACr-0qsWFUV_Vgggb4amVg',\n",
       " 'channelId_UCACsUruxumQoyZq08UB9RVw',\n",
       " 'channelId_UCACvSkFoyzG8I1QeREBnxAA',\n",
       " 'channelId_UCAFlBkLMn1dmdYk0kBud4RA',\n",
       " 'channelId_UCAI75j6HUEqV_0wB6SI0qvA',\n",
       " 'channelId_UCAIAn1gmUWEukE2e5BQ0Zew',\n",
       " 'channelId_UCAJAJ9bAvfjFLRrsqeumJIA',\n",
       " 'channelId_UCANLZYMidaCbLQFWXBC95Jg',\n",
       " 'channelId_UCAOTbNctDD0Hg5MG0enQpMQ',\n",
       " 'channelId_UCAP8OK0GHFbnL5OkY3j04Xw',\n",
       " 'channelId_UCAQQfjGwBLlW9enkLTKL0ew',\n",
       " 'channelId_UCASXEOh4LJxWdk2hZnsfNYw',\n",
       " 'channelId_UCASfMqgvKDfdTvozY0nOcvA',\n",
       " 'channelId_UCAXw9EA1Ruu0Lcg_svVZ6uQ',\n",
       " 'channelId_UCAZQZdSY5_YrziMPqXi-Zfw',\n",
       " 'channelId_UCA_G6-Oj0CzuYhi1qieqDcw',\n",
       " 'channelId_UCAaLhok91QDrweyuDRsmjqQ',\n",
       " 'channelId_UCAalMUm3LIf504ItA3rqfug',\n",
       " 'channelId_UCAe9JVK4V_Tho9zn_gPQzuA',\n",
       " 'channelId_UCAh1WZDXiD8aVUEVU7x_q5g',\n",
       " 'channelId_UCAhKKbDO9-ymWZ_7iAFLBQQ',\n",
       " 'channelId_UCAhmOb9JWkI2HV_KIe9X_3A',\n",
       " 'channelId_UCAkWpyeieFjzS7GzSJMArhQ',\n",
       " 'channelId_UCAlU6Ntbr3Lcsyf9tmSIkPA',\n",
       " 'channelId_UCAoj1O_pb7N12tFtzwGu21w',\n",
       " 'channelId_UCAoyR-sL6B0S93AMR-HVTvg',\n",
       " 'channelId_UCAq0pFGa2w9SjxOq0ZxKVIw',\n",
       " 'channelId_UCArK9MK34LsQzPJrl5TZmYA',\n",
       " 'channelId_UCArLZtok93cO5R9RI4_Y5Jw',\n",
       " 'channelId_UCArTAXmvvTohDgCsegudy4w',\n",
       " 'channelId_UCAtFkapSeoEGPxm5bC3tvaw',\n",
       " 'channelId_UCAu1wEbjya6hvSv4yfgWybQ',\n",
       " 'channelId_UCAw2WahIbrnJlryCh_bq56Q',\n",
       " 'channelId_UCAySceX4rbSr408F1dUpuUw',\n",
       " 'channelId_UCAyvCxdhYV-Zg7PSGZJoQ2A',\n",
       " 'channelId_UCB-ogYCX9Me8nP9gEGpMjUg',\n",
       " 'channelId_UCB11SAf7WSN4GrCquKoOHrw',\n",
       " 'channelId_UCB4JlWU3Vcev5pkyIdeBMRw',\n",
       " 'channelId_UCB5lmq1AQOqQm_Ex120zLRA',\n",
       " 'channelId_UCB9e3pof1o83aa0kkaoeJGA',\n",
       " 'channelId_UCBA9XaL5wCdHnC5EmEzwrqw',\n",
       " 'channelId_UCBDngWGq1RyI4ZZoZPJ-t5A',\n",
       " 'channelId_UCBEPcbh8fpU6IgtHT6X18NA',\n",
       " 'channelId_UCBGNJPYHfRFB9h0ibvrKhGA',\n",
       " 'channelId_UCBHJlMM7B6l82cMOJhcpwGQ',\n",
       " 'channelId_UCBHNpZdf3he6kvzyescOBAQ',\n",
       " 'channelId_UCBI8xZYkJJIec2-gyX7KcpQ',\n",
       " 'channelId_UCBI9DZh6lfWOxs-MtpK55gw',\n",
       " 'channelId_UCBIPuIG_7iA9NBIKxIR80wA',\n",
       " 'channelId_UCBIoXzDldCnpbM_7uyG0_Tg',\n",
       " 'channelId_UCBJeMCIeLQos7wacox4hmLQ',\n",
       " 'channelId_UCBJs8l4b_5Utu--rd-uBKwg',\n",
       " 'channelId_UCBJxGj1sjMp644dtfJwdlhA',\n",
       " 'channelId_UCBKMc4nWENw_WGqkbzx-Lrg',\n",
       " 'channelId_UCBKtitA1RwY7F32rCniV1dA',\n",
       " 'channelId_UCBLO7HA_4Kw-sp8WLed2WrA',\n",
       " 'channelId_UCBM86JVoHLqg9irpR2XKvGw',\n",
       " 'channelId_UCBOs39Wu6lwfnT0IeJGyYWA',\n",
       " 'channelId_UCBTytrss5jCEx7rUH4XiDpQ',\n",
       " 'channelId_UCBUNoFJ4u6sw9Oh8e1DixNQ',\n",
       " 'channelId_UCBW6rryEAFIWo46zOw3WXkA',\n",
       " 'channelId_UCBWihGIpMzCcITgRJRD5GYA',\n",
       " 'channelId_UCBXt-8JsY7EfX_hZ91LYI5w',\n",
       " 'channelId_UCB_QWj45Jy4LjxhrBhsw1WA',\n",
       " 'channelId_UCB_TGajnJymiSmu6zWkjW2Q',\n",
       " 'channelId_UCBatunD4YgAwzy8Xrd1ucOw',\n",
       " 'channelId_UCBbJv4YWyu89pP1tg9laatw',\n",
       " 'channelId_UCBc_DlHpenJQGM9cjifVFkw',\n",
       " 'channelId_UCBe14Y91GWm7lKAqn0zO_0g',\n",
       " 'channelId_UCBhR7WKMD50cxkTJ5CNaUGA',\n",
       " 'channelId_UCBi2mrWuNuyYy4gbM6fU18Q',\n",
       " 'channelId_UCBjF3dhxsmbyv5rgIEsNAXA',\n",
       " 'channelId_UCBjsuHP4F5izWwkzCZgb96g',\n",
       " 'channelId_UCBkXIeYk8MZjB8-ED8g5qCg',\n",
       " 'channelId_UCBkyj16n2snkRg1BAzpovXQ',\n",
       " 'channelId_UCBnUdp-4hIKkGlz8MVL7s3g',\n",
       " 'channelId_UCBo1hnzxV9rz3WVsv__Rn1g',\n",
       " 'channelId_UCBoQ8_HIOVbOA_FuYtTapqA',\n",
       " 'channelId_UCBo_p_K5uG0nWuEMCIP7NGw',\n",
       " 'channelId_UCBpzJvEhkemwMOkYLq9yUsA',\n",
       " 'channelId_UCBrb8Hl2H-bsgi6MwJNjpkA',\n",
       " 'channelId_UCBt-M9TKEjaByElFXX-DDTg',\n",
       " 'channelId_UCBuR4YNGjfi_4ti8EUw8p1w',\n",
       " 'channelId_UCBv7HEHuVlNAELGi5XJd85Q',\n",
       " 'channelId_UCBvkQFBskQR9NeOoDYR8ckA',\n",
       " 'channelId_UCBwCGrxCEdbAGO-QCrQzS4A',\n",
       " 'channelId_UCByTVcSPPWwZSNyi8ATvETg',\n",
       " 'channelId_UCBzWK8pO62qviwa0yPQWo3w',\n",
       " 'channelId_UCC1LvVTX2ySKYjeIXkAtvsQ',\n",
       " 'channelId_UCC2F35lZ0drUeMJOATXde2g',\n",
       " 'channelId_UCC2fx8Q4MDNR2LZ8gIvRubg',\n",
       " 'channelId_UCC3pLEpJgLHGfkk2VbJQ2ow',\n",
       " 'channelId_UCC3yfxS5qC6PCwDzetUuEWg',\n",
       " 'channelId_UCC4QcwDnXG5poPg__kD4YmQ',\n",
       " 'channelId_UCC7AwyYTY-Y6apIj4iAOOXA',\n",
       " 'channelId_UCC7bElwd29qpkgLo0j3l3Qw',\n",
       " 'channelId_UCC8bTxyN2ZCfMzS_JAEClfA',\n",
       " 'channelId_UCC9pQY_uaBSa0WOpMNJHbEQ',\n",
       " 'channelId_UCCA4-eZAYGrgru7WHz7yhew',\n",
       " 'channelId_UCCA8UWUW80iHqK9ymdjRwPg',\n",
       " 'channelId_UCCBm8nCGeIL8dFHAX8Hac8w',\n",
       " 'channelId_UCCCNYlEuKpEgqxHp7FThQsg',\n",
       " 'channelId_UCCCjbf-1ESumTxBlflQSQIQ',\n",
       " 'channelId_UCCCzHfAALDPQ0L11UTsKTWA',\n",
       " 'channelId_UCCEi5ralZRJcHShhKBcRtxA',\n",
       " 'channelId_UCCFCTXdYfF6fQYRIEdUrrLw',\n",
       " 'channelId_UCCFLyWRmaMeQ0f4ndIeChOw',\n",
       " 'channelId_UCCG6BEYjfQMGzypJw2EJCDQ',\n",
       " 'channelId_UCCGZK5dPJk6p6x2n6obqULg',\n",
       " 'channelId_UCCHDXeSnxeqnttqeoCQ2G3A',\n",
       " 'channelId_UCCJ2b2lJE7M77cSuSHLcMOQ',\n",
       " 'channelId_UCCJPp5fgXqQPcJxF9Fzed0A',\n",
       " 'channelId_UCCJkwrmhIqWkSFV-sQol4Qw',\n",
       " 'channelId_UCCMQyaKDjQJY79VimTdaYYQ',\n",
       " 'channelId_UCCN8qgy5DmUGSPeWgCz_Q8g',\n",
       " 'channelId_UCCNOsmurvpEit9paBOzWtUg',\n",
       " 'channelId_UCCQPdv4o4ywVZQkAMOlvFbw',\n",
       " 'channelId_UCCRGdPlx7Ljl3R5fYC8nP4Q',\n",
       " 'channelId_UCCRb6nYKaT8tzLA8CwDdUtw',\n",
       " 'channelId_UCCUfsf35PukA4gEsU2hTtQg',\n",
       " 'channelId_UCCYujSLBIK8EDlAM3xi-0Rw',\n",
       " 'channelId_UCCZ-gBdN59pF39tbm16xvdQ',\n",
       " 'channelId_UCCZ3InIIho_BmoaZIiiwDSg',\n",
       " 'channelId_UCC_x7uhz40eyVag5DQnWj-g',\n",
       " 'channelId_UCCb6W2FU1L7j9mw14YK-9yg',\n",
       " 'channelId_UCCcE8BpgFqKRP3au8tEUrAw',\n",
       " 'channelId_UCCfQK8dSofNkR44hIhUNvgw',\n",
       " 'channelId_UCChcWqwYXCEs657MQ00qVWA',\n",
       " 'channelId_UCChdwfg0T9qJd_vdGFMTiBg',\n",
       " 'channelId_UCCi2W_UoWfL6D-CW3mCQOFw',\n",
       " 'channelId_UCCj956IF62FbT7Gouszaj9w',\n",
       " 'channelId_UCCjJV_nxuPQ_fWGkAkA46fA',\n",
       " 'channelId_UCCjR2EbSnsVKRVeTvPjVWIA',\n",
       " 'channelId_UCCqUNWyxicP6Q5KKrSSZ1bA',\n",
       " 'channelId_UCCqlE0lqyjr5BBpWn8G4cLA',\n",
       " 'channelId_UCCqmlPAvTm9hAD7agtd1j3A',\n",
       " 'channelId_UCCt6iN6nJemSe_OHRihYBAQ',\n",
       " 'channelId_UCCtXR7pa7WWVSEB02aR-9Xg',\n",
       " 'channelId_UCCtj1zblIe1hQcRfzlfdlmw',\n",
       " 'channelId_UCCy_q-N7F2FOIZ6ZggHIAKg',\n",
       " 'channelId_UCD-1jAmL42qnEszozefaa1g',\n",
       " 'channelId_UCD-w1NHaZYwOsAOUReBA4LQ',\n",
       " 'channelId_UCD1Em4q90ZUK2R5HKesszJg',\n",
       " 'channelId_UCD2KROktGHeRad9_Eolc3EQ',\n",
       " 'channelId_UCD2YO_A_PVMgMDN9jpRrpVA',\n",
       " 'channelId_UCD46H9Pm3nLqCj7vv3pQkPA',\n",
       " 'channelId_UCD8r5Jgns2V64-NcUmXclpg',\n",
       " 'channelId_UCD902zDdQCJSRDh5CPvWbig',\n",
       " 'channelId_UCD9mxN8o9qLei1MbzroeP_A',\n",
       " 'channelId_UCDAQ8aAx4D0KOBUmIznD6sg',\n",
       " 'channelId_UCDBAVzfX3yZ1hah0FHnOoaA',\n",
       " 'channelId_UCDBqRcU0xBcODj0sToZyxxg',\n",
       " 'channelId_UCDBr5TfaSHWVnifL2uy2bEw',\n",
       " 'channelId_UCDCAySm8vBH8R7WwWuneTKg',\n",
       " 'channelId_UCDCjSgKtKeFmWhsiAbHLNAw',\n",
       " 'channelId_UCDEdYFtro4b_ERaLijM0E1A',\n",
       " 'channelId_UCDFHdj0KvSoJ8id97zn3DOQ',\n",
       " 'channelId_UCDG2goQRk-EnndoPnrOr55A',\n",
       " 'channelId_UCDIB1DOwPPe58M2fHPyVVDA',\n",
       " 'channelId_UCDJnRpq0DnQhrwi1ruuQa7g',\n",
       " 'channelId_UCDMIgVmN_nXva6q1FcXu1wg',\n",
       " 'channelId_UCDMvEcwLM7Vth4h-lWFurAQ',\n",
       " 'channelId_UCDNvRZRgvkBTUkQzFoT_8rA',\n",
       " 'channelId_UCDPM_n1atn2ijUwHd0NNRQw',\n",
       " 'channelId_UCDQ5uQgKDdZKaWA34dGJtrQ',\n",
       " 'channelId_UCDRZS-ePfvI38ztltXbzmVw',\n",
       " 'channelId_UCDRtZhASdfRnyhae7s-UemA',\n",
       " 'channelId_UCDV9zgWo7b6nPg7i49oRQ5Q',\n",
       " 'channelId_UCDVYQ4Zhbm3S2dlz7P1GBDg',\n",
       " 'channelId_UCDWlQ2AcGlcckdefjtF0goQ',\n",
       " 'channelId_UCDZLGQgP9GLYG94addcBZjA',\n",
       " 'channelId_UCDb1t5K_DAgdfYQyq0k40HQ',\n",
       " 'channelId_UCDbHrbRDTqft7yEKlqeWhAg',\n",
       " 'channelId_UCDd2WQ-qpZU-Mt9mphLQvvg',\n",
       " 'channelId_UCDhM2k2Cua-JdobAh5moMFg',\n",
       " 'channelId_UCDhz7pDsmSL-5TjuB3zmlWQ',\n",
       " 'channelId_UCDi0kbBfktecByFXHMzFkww',\n",
       " 'channelId_UCDih-87kuRMA8uFcrx10Wlw',\n",
       " 'channelId_UCDiohkMMUnwCMz8ZCJFT-cg',\n",
       " 'channelId_UCDk4abvZVdywcJHKbCNnD7A',\n",
       " 'channelId_UCDmmbxGg8g-EBkC_ku6vybg',\n",
       " 'channelId_UCDmpY3ukz9BI4zS56fG-Y7Q',\n",
       " 'channelId_UCDnYJA3OXXhRKYPe3jzLGeQ',\n",
       " 'channelId_UCDoNR057xP_CTmIMjxzUuaA',\n",
       " 'channelId_UCDpnvN85bJjW-9HIHRRV5JQ',\n",
       " 'channelId_UCDrAR1OWC2MD4s0JLetN0MA',\n",
       " 'channelId_UCDt4N8M_RiAPyMmF6iNQ7Vw',\n",
       " 'channelId_UCDuFhvz2zt-7kRgL2jlswGA',\n",
       " 'channelId_UCDww6ExpwQS0TzmREIOo40Q',\n",
       " 'channelId_UCDyc0_OWYXI1WcaMjijHrDA',\n",
       " 'channelId_UCE5NxrQpiYFnUWGhssGIykw',\n",
       " 'channelId_UCE6e9tjKl3l3nGlAcxH7GQg',\n",
       " 'channelId_UCE6thhmKoL7McVWOHgwglmQ',\n",
       " 'channelId_UCE8SAlfZT-T8iwa7aOD8vaQ',\n",
       " 'channelId_UCEBCvw01Vzjs9zDIqt160kA',\n",
       " 'channelId_UCEBN79bwwYNfRWcYYUzrkcw',\n",
       " 'channelId_UCEBNRLMrhuE9oTmzpS5umiA',\n",
       " 'channelId_UCEEmRaEz9RqnfHCHQKdxE4w',\n",
       " 'channelId_UCEExGXSozNsReY3i3s4yhhQ',\n",
       " 'channelId_UCEHYQlrn01RoUMjC5ubcNHQ',\n",
       " 'channelId_UCEI4rb8YldV8v0dVUSo9ToQ',\n",
       " 'channelId_UCEIi7zFR_wE23jFncVtd6-A',\n",
       " 'channelId_UCEKL9UTis2YsqhHPlGDIG5w',\n",
       " 'channelId_UCENNpEHHCiZGb2dk1MHml7Q',\n",
       " 'channelId_UCEPuItFWOOJ2o5hTu65NlEg',\n",
       " 'channelId_UCEQNYZQVU9Ric1VTft_MwrQ',\n",
       " 'channelId_UCERrRsZoaxnLSjX4b1XIA5w',\n",
       " 'channelId_UCESC_GRUe4Z7-OOxk_AWm5Q',\n",
       " 'channelId_UCET00YnetHT7tOpu12v8jxg',\n",
       " 'channelId_UCET3I7YOuGTO31OlYdg2B_w',\n",
       " 'channelId_UCETBLykCDpfP6L0awBd7Vwg',\n",
       " 'channelId_UCETl9S7_tJVExpGWXn3EEJQ',\n",
       " 'channelId_UCETrNUjuH4EoRdZNFx9EI-A',\n",
       " 'channelId_UCEU3spVQMmXrU0Nqhw00Gpg',\n",
       " 'channelId_UCEUL40nXJFCBv9z3Q1V6YMQ',\n",
       " 'channelId_UCEUX9tUYqTFfPQdAgVNsKTA',\n",
       " 'channelId_UCEX1cZB5TL7jyKejXdTXCKA',\n",
       " 'channelId_UCEXyxSVHKuVaCfmBiXf2cPg',\n",
       " 'channelId_UCEb31RoX5RnfYENmnyokN8A',\n",
       " 'channelId_UCEbRSmzD8xASRlYq2OLmCrg',\n",
       " 'channelId_UCEcuyrAqhRVUmRdOd6FGKSw',\n",
       " 'channelId_UCEdZAdnnKqbaHOlv8nM6OtA',\n",
       " 'channelId_UCEer1Gqjz-hK4BhG-abw0nA',\n",
       " 'channelId_UCEfUkoXXYgL_abnA1P90j1g',\n",
       " 'channelId_UCEf_Bc-KVd7onSeifS3py9g',\n",
       " 'channelId_UCEg25rdRZXg32iwai6N6l0w',\n",
       " 'channelId_UCEkcg9WqCX4sGxRQ3uUkekA',\n",
       " 'channelId_UCElvpAmXzVNOSefLLh335qw',\n",
       " 'channelId_UCEn6ZBBE0j5mY-YtQRC1BFg',\n",
       " 'channelId_UCEn8UcA-PNu5ZKr6tZdJ4Kw',\n",
       " 'channelId_UCEnmrWLmKKWYko1XVeQfLGg',\n",
       " 'channelId_UCEqMMsgBKhJXoeTX8buLm7g',\n",
       " 'channelId_UCErafSmvgQ9amW3zRFlTd4g',\n",
       " 'channelId_UCEsWtfVdAK8soPcDuVqu58g',\n",
       " 'channelId_UCEu_YKdz0lMz1NkB3vlUyyw',\n",
       " 'channelId_UCEwOn7PtulhGiick5T_9CyA',\n",
       " 'channelId_UCEwmUXNK69iAugMEahY7glA',\n",
       " 'channelId_UCExLc_PM3kDogai56jyZEtg',\n",
       " 'channelId_UCExw7_EzlOKfNhUiQYvArtg',\n",
       " 'channelId_UCEzZcejf28Oetz9TC5TuqSA',\n",
       " 'channelId_UCF2AFWB3tROplgmkt3nOXIw',\n",
       " 'channelId_UCF2ecghgS_p1F925r-cIfdQ',\n",
       " 'channelId_UCF3UEVPt5zZTlBVJwDG317g',\n",
       " 'channelId_UCF4Wxdo3inmxP-Y59wXDsFw',\n",
       " 'channelId_UCF5gnykb86dwedwxvsRICXg',\n",
       " 'channelId_UCF7jqbJcwyPWwwlUI9EAXRA',\n",
       " 'channelId_UCF8AeLlUbEpKju6v1H6p8Eg',\n",
       " 'channelId_UCF8W68PS2Ltz17lTDSptDvg',\n",
       " 'channelId_UCFB-bTRgw4GoK6cu0QUO_jw',\n",
       " 'channelId_UCFBr_RTe9eJPsISi_yPl65g',\n",
       " 'channelId_UCFC3gwNjb6sZ1b3E-B5Dm5w',\n",
       " 'channelId_UCFCtZJTuJhE18k8IXwmXTYQ',\n",
       " 'channelId_UCFDfNKAgBon_SA6au4Wahmg',\n",
       " 'channelId_UCFEVXX0YX4eT6tdNkXi40vg',\n",
       " 'channelId_UCFGRlWXTec7-A0v0aSTH0vQ',\n",
       " 'channelId_UCFH9VTXreljLA4KHejcVmVg',\n",
       " 'channelId_UCFHP2lLTQmgVtBiFQlzYauQ',\n",
       " 'channelId_UCFI1JS4WBVDLrcf_6hqO_JA',\n",
       " 'channelId_UCFKoZGmbCbIN5nKi-zlIcmw',\n",
       " 'channelId_UCFL1sCAksD6_7JIZwwHcwjQ',\n",
       " 'channelId_UCFL8D3iJ9tVCqTsFpZLZEVQ',\n",
       " 'channelId_UCFLlNLJbGBiMT07N55GId6A',\n",
       " 'channelId_UCFNrw2e8hS83eB3qttGrDsw',\n",
       " 'channelId_UCFOixeB9gbedVi6uwnsfHMQ',\n",
       " 'channelId_UCFPI8MI3zmzTlV4W-oSy-Ig',\n",
       " 'channelId_UCFQ8D7RnvA1_1BWtIJXu86w',\n",
       " 'channelId_UCFRtL4GPsBsvAoJF0gnSOBA',\n",
       " 'channelId_UCFTraNN3eh2mCGEuFqDhPxg',\n",
       " 'channelId_UCFUFuHuxVhyjyi39xTEGFvg',\n",
       " 'channelId_UCFUKn8KciPXlclZs5ki18iQ',\n",
       " 'channelId_UCFUaNjutyVsSvc6dUrkUntw',\n",
       " 'channelId_UCFUpTxU3nlGed-suY-FjjxA',\n",
       " 'channelId_UCFVGfm6kKm07x3B1FaIdMLw',\n",
       " 'channelId_UCFW9yODosz3HEn_ArLC3gYA',\n",
       " 'channelId_UCFX6adXoyQKxft933NB3rmA',\n",
       " 'channelId_UCFXigv26l81ZBaKz6RakL0A',\n",
       " 'channelId_UCF_fDSgPpBQuh1MsUTgIARQ',\n",
       " 'channelId_UCFbK0JW_N5RKajamSf5Cbcw',\n",
       " 'channelId_UCFcTm68PF0OQbr3JwX_SRsw',\n",
       " 'channelId_UCFcqNiSjbOpnYCTCACZ7bhQ',\n",
       " 'channelId_UCFdAdgyV43x3OolPd8RQUig',\n",
       " 'channelId_UCFdUNeQPgh9lXdBQD2Id7vg',\n",
       " 'channelId_UCFehEA7oy78OnRrQRiqfaTQ',\n",
       " 'channelId_UCFfK4rHnI034zostNwzXHIw',\n",
       " 'channelId_UCFfY9A0_VjbJk6_wG7FyJXA',\n",
       " 'channelId_UCFfYg0ARElS5naUXXECoNbw',\n",
       " 'channelId_UCFg3rtPVsLpWsaO7kTURikw',\n",
       " 'channelId_UCFg6o2kwW5U2Cg8MRs5cWEw',\n",
       " 'channelId_UCFgHVn4uiXW9d-eq13ubI3g',\n",
       " 'channelId_UCFhF5oooL5ugxHKvTxBD75Q',\n",
       " 'channelId_UCFiYPUhUzLKoi-cZ0AwpjLA',\n",
       " 'channelId_UCFipx49muiJ8-d2YsnLlNVw',\n",
       " 'channelId_UCFjKZImEGGPqOz7P9UZ0IlQ',\n",
       " 'channelId_UCFnuC4E0kzpJF6vv1OJ7B3Q',\n",
       " 'channelId_UCFoIqYcGMVfWmvnOKzQsggw',\n",
       " 'channelId_UCFoosrYcl0_2ycHkCrfn1Sw',\n",
       " 'channelId_UCFpfKdO4MMSc9ZoMjk2Tikg',\n",
       " 'channelId_UCFqvKeEMGrJfJPEOafy1v4Q',\n",
       " 'channelId_UCFrAB5I66LgzOi15TF4PO6A',\n",
       " 'channelId_UCFsN7km7UVKQTQyPzU13-cw',\n",
       " 'channelId_UCFsyeRb-ShbdPQ2azhd6-fg',\n",
       " 'channelId_UCFw4M1BJYYdN1YtS8SzlDzg',\n",
       " 'channelId_UCFyzGa2KYUAwwuJU-z0EjnA',\n",
       " 'channelId_UCFznPlqnBtRKQhtkm6GGoRQ',\n",
       " 'channelId_UCG-0kPPgZ8OTTAJT4qx4VeA',\n",
       " 'channelId_UCG-Q7s9u-mVZ2iOL7UD6DEw',\n",
       " 'channelId_UCG-coSVp89xFSWN4pbVL53w',\n",
       " 'channelId_UCG1RADxhI5DVVTjlBKEQpYw',\n",
       " 'channelId_UCG1kwSzxyNs2XM0X0jidsXQ',\n",
       " 'channelId_UCG4QzIn0LWD6_uOtfXsHqPw',\n",
       " 'channelId_UCG5bAssl2H0wjLG4BEv5ScQ',\n",
       " 'channelId_UCG7IjFUQzAxx060OjBXOveA',\n",
       " 'channelId_UCG81UKNsFg9Perf0uPQOsQw',\n",
       " 'channelId_UCG9aFJTZ-lMCHAiO1KJsirg',\n",
       " 'channelId_UCGAaUaRRUAnbz3W8XM2QaDw',\n",
       " 'channelId_UCGB0i4FzAaNJ3wadbZWQx4Q',\n",
       " 'channelId_UCGCGxsbmG_9nincyI7xypow',\n",
       " 'channelId_UCGEnF364gHB5y6me8eA4gsQ',\n",
       " 'channelId_UCGFjFGjtqRiAcVxYV036ofA',\n",
       " 'channelId_UCGIGoUoJpPlh62Sw9gVCBBA',\n",
       " 'channelId_UCGIY_O-8vW4rfX98KlMkvRg',\n",
       " 'channelId_UCGIjeBB5ZLBAhQvDxiZpGmw',\n",
       " 'channelId_UCGInHRs1U8glU_g7sXeOJJA',\n",
       " 'channelId_UCGKQ4Tw5nPXMGsoYZHrHYeA',\n",
       " 'channelId_UCGL-5gylJg3G7T7epVBnhtQ',\n",
       " 'channelId_UCGMHKjietlOUD1B1a1jAgkw',\n",
       " 'channelId_UCGMsFBPnR2hcrM0xGoFUL-A',\n",
       " 'channelId_UCGNza5Bq2fQFYquMgd9CeHg',\n",
       " 'channelId_UCGOYrCwp_ks0b4f6XQwaS4Q',\n",
       " 'channelId_UCGTkexpi7LpVwgdzK4D6sHg',\n",
       " 'channelId_UCGW76VChAJKee9kYzvyoycQ',\n",
       " 'channelId_UCGWhMp-M0m1lCE-tSkEolaw',\n",
       " 'channelId_UCGX5sP4ehBkihHwt5bs5wvg',\n",
       " 'channelId_UCGXnSyjMnOKYe8nffKP2eig',\n",
       " 'channelId_UCGYmXLgNJoh5fIqheoVhx4w',\n",
       " 'channelId_UCGYv3tFX_ksKStPG4N2WAag',\n",
       " 'channelId_UCG_cznJui7UMPYbPBLp8vOw',\n",
       " 'channelId_UCG_gfzGVpsxGwYuFgH8-tNA',\n",
       " 'channelId_UCGbytHFBK3JxnHd4pE01Uig',\n",
       " 'channelId_UCGcmtA7H1ILtrsFH_5E62cQ',\n",
       " 'channelId_UCGdZ_-svzY_hPLYVSKvMFvw',\n",
       " 'channelId_UCGiqkgSsKPWI3Sn4mGs54fw',\n",
       " 'channelId_UCGjcqfd2Uj4hAaxNQovbG2A',\n",
       " 'channelId_UCGkkuuFlPzYrlWobq1mOO_Q',\n",
       " 'channelId_UCGnfBj4qulaJjcL_GX71SFw',\n",
       " 'channelId_UCGplVsmdMMjiMFAMmN16Rww',\n",
       " 'channelId_UCGrAnVVgQY66l9XHIzPxQEw',\n",
       " 'channelId_UCGrI0mkbpFHI4BDe-jsBr8A',\n",
       " 'channelId_UCGrZ9Yu14T53h5YLsxOXkCw',\n",
       " 'channelId_UCGrfaHcg6r4JWAZyo_cvKZQ',\n",
       " 'channelId_UCGsJRpGI3iFpf0lIUIgbsBw',\n",
       " 'channelId_UCGsmBWY_WgTcnlF0NidFFPg',\n",
       " 'channelId_UCGsmowjz7ctm9jiKbnmF8EA',\n",
       " 'channelId_UCGuE0TrBNIZKfordUwAQe2w',\n",
       " 'channelId_UCGv8eaHcDr4mRsL-bSFzGjg',\n",
       " 'channelId_UCGwUygnNcB1kcbmWl_jfzlQ',\n",
       " 'channelId_UCGznJ6xII2H4BIXEclV9QEg',\n",
       " 'channelId_UCH0fBunKtwmu3a70m_gszFA',\n",
       " 'channelId_UCH1oRy1dINbMVp3UFWrKP0w',\n",
       " 'channelId_UCH2mJnztSdNh8ADp2KmtUMQ',\n",
       " 'channelId_UCH33CJMcI0XZUpIhWRHiUuw',\n",
       " 'channelId_UCH3mJ-nHxjjny2FJbJaqiDA',\n",
       " 'channelId_UCH5U89kvHrVxxS80xpoOydw',\n",
       " 'channelId_UCH7JoVNZFpo1pOzZH-t5uew',\n",
       " 'channelId_UCH89iJse_8YRE31xtiu1byQ',\n",
       " 'channelId_UCH8Fn_TuAG9wcPyOau4zAsg',\n",
       " ...]"
      ]
     },
     "execution_count": 56,
     "metadata": {},
     "output_type": "execute_result"
    }
   ],
   "source": [
    "list(df_with_dummies.columns)"
   ]
  },
  {
   "cell_type": "code",
   "execution_count": 57,
   "metadata": {
    "colab": {
     "base_uri": "https://localhost:8080/"
    },
    "executionInfo": {
     "elapsed": 1,
     "status": "ok",
     "timestamp": 1718809701410,
     "user": {
      "displayName": "(빅데이터트랙)조성현",
      "userId": "18113896222475999779"
     },
     "user_tz": -540
    },
    "id": "UW1wQXZ4aP2z",
    "outputId": "23a5d299-4e0d-47c5-95ac-1c95cbc1bde4"
   },
   "outputs": [
    {
     "data": {
      "text/plain": [
       "video_id                               object\n",
       "categoryId                              int64\n",
       "view_count_B                          float64\n",
       "description_B                         float64\n",
       "publishedAt_N                         float64\n",
       "                                       ...   \n",
       "channelId_UCzw-C7fNfs018R1FzIKnlaA      int64\n",
       "channelId_UCzxXBQnJy9guqVNM6KXi0Ig      int64\n",
       "channelId_UCzz58-H0wzmGoFi3MO_9ePQ      int64\n",
       "channelId_UCzznO4xSV8BKnUBPyswtCUw      int64\n",
       "channelId_UCzzt6bFEBcy-CoZeFvTSq0A      int64\n",
       "Length: 3424, dtype: object"
      ]
     },
     "execution_count": 57,
     "metadata": {},
     "output_type": "execute_result"
    }
   ],
   "source": [
    "df_with_dummies.dtypes"
   ]
  },
  {
   "cell_type": "code",
   "execution_count": 58,
   "metadata": {
    "id": "iRUl_2JKbVW_"
   },
   "outputs": [],
   "source": [
    "df_with_dummies.to_csv('./KR_youtube_trending_data_without_manufacturing4.csv', index=False)"
   ]
  },
  {
   "cell_type": "markdown",
   "metadata": {
    "id": "-wJ52vZzk37p"
   },
   "source": [
    "# 로지스틱 회귀(Logistic Regression) 분류 모델"
   ]
  },
  {
   "cell_type": "code",
   "execution_count": 59,
   "metadata": {
    "colab": {
     "base_uri": "https://localhost:8080/",
     "height": 228
    },
    "executionInfo": {
     "elapsed": 42444,
     "status": "ok",
     "timestamp": 1718859256947,
     "user": {
      "displayName": "(빅데이터트랙)조성현",
      "userId": "18113896222475999779"
     },
     "user_tz": -540
    },
    "id": "fuD_hAnZt60-",
    "outputId": "c100421b-6b13-4c31-8e3d-dae3797cebb6"
   },
   "outputs": [
    {
     "data": {
      "text/html": [
       "<div>\n",
       "<style scoped>\n",
       "    .dataframe tbody tr th:only-of-type {\n",
       "        vertical-align: middle;\n",
       "    }\n",
       "\n",
       "    .dataframe tbody tr th {\n",
       "        vertical-align: top;\n",
       "    }\n",
       "\n",
       "    .dataframe thead th {\n",
       "        text-align: right;\n",
       "    }\n",
       "</style>\n",
       "<table border=\"1\" class=\"dataframe\">\n",
       "  <thead>\n",
       "    <tr style=\"text-align: right;\">\n",
       "      <th></th>\n",
       "      <th>video_id</th>\n",
       "      <th>categoryId</th>\n",
       "      <th>view_count_B</th>\n",
       "      <th>description_B</th>\n",
       "      <th>publishedAt_N</th>\n",
       "      <th>dislikes_log</th>\n",
       "      <th>comment_count_log</th>\n",
       "      <th>channelId_UC-0229MiVYnQoUxdLJnFl_g</th>\n",
       "      <th>channelId_UC-0C8yVGJy-cS4FGlYKelWw</th>\n",
       "      <th>channelId_UC-0tICWyA0_AJAVMBHL8GdQ</th>\n",
       "      <th>...</th>\n",
       "      <th>channelId_UCzm5GOElgUN-oLutNduDObA</th>\n",
       "      <th>channelId_UCznImSIaxZR7fdLCICLdgaQ</th>\n",
       "      <th>channelId_UCzpOLMBZ6qxhb6GJ5eksq5A</th>\n",
       "      <th>channelId_UCzt24ffdUiJvJAm5HY084aw</th>\n",
       "      <th>channelId_UCzteSXznVjwESizsCcSKSWw</th>\n",
       "      <th>channelId_UCzw-C7fNfs018R1FzIKnlaA</th>\n",
       "      <th>channelId_UCzxXBQnJy9guqVNM6KXi0Ig</th>\n",
       "      <th>channelId_UCzz58-H0wzmGoFi3MO_9ePQ</th>\n",
       "      <th>channelId_UCzznO4xSV8BKnUBPyswtCUw</th>\n",
       "      <th>channelId_UCzzt6bFEBcy-CoZeFvTSq0A</th>\n",
       "    </tr>\n",
       "  </thead>\n",
       "  <tbody>\n",
       "    <tr>\n",
       "      <th>0</th>\n",
       "      <td>uq5LClQN3cE</td>\n",
       "      <td>24</td>\n",
       "      <td>1.0</td>\n",
       "      <td>0.0</td>\n",
       "      <td>1.596966e+09</td>\n",
       "      <td>11.568909</td>\n",
       "      <td>11.849026</td>\n",
       "      <td>0</td>\n",
       "      <td>0</td>\n",
       "      <td>0</td>\n",
       "      <td>...</td>\n",
       "      <td>0</td>\n",
       "      <td>0</td>\n",
       "      <td>0</td>\n",
       "      <td>0</td>\n",
       "      <td>0</td>\n",
       "      <td>0</td>\n",
       "      <td>0</td>\n",
       "      <td>0</td>\n",
       "      <td>0</td>\n",
       "      <td>0</td>\n",
       "    </tr>\n",
       "    <tr>\n",
       "      <th>1</th>\n",
       "      <td>I-ZbZCHsHD0</td>\n",
       "      <td>1</td>\n",
       "      <td>1.0</td>\n",
       "      <td>1.0</td>\n",
       "      <td>1.597223e+09</td>\n",
       "      <td>6.206576</td>\n",
       "      <td>8.114025</td>\n",
       "      <td>0</td>\n",
       "      <td>0</td>\n",
       "      <td>0</td>\n",
       "      <td>...</td>\n",
       "      <td>0</td>\n",
       "      <td>0</td>\n",
       "      <td>0</td>\n",
       "      <td>0</td>\n",
       "      <td>0</td>\n",
       "      <td>0</td>\n",
       "      <td>0</td>\n",
       "      <td>0</td>\n",
       "      <td>0</td>\n",
       "      <td>0</td>\n",
       "    </tr>\n",
       "    <tr>\n",
       "      <th>2</th>\n",
       "      <td>9d7jNUjBoss</td>\n",
       "      <td>22</td>\n",
       "      <td>1.0</td>\n",
       "      <td>0.0</td>\n",
       "      <td>1.597053e+09</td>\n",
       "      <td>11.140411</td>\n",
       "      <td>10.833484</td>\n",
       "      <td>0</td>\n",
       "      <td>0</td>\n",
       "      <td>0</td>\n",
       "      <td>...</td>\n",
       "      <td>0</td>\n",
       "      <td>0</td>\n",
       "      <td>0</td>\n",
       "      <td>0</td>\n",
       "      <td>0</td>\n",
       "      <td>0</td>\n",
       "      <td>0</td>\n",
       "      <td>0</td>\n",
       "      <td>0</td>\n",
       "      <td>0</td>\n",
       "    </tr>\n",
       "  </tbody>\n",
       "</table>\n",
       "<p>3 rows × 3424 columns</p>\n",
       "</div>"
      ],
      "text/plain": [
       "      video_id  categoryId  view_count_B  description_B  publishedAt_N  \\\n",
       "0  uq5LClQN3cE          24           1.0            0.0   1.596966e+09   \n",
       "1  I-ZbZCHsHD0           1           1.0            1.0   1.597223e+09   \n",
       "2  9d7jNUjBoss          22           1.0            0.0   1.597053e+09   \n",
       "\n",
       "   dislikes_log  comment_count_log  channelId_UC-0229MiVYnQoUxdLJnFl_g  \\\n",
       "0     11.568909          11.849026                                   0   \n",
       "1      6.206576           8.114025                                   0   \n",
       "2     11.140411          10.833484                                   0   \n",
       "\n",
       "   channelId_UC-0C8yVGJy-cS4FGlYKelWw  channelId_UC-0tICWyA0_AJAVMBHL8GdQ  \\\n",
       "0                                   0                                   0   \n",
       "1                                   0                                   0   \n",
       "2                                   0                                   0   \n",
       "\n",
       "   ...  channelId_UCzm5GOElgUN-oLutNduDObA  \\\n",
       "0  ...                                   0   \n",
       "1  ...                                   0   \n",
       "2  ...                                   0   \n",
       "\n",
       "   channelId_UCznImSIaxZR7fdLCICLdgaQ  channelId_UCzpOLMBZ6qxhb6GJ5eksq5A  \\\n",
       "0                                   0                                   0   \n",
       "1                                   0                                   0   \n",
       "2                                   0                                   0   \n",
       "\n",
       "   channelId_UCzt24ffdUiJvJAm5HY084aw  channelId_UCzteSXznVjwESizsCcSKSWw  \\\n",
       "0                                   0                                   0   \n",
       "1                                   0                                   0   \n",
       "2                                   0                                   0   \n",
       "\n",
       "   channelId_UCzw-C7fNfs018R1FzIKnlaA  channelId_UCzxXBQnJy9guqVNM6KXi0Ig  \\\n",
       "0                                   0                                   0   \n",
       "1                                   0                                   0   \n",
       "2                                   0                                   0   \n",
       "\n",
       "   channelId_UCzz58-H0wzmGoFi3MO_9ePQ  channelId_UCzznO4xSV8BKnUBPyswtCUw  \\\n",
       "0                                   0                                   0   \n",
       "1                                   0                                   0   \n",
       "2                                   0                                   0   \n",
       "\n",
       "   channelId_UCzzt6bFEBcy-CoZeFvTSq0A  \n",
       "0                                   0  \n",
       "1                                   0  \n",
       "2                                   0  \n",
       "\n",
       "[3 rows x 3424 columns]"
      ]
     },
     "execution_count": 59,
     "metadata": {},
     "output_type": "execute_result"
    }
   ],
   "source": [
    "import pandas as pd       # pandas library 불러내기\n",
    "import numpy as np        # numpy library 불러내기\n",
    "\n",
    "#pd.set_option('display.max_columns', None)   # 결과물로 보여주는 열 갯수 최대화\n",
    "#pd.set_option('display.max_rows', None)      # 결과물로 보여주는 행 갯수 최대화\n",
    "\n",
    "df = pd.read_csv('./KR_youtube_trending_data_without_manufacturing4.csv', lineterminator='\\n')\n",
    "                                             # 데이터파일을 불러와서 데이터프레임(df)에 저장\n",
    "df.head(3)                               # 데이터프레임(df)를 3행까기 보여주기"
   ]
  },
  {
   "cell_type": "code",
   "execution_count": 60,
   "metadata": {
    "id": "nh1iciLLuScW"
   },
   "outputs": [],
   "source": [
    "df1 = df.copy()\n",
    "category_cols = df1.drop(['video_id', 'categoryId', 'view_count_B', 'description_B', 'publishedAt_N', 'dislikes_log', 'comment_count_log'], axis=1).columns.tolist()\n",
    "\n",
    "df[category_cols] = df[category_cols].astype('category')"
   ]
  },
  {
   "cell_type": "code",
   "execution_count": 61,
   "metadata": {
    "colab": {
     "base_uri": "https://localhost:8080/"
    },
    "executionInfo": {
     "elapsed": 10,
     "status": "ok",
     "timestamp": 1718859261430,
     "user": {
      "displayName": "(빅데이터트랙)조성현",
      "userId": "18113896222475999779"
     },
     "user_tz": -540
    },
    "id": "W9UqPq0fvG0i",
    "outputId": "ea768f1a-90ce-4064-a8df-ac2b9e769fbf"
   },
   "outputs": [
    {
     "data": {
      "text/plain": [
       "video_id                                object\n",
       "categoryId                               int64\n",
       "view_count_B                           float64\n",
       "description_B                          float64\n",
       "publishedAt_N                          float64\n",
       "                                        ...   \n",
       "channelId_UCzw-C7fNfs018R1FzIKnlaA    category\n",
       "channelId_UCzxXBQnJy9guqVNM6KXi0Ig    category\n",
       "channelId_UCzz58-H0wzmGoFi3MO_9ePQ    category\n",
       "channelId_UCzznO4xSV8BKnUBPyswtCUw    category\n",
       "channelId_UCzzt6bFEBcy-CoZeFvTSq0A    category\n",
       "Length: 3424, dtype: object"
      ]
     },
     "execution_count": 61,
     "metadata": {},
     "output_type": "execute_result"
    }
   ],
   "source": [
    "df.dtypes"
   ]
  },
  {
   "cell_type": "code",
   "execution_count": 62,
   "metadata": {
    "colab": {
     "base_uri": "https://localhost:8080/"
    },
    "executionInfo": {
     "elapsed": 10,
     "status": "ok",
     "timestamp": 1718859261430,
     "user": {
      "displayName": "(빅데이터트랙)조성현",
      "userId": "18113896222475999779"
     },
     "user_tz": -540
    },
    "id": "M6AX4WxuyWR8",
    "outputId": "40162bf5-ddf4-4fd3-aef0-343d46f35330"
   },
   "outputs": [
    {
     "data": {
      "text/plain": [
       "(27122, 3422)"
      ]
     },
     "execution_count": 62,
     "metadata": {},
     "output_type": "execute_result"
    }
   ],
   "source": [
    "# ID 변수 drop\n",
    "df.drop(['video_id'], axis=1, inplace=True)\n",
    "# 기준 dummy 변수 drop\n",
    "cols = ['channelId_UC-0229MiVYnQoUxdLJnFl_g']\n",
    "df.drop(cols, axis=1, inplace=True)\n",
    "df.shape"
   ]
  },
  {
   "cell_type": "code",
   "execution_count": 63,
   "metadata": {
    "id": "P0FO91rKvgtw"
   },
   "outputs": [],
   "source": [
    "data = df.drop(['view_count_B'], axis=1)   # 타겟변수를 제외한 변수만 data에 저장\n",
    "target = df['view_count_B']                # 타겟변수만 target에 저장"
   ]
  },
  {
   "cell_type": "code",
   "execution_count": 64,
   "metadata": {
    "colab": {
     "base_uri": "https://localhost:8080/"
    },
    "executionInfo": {
     "elapsed": 1299,
     "status": "ok",
     "timestamp": 1718859263217,
     "user": {
      "displayName": "(빅데이터트랙)조성현",
      "userId": "18113896222475999779"
     },
     "user_tz": -540
    },
    "id": "Ikhib3pNvuCK",
    "outputId": "a33fd0ef-33ef-42b1-b448-0ef7ec1adf4a"
   },
   "outputs": [
    {
     "name": "stdout",
     "output_type": "stream",
     "text": [
      "X_train shape: (13561, 3421)\n",
      "X_test shape: (13561, 3421)\n"
     ]
    }
   ],
   "source": [
    "# 50:50 데이터 분할\n",
    "from sklearn.model_selection import train_test_split\n",
    "X_train, X_test, y_train, y_test = train_test_split(\n",
    "    data, target, test_size=0.5, random_state=42, stratify=target)\n",
    "\n",
    "print(\"X_train shape:\", X_train.shape)\n",
    "print(\"X_test shape:\", X_test.shape)"
   ]
  },
  {
   "cell_type": "markdown",
   "metadata": {
    "id": "xU6_WxWXzlGu"
   },
   "source": [
    "Logistic Regression"
   ]
  },
  {
   "cell_type": "code",
   "execution_count": 83,
   "metadata": {
    "colab": {
     "base_uri": "https://localhost:8080/"
    },
    "executionInfo": {
     "elapsed": 7312,
     "status": "ok",
     "timestamp": 1718810036328,
     "user": {
      "displayName": "(빅데이터트랙)조성현",
      "userId": "18113896222475999779"
     },
     "user_tz": -540
    },
    "id": "TGdRu03ExwsZ",
    "outputId": "be56a5a0-9a3b-43dd-b40e-152b99eff8d1"
   },
   "outputs": [
    {
     "name": "stdout",
     "output_type": "stream",
     "text": [
      "Logreg Training set score:0.50063\n",
      "Logreg Test set score:0.50063\n"
     ]
    }
   ],
   "source": [
    "# Logistic Regression 모형 (Default 모델)\n",
    "from sklearn.linear_model import LogisticRegression\n",
    "from sklearn.metrics import accuracy_score\n",
    "lr = LogisticRegression()\n",
    "model = lr.fit(X_train, y_train)\n",
    "pred = model.predict(X_test)\n",
    "\n",
    "print (\"Logreg Training set score:{:.5f}\".format(model.score(X_train, y_train)))\n",
    "print (\"Logreg Test set score:{:.5f}\".format(accuracy_score(y_test, pred)))"
   ]
  },
  {
   "cell_type": "code",
   "execution_count": 66,
   "metadata": {
    "colab": {
     "base_uri": "https://localhost:8080/"
    },
    "executionInfo": {
     "elapsed": 306661,
     "status": "ok",
     "timestamp": 1718810350095,
     "user": {
      "displayName": "(빅데이터트랙)조성현",
      "userId": "18113896222475999779"
     },
     "user_tz": -540
    },
    "id": "vc5LnpP5x3Hz",
    "outputId": "375bdd55-39cb-488b-d364-d83a11ff3f21"
   },
   "outputs": [
    {
     "name": "stderr",
     "output_type": "stream",
     "text": [
      "/opt/anaconda3/envs/nsda/lib/python3.12/site-packages/sklearn/linear_model/_sag.py:348: ConvergenceWarning: The max_iter was reached which means the coef_ did not converge\n",
      "  warnings.warn(\n",
      "/opt/anaconda3/envs/nsda/lib/python3.12/site-packages/sklearn/linear_model/_sag.py:348: ConvergenceWarning: The max_iter was reached which means the coef_ did not converge\n",
      "  warnings.warn(\n",
      "/opt/anaconda3/envs/nsda/lib/python3.12/site-packages/sklearn/linear_model/_sag.py:348: ConvergenceWarning: The max_iter was reached which means the coef_ did not converge\n",
      "  warnings.warn(\n",
      "/opt/anaconda3/envs/nsda/lib/python3.12/site-packages/sklearn/linear_model/_sag.py:348: ConvergenceWarning: The max_iter was reached which means the coef_ did not converge\n",
      "  warnings.warn(\n",
      "/opt/anaconda3/envs/nsda/lib/python3.12/site-packages/sklearn/linear_model/_sag.py:348: ConvergenceWarning: The max_iter was reached which means the coef_ did not converge\n",
      "  warnings.warn(\n"
     ]
    },
    {
     "name": "stdout",
     "output_type": "stream",
     "text": [
      "GridSearchCV max accuracy:0.50063\n",
      "GridSearchCV best parameter: {'penalty': None, 'solver': 'lbfgs'}\n"
     ]
    }
   ],
   "source": [
    "# Logistic Regression 모형 (Default 모델)\n",
    "lr = LogisticRegression(solver='lbfgs',penalty=None,random_state=0,n_jobs=-1)\n",
    "\n",
    "# 그리드 서치\n",
    "from sklearn.model_selection import GridSearchCV\n",
    "params = {'solver':['lbfgs', 'saga'], 'penalty':[None]}\n",
    "\n",
    "grid_lr = GridSearchCV(lr, param_grid=params, scoring='accuracy', cv=5, n_jobs=-1,)\n",
    "grid_lr.fit(X_train, y_train)\n",
    "\n",
    "print(\"GridSearchCV max accuracy:{:.5f}\".format(grid_lr.best_score_))\n",
    "print(\"GridSearchCV best parameter:\", (grid_lr.best_params_))"
   ]
  },
  {
   "cell_type": "code",
   "execution_count": 67,
   "metadata": {
    "colab": {
     "base_uri": "https://localhost:8080/"
    },
    "executionInfo": {
     "elapsed": 1118,
     "status": "ok",
     "timestamp": 1718810384056,
     "user": {
      "displayName": "(빅데이터트랙)조성현",
      "userId": "18113896222475999779"
     },
     "user_tz": -540
    },
    "id": "_Idz9gDnzrCN",
    "outputId": "9356973a-6d81-4241-93fc-0c11fa78ccd1"
   },
   "outputs": [
    {
     "name": "stdout",
     "output_type": "stream",
     "text": [
      "Accuracy on test set:0.50063\n"
     ]
    }
   ],
   "source": [
    "best_clf = grid_lr.best_estimator_\n",
    "pred = best_clf.predict(X_test)\n",
    "print(\"Accuracy on test set:{:.5f}\".format(accuracy_score(y_test, pred)))"
   ]
  },
  {
   "cell_type": "code",
   "execution_count": 68,
   "metadata": {
    "colab": {
     "base_uri": "https://localhost:8080/"
    },
    "executionInfo": {
     "elapsed": 350,
     "status": "ok",
     "timestamp": 1718810442935,
     "user": {
      "displayName": "(빅데이터트랙)조성현",
      "userId": "18113896222475999779"
     },
     "user_tz": -540
    },
    "id": "nMEABslNzu5m",
    "outputId": "d1c68056-62eb-4d9e-9885-ea53475645a0"
   },
   "outputs": [
    {
     "name": "stdout",
     "output_type": "stream",
     "text": [
      "절편 [-1.2732914e-20]\n",
      "회귀계수 [[-6.31333592e-18 -2.72053031e-20 -5.94094682e-13 ... -3.58069581e-21\n",
      "  -1.19357188e-21 -1.19355061e-21]]\n"
     ]
    }
   ],
   "source": [
    "print('절편', best_clf.intercept_)\n",
    "print('회귀계수', best_clf.coef_)"
   ]
  },
  {
   "cell_type": "code",
   "execution_count": 69,
   "metadata": {
    "colab": {
     "base_uri": "https://localhost:8080/",
     "height": 424
    },
    "executionInfo": {
     "elapsed": 543,
     "status": "ok",
     "timestamp": 1718810767975,
     "user": {
      "displayName": "(빅데이터트랙)조성현",
      "userId": "18113896222475999779"
     },
     "user_tz": -540
    },
    "id": "HkF91XfA5cEX",
    "outputId": "3adb218e-c5b2-46bb-d302-03332034c7d4"
   },
   "outputs": [
    {
     "data": {
      "text/html": [
       "<div>\n",
       "<style scoped>\n",
       "    .dataframe tbody tr th:only-of-type {\n",
       "        vertical-align: middle;\n",
       "    }\n",
       "\n",
       "    .dataframe tbody tr th {\n",
       "        vertical-align: top;\n",
       "    }\n",
       "\n",
       "    .dataframe thead th {\n",
       "        text-align: right;\n",
       "    }\n",
       "</style>\n",
       "<table border=\"1\" class=\"dataframe\">\n",
       "  <thead>\n",
       "    <tr style=\"text-align: right;\">\n",
       "      <th></th>\n",
       "      <th>coef</th>\n",
       "    </tr>\n",
       "  </thead>\n",
       "  <tbody>\n",
       "    <tr>\n",
       "      <th>publishedAt_N</th>\n",
       "      <td>-5.940947e-13</td>\n",
       "    </tr>\n",
       "    <tr>\n",
       "      <th>categoryId</th>\n",
       "      <td>-6.313336e-18</td>\n",
       "    </tr>\n",
       "    <tr>\n",
       "      <th>channelId_UCR5cyf8hncN_AaQPfmvmlgA</th>\n",
       "      <td>-2.983653e-20</td>\n",
       "    </tr>\n",
       "    <tr>\n",
       "      <th>channelId_UChY4PXxJI0aJYsGT1X6INWA</th>\n",
       "      <td>-2.864433e-20</td>\n",
       "    </tr>\n",
       "    <tr>\n",
       "      <th>channelId_UCYZv9v_bwfMGc64gLRe34OA</th>\n",
       "      <td>-2.864304e-20</td>\n",
       "    </tr>\n",
       "    <tr>\n",
       "      <th>...</th>\n",
       "      <td>...</td>\n",
       "    </tr>\n",
       "    <tr>\n",
       "      <th>channelId_UCtm_QoN2SIxwCE-59shX7Qg</th>\n",
       "      <td>8.243815e-20</td>\n",
       "    </tr>\n",
       "    <tr>\n",
       "      <th>channelId_UCF4Wxdo3inmxP-Y59wXDsFw</th>\n",
       "      <td>8.601652e-20</td>\n",
       "    </tr>\n",
       "    <tr>\n",
       "      <th>channelId_UCEf_Bc-KVd7onSeifS3py9g</th>\n",
       "      <td>8.601763e-20</td>\n",
       "    </tr>\n",
       "    <tr>\n",
       "      <th>dislikes_log</th>\n",
       "      <td>3.445805e-18</td>\n",
       "    </tr>\n",
       "    <tr>\n",
       "      <th>comment_count_log</th>\n",
       "      <td>1.174450e-17</td>\n",
       "    </tr>\n",
       "  </tbody>\n",
       "</table>\n",
       "<p>3421 rows × 1 columns</p>\n",
       "</div>"
      ],
      "text/plain": [
       "                                            coef\n",
       "publishedAt_N                      -5.940947e-13\n",
       "categoryId                         -6.313336e-18\n",
       "channelId_UCR5cyf8hncN_AaQPfmvmlgA -2.983653e-20\n",
       "channelId_UChY4PXxJI0aJYsGT1X6INWA -2.864433e-20\n",
       "channelId_UCYZv9v_bwfMGc64gLRe34OA -2.864304e-20\n",
       "...                                          ...\n",
       "channelId_UCtm_QoN2SIxwCE-59shX7Qg  8.243815e-20\n",
       "channelId_UCF4Wxdo3inmxP-Y59wXDsFw  8.601652e-20\n",
       "channelId_UCEf_Bc-KVd7onSeifS3py9g  8.601763e-20\n",
       "dislikes_log                        3.445805e-18\n",
       "comment_count_log                   1.174450e-17\n",
       "\n",
       "[3421 rows x 1 columns]"
      ]
     },
     "execution_count": 69,
     "metadata": {},
     "output_type": "execute_result"
    }
   ],
   "source": [
    "# 변수명을 Index로 만들고 coefficient값을 매칭한 데이터프레임 만들기\n",
    "\n",
    "feature_names = list(data.columns)   # 변수명(컬럼명)을 리스트 형태로 만들기\n",
    "dft = pd.DataFrame(best_clf.coef_.transpose(), index=feature_names,\n",
    "                   columns=['coef'])\n",
    "dft1 = dft.sort_values(by='coef', ascending=True)   # 컬럼 coef의 값들을 오름차순으로 정리\n",
    "dft1"
   ]
  },
  {
   "cell_type": "code",
   "execution_count": 70,
   "metadata": {
    "colab": {
     "base_uri": "https://localhost:8080/",
     "height": 424
    },
    "executionInfo": {
     "elapsed": 318,
     "status": "ok",
     "timestamp": 1718810973632,
     "user": {
      "displayName": "(빅데이터트랙)조성현",
      "userId": "18113896222475999779"
     },
     "user_tz": -540
    },
    "id": "lyKWFnB8GdO5",
    "outputId": "c78d2e06-f1cf-4942-fedb-429f4c1fdfc0"
   },
   "outputs": [
    {
     "data": {
      "text/html": [
       "<div>\n",
       "<style scoped>\n",
       "    .dataframe tbody tr th:only-of-type {\n",
       "        vertical-align: middle;\n",
       "    }\n",
       "\n",
       "    .dataframe tbody tr th {\n",
       "        vertical-align: top;\n",
       "    }\n",
       "\n",
       "    .dataframe thead th {\n",
       "        text-align: right;\n",
       "    }\n",
       "</style>\n",
       "<table border=\"1\" class=\"dataframe\">\n",
       "  <thead>\n",
       "    <tr style=\"text-align: right;\">\n",
       "      <th></th>\n",
       "      <th>Odds_ratio</th>\n",
       "    </tr>\n",
       "  </thead>\n",
       "  <tbody>\n",
       "    <tr>\n",
       "      <th>channelId_UCzzt6bFEBcy-CoZeFvTSq0A</th>\n",
       "      <td>1.0</td>\n",
       "    </tr>\n",
       "    <tr>\n",
       "      <th>categoryId</th>\n",
       "      <td>1.0</td>\n",
       "    </tr>\n",
       "    <tr>\n",
       "      <th>description_B</th>\n",
       "      <td>1.0</td>\n",
       "    </tr>\n",
       "    <tr>\n",
       "      <th>channelId_UCzznO4xSV8BKnUBPyswtCUw</th>\n",
       "      <td>1.0</td>\n",
       "    </tr>\n",
       "    <tr>\n",
       "      <th>dislikes_log</th>\n",
       "      <td>1.0</td>\n",
       "    </tr>\n",
       "    <tr>\n",
       "      <th>...</th>\n",
       "      <td>...</td>\n",
       "    </tr>\n",
       "    <tr>\n",
       "      <th>channelId_UC-ORGzN6c-OZyCw9YAYNjkA</th>\n",
       "      <td>1.0</td>\n",
       "    </tr>\n",
       "    <tr>\n",
       "      <th>channelId_UC-OW8mKVeQF48oMsVNOpBVg</th>\n",
       "      <td>1.0</td>\n",
       "    </tr>\n",
       "    <tr>\n",
       "      <th>channelId_UC-OcDPFxfY9Hhdf5P9zq7-A</th>\n",
       "      <td>1.0</td>\n",
       "    </tr>\n",
       "    <tr>\n",
       "      <th>channelId_UC-QNLjGvjEdwqtl3VtcuqgQ</th>\n",
       "      <td>1.0</td>\n",
       "    </tr>\n",
       "    <tr>\n",
       "      <th>publishedAt_N</th>\n",
       "      <td>1.0</td>\n",
       "    </tr>\n",
       "  </tbody>\n",
       "</table>\n",
       "<p>3421 rows × 1 columns</p>\n",
       "</div>"
      ],
      "text/plain": [
       "                                    Odds_ratio\n",
       "channelId_UCzzt6bFEBcy-CoZeFvTSq0A         1.0\n",
       "categoryId                                 1.0\n",
       "description_B                              1.0\n",
       "channelId_UCzznO4xSV8BKnUBPyswtCUw         1.0\n",
       "dislikes_log                               1.0\n",
       "...                                        ...\n",
       "channelId_UC-ORGzN6c-OZyCw9YAYNjkA         1.0\n",
       "channelId_UC-OW8mKVeQF48oMsVNOpBVg         1.0\n",
       "channelId_UC-OcDPFxfY9Hhdf5P9zq7-A         1.0\n",
       "channelId_UC-QNLjGvjEdwqtl3VtcuqgQ         1.0\n",
       "publishedAt_N                              1.0\n",
       "\n",
       "[3421 rows x 1 columns]"
      ]
     },
     "execution_count": 70,
     "metadata": {},
     "output_type": "execute_result"
    }
   ],
   "source": [
    "# 변수명을 Index로 만들고 coefficient값을 제곱한 Odds ratio값을 Index에 매칭한 데이터프레임 만들기\n",
    "\n",
    "feature_names = list(data.columns)   # 변수명(컬럼명)을 리스트 형태로 만들기\n",
    "dft = pd.DataFrame(np.exp(best_clf.coef_).transpose(), index=feature_names,\n",
    "                   columns=['Odds_ratio'])\n",
    "dft1 = dft.sort_values(by='Odds_ratio', ascending=False)   # 컬럼 coef의 값들을 내림차순으로 정리\n",
    "dft1"
   ]
  },
  {
   "cell_type": "code",
   "execution_count": 71,
   "metadata": {
    "colab": {
     "base_uri": "https://localhost:8080/"
    },
    "executionInfo": {
     "elapsed": 338,
     "status": "ok",
     "timestamp": 1718811174294,
     "user": {
      "displayName": "(빅데이터트랙)조성현",
      "userId": "18113896222475999779"
     },
     "user_tz": -540
    },
    "id": "LwihV-rCGldI",
    "outputId": "e5f0bc42-80c3-4fe6-e394-9ae06172b58f"
   },
   "outputs": [
    {
     "name": "stdout",
     "output_type": "stream",
     "text": [
      "Odds Ratio for 'categoryId': 1.0\n",
      "Odds Ratio for 'description_B': 1.0\n",
      "Odds Ratio for 'publishedAt_N': 0.9999999999994059\n",
      "Odds Ratio for 'dislikes_log': 1.0\n",
      "Odds Ratio for 'comment_count_log': 1.0\n"
     ]
    }
   ],
   "source": [
    "categoryId_odds_ratio = dft1.loc['categoryId', 'Odds_ratio']\n",
    "description_B_odds_ratio = dft1.loc['description_B', 'Odds_ratio']\n",
    "publishedAt_N_odds_ratio = dft1.loc['publishedAt_N', 'Odds_ratio']\n",
    "dislikes_log_odds_ratio = dft1.loc['dislikes_log', 'Odds_ratio']\n",
    "comment_count_log_odds_ratio = dft1.loc['comment_count_log', 'Odds_ratio']\n",
    "\n",
    "print(f\"Odds Ratio for 'categoryId': {categoryId_odds_ratio}\")\n",
    "print(f\"Odds Ratio for 'description_B': {description_B_odds_ratio}\")\n",
    "print(f\"Odds Ratio for 'publishedAt_N': {publishedAt_N_odds_ratio}\")\n",
    "print(f\"Odds Ratio for 'dislikes_log': {dislikes_log_odds_ratio}\")\n",
    "print(f\"Odds Ratio for 'comment_count_log': {comment_count_log_odds_ratio}\")"
   ]
  },
  {
   "cell_type": "code",
   "execution_count": 72,
   "metadata": {},
   "outputs": [],
   "source": [
    "from sklearn.metrics import accuracy_score, precision_score, recall_score, f1_score, roc_auc_score, classification_report\n",
    "import numpy as np\n",
    "\n",
    "def get_accuracy(model, X_test, y_test):\n",
    "    pred = model.predict(X_test)\n",
    "    acc = accuracy_score(y_test, pred)\n",
    "    print('{0} Accuracy: {1:.3f}'.format(model.__class__.__name__, acc))\n",
    "    return acc\n",
    "\n",
    "def get_precision(model, X_test, y_test):\n",
    "    pred = model.predict(X_test)\n",
    "    prec = precision_score(y_test, pred, average='macro', zero_division=0)\n",
    "    print('{0} Precision (macro): {1:.3f}'.format(model.__class__.__name__, prec))\n",
    "    return prec\n",
    "\n",
    "def get_recall(model, X_test, y_test):\n",
    "    pred = model.predict(X_test)\n",
    "    rec = recall_score(y_test, pred, average='macro', zero_division=0)\n",
    "    print('{0} Recall (macro): {1:.3f}'.format(model.__class__.__name__, rec))\n",
    "    return rec\n",
    "\n",
    "def get_f1(model, X_test, y_test):\n",
    "    pred = model.predict(X_test)\n",
    "    f1 = f1_score(y_test, pred, average='macro', zero_division=0)\n",
    "    print('{0} F1 Score (macro): {1:.3f}'.format(model.__class__.__name__, f1))\n",
    "    return f1\n",
    "\n",
    "def get_roc_auc(model, X_test, y_test):\n",
    "    try:\n",
    "        proba = model.predict_proba(X_test)\n",
    "        if proba.shape[1] == 2:\n",
    "            auc = roc_auc_score(y_test, proba[:, 1])\n",
    "        else:\n",
    "            auc = roc_auc_score(y_test, proba, multi_class='ovo', average='macro')\n",
    "        print('{0} ROC AUC: {1:.3f}'.format(model.__class__.__name__, auc))\n",
    "        return auc\n",
    "    except:\n",
    "        print('{0} ROC AUC: Not Available (no predict_proba)'.format(model.__class__.__name__))\n",
    "        return None\n",
    "\n",
    "def get_classification_metrics(model, X_test, y_test):\n",
    "    acc = get_accuracy(model, X_test, y_test)\n",
    "    prec = get_precision(model, X_test, y_test)\n",
    "    rec = get_recall(model, X_test, y_test)\n",
    "    f1 = get_f1(model, X_test, y_test)\n",
    "    auc = get_roc_auc(model, X_test, y_test)\n",
    "    return acc, prec, rec, f1, auc"
   ]
  },
  {
   "cell_type": "code",
   "execution_count": 73,
   "metadata": {},
   "outputs": [],
   "source": [
    "def print_classification_metrics(acc, prec, rec, f1, auc):\n",
    "    print(\"분류 모델 평가 결과\")\n",
    "    print(\"=\"*40)\n",
    "    print(f\"Accuracy (정확도): {acc:.3f}\")\n",
    "    print(\"    → 전체 예측 중 정답 비율\")\n",
    "\n",
    "    print(f\"Precision (정밀도, macro): {prec:.3f}\")\n",
    "    print(\"    → 예측한 것 중 실제로 맞은 비율 (클래스별 평균)\")\n",
    "\n",
    "    print(f\"Recall (재현율, macro): {rec:.3f}\")\n",
    "    print(\"    → 실제 정답 중 예측이 맞은 비율 (클래스별 평균)\")\n",
    "\n",
    "    print(f\"F1 Score (macro): {f1:.3f}\")\n",
    "    print(\"    → 정밀도와 재현율의 조화 평균\")\n",
    "\n",
    "    if auc is not None:\n",
    "        print(f\"ROC AUC: {auc:.3f}\")\n",
    "        print(\"    → 클래스 분리 능력 (1에 가까울수록 우수)\")\n",
    "    else:\n",
    "        print(\"ROC AUC: 제공 불가 (predict_proba 없음)\")\n",
    "\n",
    "    print(\"=\"*40)"
   ]
  },
  {
   "cell_type": "code",
   "execution_count": 76,
   "metadata": {},
   "outputs": [],
   "source": [
    "import matplotlib.pyplot as plt\n",
    "import pandas as pd\n",
    "\n",
    "def plot_classification_model_comparison_with_values(results_dict, ylim=(0, 1), figsize=(10, 6)):\n",
    "    \"\"\"\n",
    "    분류 모델별 평가 지표를 시각화하고, 각 지표마다 수치를 텍스트 박스로 표시\n",
    "\n",
    "    Parameters:\n",
    "        results_dict: {'모델이름': (ACC, PREC, REC, F1, ROC AUC)}\n",
    "        figsize: 그래프 크기 (기본: (10, 6))\n",
    "        ylim: y축 범위 (튜플, 기본: (0, 1))\n",
    "    \"\"\"\n",
    "    # 지표 이름\n",
    "    metric_names = ['ACC', 'PREC', 'REC', 'F1', 'ROC AUC']\n",
    "    df = pd.DataFrame(results_dict, index=metric_names)\n",
    "\n",
    "    # 시각화\n",
    "    plt.figure(figsize=figsize)\n",
    "    markers = ['o', 's', '^', 'D', 'v']  # 모델 수 많아질 대비\n",
    "\n",
    "    for i, model_name in enumerate(df.columns):\n",
    "        plt.plot(df.index, df[model_name], marker=markers[i % len(markers)], label=model_name)\n",
    "\n",
    "    plt.title('분류 모델별 평가 지표 비교', fontsize=14)\n",
    "    plt.ylabel('지표값')\n",
    "    plt.grid(True, linestyle='--', alpha=0.5)\n",
    "    plt.legend()\n",
    "\n",
    "    # y축 범위 지정\n",
    "    plt.ylim(*ylim)\n",
    "\n",
    "    # 각 지표별 박스 텍스트 추가\n",
    "    for idx, metric in enumerate(df.index):\n",
    "        y_values = df.loc[metric]\n",
    "        max_y = y_values.max()\n",
    "        margin = (ylim[1] - ylim[0]) * 0.05  # 상한-하한의 5%\n",
    "        text_y = min(max_y + margin, ylim[1] * 1.02)  # ylim 상한을 넘지 않도록 조정\n",
    "\n",
    "        text = \"\\n\".join([f\"{k}: {v:.3f}\" for k, v in y_values.items()])\n",
    "        plt.text(x=idx, y=text_y, s=text,\n",
    "                 ha='center', va='bottom',\n",
    "                 fontsize=9,\n",
    "                 bbox=dict(boxstyle=\"round,pad=0.4\", fc=\"white\", ec=\"gray\", alpha=0.8))\n",
    "\n",
    "    plt.tight_layout()\n",
    "    plt.show()\n"
   ]
  },
  {
   "cell_type": "code",
   "execution_count": 84,
   "metadata": {},
   "outputs": [
    {
     "name": "stdout",
     "output_type": "stream",
     "text": [
      "LogisticRegression Accuracy: 0.501\n",
      "LogisticRegression Precision (macro): 0.250\n",
      "LogisticRegression Recall (macro): 0.500\n",
      "LogisticRegression F1 Score (macro): 0.334\n",
      "LogisticRegression ROC AUC: 0.479\n",
      "분류 모델 평가 결과\n",
      "========================================\n",
      "Accuracy (정확도): 0.501\n",
      "    → 전체 예측 중 정답 비율\n",
      "Precision (정밀도, macro): 0.250\n",
      "    → 예측한 것 중 실제로 맞은 비율 (클래스별 평균)\n",
      "Recall (재현율, macro): 0.500\n",
      "    → 실제 정답 중 예측이 맞은 비율 (클래스별 평균)\n",
      "F1 Score (macro): 0.334\n",
      "    → 정밀도와 재현율의 조화 평균\n",
      "ROC AUC: 0.479\n",
      "    → 클래스 분리 능력 (1에 가까울수록 우수)\n",
      "========================================\n",
      "GridSearchCV Accuracy: 0.501\n",
      "GridSearchCV Precision (macro): 0.250\n",
      "GridSearchCV Recall (macro): 0.500\n",
      "GridSearchCV F1 Score (macro): 0.334\n",
      "GridSearchCV ROC AUC: 0.479\n",
      "분류 모델 평가 결과\n",
      "========================================\n",
      "Accuracy (정확도): 0.501\n",
      "    → 전체 예측 중 정답 비율\n",
      "Precision (정밀도, macro): 0.250\n",
      "    → 예측한 것 중 실제로 맞은 비율 (클래스별 평균)\n",
      "Recall (재현율, macro): 0.500\n",
      "    → 실제 정답 중 예측이 맞은 비율 (클래스별 평균)\n",
      "F1 Score (macro): 0.334\n",
      "    → 정밀도와 재현율의 조화 평균\n",
      "ROC AUC: 0.479\n",
      "    → 클래스 분리 능력 (1에 가까울수록 우수)\n",
      "========================================\n"
     ]
    }
   ],
   "source": [
    "lg_metrics = get_classification_metrics(lr, X_test, y_test)\n",
    "print_classification_metrics(*lg_metrics)\n",
    "\n",
    "lg_grid_metrics = get_classification_metrics(grid_lr, X_test, y_test)\n",
    "print_classification_metrics(*lg_grid_metrics)"
   ]
  },
  {
   "cell_type": "code",
   "execution_count": null,
   "metadata": {},
   "outputs": [
    {
     "name": "stdout",
     "output_type": "stream",
     "text": [
      "현재 설정된 font.family: ['AppleGothic']\n",
      "폰트 파일 경로: /System/Library/Fonts/Supplemental/AppleGothic.ttf\n"
     ]
    },
    {
     "data": {
      "image/png": "[encoded data removed]",
      "text/plain": [
       "<Figure size 1000x600 with 1 Axes>"
      ]
     },
     "metadata": {},
     "output_type": "display_data"
    }
   ],
   "source": [
    "from util_func import font_setter\n",
    "font_setter('/System/Library/Fonts/Supplemental/AppleGothic.ttf')\n",
    "\n",
    "results = {\n",
    "    'Logistic Regression': lg_metrics,\n",
    "    'LR with Grid Search': lg_with_grid_metrics\n",
    "}\n",
    "\n",
    "plot_classification_model_comparison_with_values(results, ylim=(0, 1), figsize=(10, 6))"
   ]
  },
  {
   "cell_type": "code",
   "execution_count": null,
   "metadata": {},
   "outputs": [],
   "source": []
  }
 ],
 "metadata": {
  "colab": {
   "name": "",
   "version": ""
  },
  "kernelspec": {
   "display_name": "nsda",
   "language": "python",
   "name": "python3"
  },
  "language_info": {
   "codemirror_mode": {
    "name": "ipython",
    "version": 3
   },
   "file_extension": ".py",
   "mimetype": "text/x-python",
   "name": "python",
   "nbconvert_exporter": "python",
   "pygments_lexer": "ipython3",
   "version": "3.12.2"
  }
 },
 "nbformat": 4,
 "nbformat_minor": 0
}
